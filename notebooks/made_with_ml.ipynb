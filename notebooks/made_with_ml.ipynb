{
 "cells": [
  {
   "cell_type": "code",
   "execution_count": 1,
   "id": "606d62c0-cdec-498d-8aed-085a01d0147e",
   "metadata": {
    "tags": []
   },
   "outputs": [],
   "source": [
    "import ray\n",
    "import os"
   ]
  },
  {
   "cell_type": "code",
   "execution_count": 2,
   "id": "6088376a-26ad-4897-90f3-7e5302b1824b",
   "metadata": {},
   "outputs": [],
   "source": [
    "#To insert our working directory\n",
    "import sys \n",
    "sys.path.insert(0, 'E:\\\\Machine_Learning_Projects\\\\madewithml\\\\Made_with_ML_project\\\\')\n",
    "import warnings; warnings.filterwarnings(\"ignore\")\n",
    "from dotenv import load_dotenv; load_dotenv()\n",
    "%load_ext autoreload\n",
    "%autoreload 2"
   ]
  },
  {
   "cell_type": "code",
   "execution_count": 3,
   "id": "8df76a49-6abd-413f-b0b2-829474913fc9",
   "metadata": {
    "tags": []
   },
   "outputs": [
    {
     "name": "stderr",
     "output_type": "stream",
     "text": [
      "2024-01-05 09:23:55,310\tINFO worker.py:1633 -- Started a local Ray instance. View the dashboard at \u001b[1m\u001b[32m127.0.0.1:8265 \u001b[39m\u001b[22m\n"
     ]
    },
    {
     "data": {
      "application/vnd.jupyter.widget-view+json": {
       "model_id": "543ce2931cf344a999e54edb5b7181dd",
       "version_major": 2,
       "version_minor": 0
      },
      "text/html": [
       "<div class=\"lm-Widget p-Widget lm-Panel p-Panel jp-Cell-outputWrapper\">\n",
       "    <div style=\"margin-left: 50px;display: flex;flex-direction: row;align-items: center\">\n",
       "        <div class=\"jp-RenderedHTMLCommon\" style=\"display: flex; flex-direction: row;\">\n",
       "  <svg viewBox=\"0 0 567 224\" fill=\"none\" xmlns=\"http://www.w3.org/2000/svg\" style=\"height: 3em;\">\n",
       "    <g clip-path=\"url(#clip0_4338_178347)\">\n",
       "        <path d=\"M341.29 165.561H355.29L330.13 129.051C345.63 123.991 354.21 112.051 354.21 94.2307C354.21 71.3707 338.72 58.1807 311.88 58.1807H271V165.561H283.27V131.661H311.8C314.25 131.661 316.71 131.501 319.01 131.351L341.25 165.561H341.29ZM283.29 119.851V70.0007H311.82C331.3 70.0007 342.34 78.2907 342.34 94.5507C342.34 111.271 331.34 119.861 311.82 119.861L283.29 119.851ZM451.4 138.411L463.4 165.561H476.74L428.74 58.1807H416L367.83 165.561H380.83L392.83 138.411H451.4ZM446.19 126.601H398L422 72.1407L446.24 126.601H446.19ZM526.11 128.741L566.91 58.1807H554.35L519.99 114.181L485.17 58.1807H472.44L514.01 129.181V165.541H526.13V128.741H526.11Z\" fill=\"var(--jp-ui-font-color0)\"/>\n",
       "        <path d=\"M82.35 104.44C84.0187 97.8827 87.8248 92.0678 93.1671 87.9146C98.5094 83.7614 105.083 81.5067 111.85 81.5067C118.617 81.5067 125.191 83.7614 130.533 87.9146C135.875 92.0678 139.681 97.8827 141.35 104.44H163.75C164.476 101.562 165.622 98.8057 167.15 96.2605L127.45 56.5605C121.071 60.3522 113.526 61.6823 106.235 60.3005C98.9443 58.9187 92.4094 54.9203 87.8602 49.0574C83.3109 43.1946 81.0609 35.8714 81.5332 28.4656C82.0056 21.0599 85.1679 14.0819 90.4252 8.8446C95.6824 3.60726 102.672 0.471508 110.08 0.0272655C117.487 -0.416977 124.802 1.86091 130.647 6.4324C136.493 11.0039 140.467 17.5539 141.821 24.8501C143.175 32.1463 141.816 39.6859 138 46.0505L177.69 85.7505C182.31 82.9877 187.58 81.4995 192.962 81.4375C198.345 81.3755 203.648 82.742 208.33 85.3976C213.012 88.0532 216.907 91.9029 219.616 96.5544C222.326 101.206 223.753 106.492 223.753 111.875C223.753 117.258 222.326 122.545 219.616 127.197C216.907 131.848 213.012 135.698 208.33 138.353C203.648 141.009 198.345 142.375 192.962 142.313C187.58 142.251 182.31 140.763 177.69 138L138 177.7C141.808 184.071 143.155 191.614 141.79 198.91C140.424 206.205 136.44 212.75 130.585 217.313C124.731 221.875 117.412 224.141 110.004 223.683C102.596 223.226 95.6103 220.077 90.3621 214.828C85.1139 209.58 81.9647 202.595 81.5072 195.187C81.0497 187.779 83.3154 180.459 87.878 174.605C92.4405 168.751 98.9853 164.766 106.281 163.401C113.576 162.035 121.119 163.383 127.49 167.19L167.19 127.49C165.664 124.941 164.518 122.182 163.79 119.3H141.39C139.721 125.858 135.915 131.673 130.573 135.826C125.231 139.98 118.657 142.234 111.89 142.234C105.123 142.234 98.5494 139.98 93.2071 135.826C87.8648 131.673 84.0587 125.858 82.39 119.3H60C58.1878 126.495 53.8086 132.78 47.6863 136.971C41.5641 141.163 34.1211 142.972 26.7579 142.059C19.3947 141.146 12.6191 137.574 7.70605 132.014C2.79302 126.454 0.0813599 119.29 0.0813599 111.87C0.0813599 104.451 2.79302 97.2871 7.70605 91.7272C12.6191 86.1673 19.3947 82.5947 26.7579 81.6817C34.1211 80.7686 41.5641 82.5781 47.6863 86.7696C53.8086 90.9611 58.1878 97.2456 60 104.44H82.35ZM100.86 204.32C103.407 206.868 106.759 208.453 110.345 208.806C113.93 209.159 117.527 208.258 120.522 206.256C123.517 204.254 125.725 201.276 126.771 197.828C127.816 194.38 127.633 190.677 126.253 187.349C124.874 184.021 122.383 181.274 119.205 179.577C116.027 177.88 112.359 177.337 108.826 178.042C105.293 178.746 102.113 180.654 99.8291 183.44C97.5451 186.226 96.2979 189.718 96.3 193.32C96.2985 195.364 96.7006 197.388 97.4831 199.275C98.2656 201.163 99.4132 202.877 100.86 204.32ZM204.32 122.88C206.868 120.333 208.453 116.981 208.806 113.396C209.159 109.811 208.258 106.214 206.256 103.219C204.254 100.223 201.275 98.0151 197.827 96.97C194.38 95.9249 190.676 96.1077 187.348 97.4873C184.02 98.8669 181.274 101.358 179.577 104.536C177.879 107.714 177.337 111.382 178.041 114.915C178.746 118.448 180.653 121.627 183.439 123.911C186.226 126.195 189.717 127.443 193.32 127.44C195.364 127.443 197.388 127.042 199.275 126.259C201.163 125.476 202.878 124.328 204.32 122.88ZM122.88 19.4205C120.333 16.8729 116.981 15.2876 113.395 14.9347C109.81 14.5817 106.213 15.483 103.218 17.4849C100.223 19.4868 98.0146 22.4654 96.9696 25.9131C95.9245 29.3608 96.1073 33.0642 97.4869 36.3922C98.8665 39.7202 101.358 42.4668 104.535 44.1639C107.713 45.861 111.381 46.4036 114.914 45.6992C118.447 44.9949 121.627 43.0871 123.911 40.301C126.195 37.515 127.442 34.0231 127.44 30.4205C127.44 28.3772 127.038 26.3539 126.255 24.4664C125.473 22.5788 124.326 20.8642 122.88 19.4205ZM19.42 100.86C16.8725 103.408 15.2872 106.76 14.9342 110.345C14.5813 113.93 15.4826 117.527 17.4844 120.522C19.4863 123.518 22.4649 125.726 25.9127 126.771C29.3604 127.816 33.0638 127.633 36.3918 126.254C39.7198 124.874 42.4664 122.383 44.1635 119.205C45.8606 116.027 46.4032 112.359 45.6988 108.826C44.9944 105.293 43.0866 102.114 40.3006 99.8296C37.5145 97.5455 34.0227 96.2983 30.42 96.3005C26.2938 96.3018 22.337 97.9421 19.42 100.86ZM100.86 100.86C98.3125 103.408 96.7272 106.76 96.3742 110.345C96.0213 113.93 96.9226 117.527 98.9244 120.522C100.926 123.518 103.905 125.726 107.353 126.771C110.8 127.816 114.504 127.633 117.832 126.254C121.16 124.874 123.906 122.383 125.604 119.205C127.301 116.027 127.843 112.359 127.139 108.826C126.434 105.293 124.527 102.114 121.741 99.8296C118.955 97.5455 115.463 96.2983 111.86 96.3005C109.817 96.299 107.793 96.701 105.905 97.4835C104.018 98.2661 102.303 99.4136 100.86 100.86Z\" fill=\"#00AEEF\"/>\n",
       "    </g>\n",
       "    <defs>\n",
       "        <clipPath id=\"clip0_4338_178347\">\n",
       "            <rect width=\"566.93\" height=\"223.75\" fill=\"white\"/>\n",
       "        </clipPath>\n",
       "    </defs>\n",
       "  </svg>\n",
       "</div>\n",
       "\n",
       "        <table class=\"jp-RenderedHTMLCommon\" style=\"border-collapse: collapse;color: var(--jp-ui-font-color1);font-size: var(--jp-ui-font-size1);\">\n",
       "    <tr>\n",
       "        <td style=\"text-align: left\"><b>Python version:</b></td>\n",
       "        <td style=\"text-align: left\"><b>3.10.11</b></td>\n",
       "    </tr>\n",
       "    <tr>\n",
       "        <td style=\"text-align: left\"><b>Ray version:</b></td>\n",
       "        <td style=\"text-align: left\"><b>2.7.0</b></td>\n",
       "    </tr>\n",
       "    <tr>\n",
       "    <td style=\"text-align: left\"><b>Dashboard:</b></td>\n",
       "    <td style=\"text-align: left\"><b><a href=\"http://127.0.0.1:8265\" target=\"_blank\">http://127.0.0.1:8265</a></b></td>\n",
       "</tr>\n",
       "\n",
       "</table>\n",
       "\n",
       "    </div>\n",
       "</div>\n"
      ],
      "text/plain": [
       "RayContext(dashboard_url='127.0.0.1:8265', python_version='3.10.11', ray_version='2.7.0', ray_commit='b4bba4717f5ba04ee25580fe8f88eed63ef0c5dc', protocol_version=None)"
      ]
     },
     "execution_count": 3,
     "metadata": {},
     "output_type": "execute_result"
    }
   ],
   "source": [
    "# Initialize Ray\n",
    "if ray.is_initialized():\n",
    "    ray.shutdown()\n",
    "ray.init()"
   ]
  },
  {
   "cell_type": "code",
   "execution_count": 4,
   "id": "5997acb8-ed96-4c1a-8b60-c9d63ca3be55",
   "metadata": {
    "tags": []
   },
   "outputs": [
    {
     "data": {
      "text/plain": [
       "{'node:127.0.0.1': 1.0,\n",
       " 'object_store_memory': 1146995097.0,\n",
       " 'memory': 2293990196.0,\n",
       " 'CPU': 16.0,\n",
       " 'node:__internal_head__': 1.0,\n",
       " 'GPU': 1.0}"
      ]
     },
     "execution_count": 4,
     "metadata": {},
     "output_type": "execute_result"
    }
   ],
   "source": [
    "ray.cluster_resources()"
   ]
  },
  {
   "cell_type": "code",
   "execution_count": 5,
   "id": "cd3d7802-4dc1-474a-8c54-643ac5b4b68f",
   "metadata": {},
   "outputs": [],
   "source": [
    "# Workers (1 g4dn.xlarge)\n",
    "num_workers = 1\n",
    "resources_per_worker={\"CPU\": 7, \"GPU\": 1}"
   ]
  },
  {
   "cell_type": "code",
   "execution_count": 6,
   "id": "f20f89d5-74de-446b-8e4f-c6738926eca8",
   "metadata": {
    "tags": []
   },
   "outputs": [
    {
     "name": "stdout",
     "output_type": "stream",
     "text": [
      "/efs/shared_storage/madewithml/arunkumargudla\n"
     ]
    }
   ],
   "source": [
    "# Storage\n",
    "EFS_DIR = f\"/efs/shared_storage/madewithml/arunkumargudla\"\n",
    "print (EFS_DIR)"
   ]
  },
  {
   "cell_type": "markdown",
   "id": "b629d0e6-046c-4188-a19e-f5de75245928",
   "metadata": {},
   "source": [
    "## Data Ingestion "
   ]
  },
  {
   "cell_type": "code",
   "execution_count": 7,
   "id": "838eec7b-951f-4776-984d-a01cefad3695",
   "metadata": {
    "tags": []
   },
   "outputs": [],
   "source": [
    "import pandas as pd"
   ]
  },
  {
   "cell_type": "code",
   "execution_count": 8,
   "id": "e95f001e-29be-4096-98c7-bf38d9ef932a",
   "metadata": {
    "tags": []
   },
   "outputs": [
    {
     "data": {
      "text/html": [
       "<div>\n",
       "<style scoped>\n",
       "    .dataframe tbody tr th:only-of-type {\n",
       "        vertical-align: middle;\n",
       "    }\n",
       "\n",
       "    .dataframe tbody tr th {\n",
       "        vertical-align: top;\n",
       "    }\n",
       "\n",
       "    .dataframe thead th {\n",
       "        text-align: right;\n",
       "    }\n",
       "</style>\n",
       "<table border=\"1\" class=\"dataframe\">\n",
       "  <thead>\n",
       "    <tr style=\"text-align: right;\">\n",
       "      <th></th>\n",
       "      <th>id</th>\n",
       "      <th>created_on</th>\n",
       "      <th>title</th>\n",
       "      <th>description</th>\n",
       "      <th>tag</th>\n",
       "    </tr>\n",
       "  </thead>\n",
       "  <tbody>\n",
       "    <tr>\n",
       "      <th>0</th>\n",
       "      <td>6</td>\n",
       "      <td>2020-02-20 06:43:18</td>\n",
       "      <td>Comparison between YOLO and RCNN on real world...</td>\n",
       "      <td>Bringing theory to experiment is cool. We can ...</td>\n",
       "      <td>computer-vision</td>\n",
       "    </tr>\n",
       "    <tr>\n",
       "      <th>1</th>\n",
       "      <td>7</td>\n",
       "      <td>2020-02-20 06:47:21</td>\n",
       "      <td>Show, Infer &amp; Tell: Contextual Inference for C...</td>\n",
       "      <td>The beauty of the work lies in the way it arch...</td>\n",
       "      <td>computer-vision</td>\n",
       "    </tr>\n",
       "    <tr>\n",
       "      <th>2</th>\n",
       "      <td>9</td>\n",
       "      <td>2020-02-24 16:24:45</td>\n",
       "      <td>Awesome Graph Classification</td>\n",
       "      <td>A collection of important graph embedding, cla...</td>\n",
       "      <td>other</td>\n",
       "    </tr>\n",
       "    <tr>\n",
       "      <th>3</th>\n",
       "      <td>15</td>\n",
       "      <td>2020-02-28 23:55:26</td>\n",
       "      <td>Awesome Monte Carlo Tree Search</td>\n",
       "      <td>A curated list of Monte Carlo tree search pape...</td>\n",
       "      <td>other</td>\n",
       "    </tr>\n",
       "    <tr>\n",
       "      <th>4</th>\n",
       "      <td>25</td>\n",
       "      <td>2020-03-07 23:04:31</td>\n",
       "      <td>AttentionWalk</td>\n",
       "      <td>A PyTorch Implementation of \"Watch Your Step: ...</td>\n",
       "      <td>other</td>\n",
       "    </tr>\n",
       "  </tbody>\n",
       "</table>\n",
       "</div>"
      ],
      "text/plain": [
       "   id           created_on                                              title   \n",
       "0   6  2020-02-20 06:43:18  Comparison between YOLO and RCNN on real world...  \\\n",
       "1   7  2020-02-20 06:47:21  Show, Infer & Tell: Contextual Inference for C...   \n",
       "2   9  2020-02-24 16:24:45                       Awesome Graph Classification   \n",
       "3  15  2020-02-28 23:55:26                    Awesome Monte Carlo Tree Search   \n",
       "4  25  2020-03-07 23:04:31                                      AttentionWalk   \n",
       "\n",
       "                                         description              tag  \n",
       "0  Bringing theory to experiment is cool. We can ...  computer-vision  \n",
       "1  The beauty of the work lies in the way it arch...  computer-vision  \n",
       "2  A collection of important graph embedding, cla...            other  \n",
       "3  A curated list of Monte Carlo tree search pape...            other  \n",
       "4  A PyTorch Implementation of \"Watch Your Step: ...            other  "
      ]
     },
     "execution_count": 8,
     "metadata": {},
     "output_type": "execute_result"
    }
   ],
   "source": [
    "DATASET_LOC = \"https://raw.githubusercontent.com/GokuMohandas/Made-With-ML/main/datasets/dataset.csv\"\n",
    "df = pd.read_csv(DATASET_LOC)\n",
    "df.head()"
   ]
  },
  {
   "cell_type": "markdown",
   "id": "638cda15-1c26-4f3f-b0b1-465820e312f0",
   "metadata": {},
   "source": [
    "## Data splitting\n",
    "\n",
    "Ideally we will divide data into train and test split\n",
    "\n",
    "Train set will be further divided into train and holdout set for validation (keep in mind of equal distribution of labels so stratify)"
   ]
  },
  {
   "cell_type": "code",
   "execution_count": 9,
   "id": "53f23a93-2c6b-43ae-af48-81442905af1f",
   "metadata": {
    "tags": []
   },
   "outputs": [],
   "source": [
    "from sklearn.model_selection import train_test_split"
   ]
  },
  {
   "cell_type": "code",
   "execution_count": 10,
   "id": "7fd946f9-2b24-4b8c-8c41-7b308749de65",
   "metadata": {
    "tags": []
   },
   "outputs": [
    {
     "data": {
      "text/plain": [
       "tag\n",
       "natural-language-processing    310\n",
       "computer-vision                285\n",
       "other                          106\n",
       "mlops                           63\n",
       "Name: count, dtype: int64"
      ]
     },
     "execution_count": 10,
     "metadata": {},
     "output_type": "execute_result"
    }
   ],
   "source": [
    "df.tag.value_counts()"
   ]
  },
  {
   "cell_type": "code",
   "execution_count": 11,
   "id": "e44ad463-02b4-49f8-a07a-5c95c55eff25",
   "metadata": {
    "tags": []
   },
   "outputs": [],
   "source": [
    "# splitting dataset\n",
    "\n",
    "test_size = 0.2 \n",
    "train_df, val_df = train_test_split(df, stratify=df.tag, test_size=test_size, random_state=1234)"
   ]
  },
  {
   "cell_type": "code",
   "execution_count": 12,
   "id": "3f9188dc-d0f2-480c-b894-bba9428e071d",
   "metadata": {
    "tags": []
   },
   "outputs": [
    {
     "data": {
      "text/plain": [
       "tag\n",
       "natural-language-processing    248\n",
       "computer-vision                228\n",
       "other                           85\n",
       "mlops                           50\n",
       "Name: count, dtype: int64"
      ]
     },
     "execution_count": 12,
     "metadata": {},
     "output_type": "execute_result"
    }
   ],
   "source": [
    "#checking train counts of labels \n",
    "\n",
    "train_df.tag.value_counts()"
   ]
  },
  {
   "cell_type": "code",
   "execution_count": 13,
   "id": "9d2bfe07-1959-4b77-b37b-940ef9ba3aa2",
   "metadata": {
    "tags": []
   },
   "outputs": [
    {
     "data": {
      "text/plain": [
       "tag\n",
       "natural-language-processing    62\n",
       "computer-vision                57\n",
       "other                          21\n",
       "mlops                          13\n",
       "Name: count, dtype: int64"
      ]
     },
     "execution_count": 13,
     "metadata": {},
     "output_type": "execute_result"
    }
   ],
   "source": [
    "val_df.tag.value_counts()"
   ]
  },
  {
   "cell_type": "markdown",
   "id": "c9ae1f94-9f21-438a-a96b-7f660ab866cf",
   "metadata": {},
   "source": [
    "## Exploratory Data Analysis "
   ]
  },
  {
   "cell_type": "code",
   "execution_count": 14,
   "id": "fa137397-7b98-4cd7-998e-e433ce03a3a3",
   "metadata": {
    "tags": []
   },
   "outputs": [],
   "source": [
    "from collections import Counter\n",
    "import matplotlib.pyplot as plt\n",
    "import seaborn as sns\n",
    "sns.set_theme()\n",
    "import warnings\n",
    "warnings.filterwarnings(\"ignore\")\n",
    "from wordcloud import WordCloud, STOPWORDS"
   ]
  },
  {
   "cell_type": "code",
   "execution_count": 15,
   "id": "581da389-8b7a-474d-9009-be4847129275",
   "metadata": {
    "tags": []
   },
   "outputs": [
    {
     "data": {
      "text/plain": [
       "[('natural-language-processing', 310),\n",
       " ('computer-vision', 285),\n",
       " ('other', 106),\n",
       " ('mlops', 63)]"
      ]
     },
     "execution_count": 15,
     "metadata": {},
     "output_type": "execute_result"
    }
   ],
   "source": [
    "# most common tags \n",
    "all_tags = Counter(df.tag)\n",
    "all_tags.most_common()"
   ]
  },
  {
   "cell_type": "code",
   "execution_count": 16,
   "id": "e977d5b4-24ad-4ed2-a59c-0a930e8383b2",
   "metadata": {
    "tags": []
   },
   "outputs": [
    {
     "data": {
      "image/png": "[encoded data removed]",
      "text/plain": [
       "<Figure size 1000x300 with 1 Axes>"
      ]
     },
     "metadata": {},
     "output_type": "display_data"
    }
   ],
   "source": [
    "# plot tag frequenices\n",
    "\n",
    "tag, tag_counts = zip(*all_tags.most_common())\n",
    "plt.figure(figsize=(10,3))\n",
    "ax = sns.barplot(x=list(tag), y=list(tag_counts))\n",
    "plt.title(\"Tag distribution\", fontsize=14)\n",
    "plt.ylabel(\"# of projects\", fontsize=12)\n",
    "plt.show()"
   ]
  },
  {
   "cell_type": "markdown",
   "id": "9ad53684-19c9-4b92-b504-f5c070dd8f8b",
   "metadata": {},
   "source": [
    "### Word CLoud visualization"
   ]
  },
  {
   "cell_type": "code",
   "execution_count": 17,
   "id": "e112f271-5c7a-4015-8c20-d6582d17f1aa",
   "metadata": {
    "tags": []
   },
   "outputs": [
    {
     "data": {
      "text/plain": [
       "<matplotlib.image.AxesImage at 0x243904d8c40>"
      ]
     },
     "execution_count": 17,
     "metadata": {},
     "output_type": "execute_result"
    },
    {
     "data": {
      "image/png": "[encoded data removed]",
      "text/plain": [
       "<Figure size 1000x300 with 1 Axes>"
      ]
     },
     "metadata": {},
     "output_type": "display_data"
    }
   ],
   "source": [
    "#looking at word cloud distribution for each tag based on title feature\n",
    "\n",
    "tag = 'natural-language-processing'\n",
    "plt.figure(figsize=(10, 3))\n",
    "subset = df[df.tag==tag]\n",
    "text = subset.title.values\n",
    "cloud = WordCloud(\n",
    "    stopwords=STOPWORDS, background_color=\"black\", collocations=False,\n",
    "    width=500, height=300).generate(\" \".join(text))\n",
    "plt.axis(\"off\")\n",
    "plt.imshow(cloud)"
   ]
  },
  {
   "cell_type": "code",
   "execution_count": 18,
   "id": "2b231695-d7d1-461b-851c-41d702c6db73",
   "metadata": {
    "tags": []
   },
   "outputs": [
    {
     "data": {
      "text/plain": [
       "<matplotlib.image.AxesImage at 0x243904d8d00>"
      ]
     },
     "execution_count": 18,
     "metadata": {},
     "output_type": "execute_result"
    },
    {
     "data": {
      "image/png": "[encoded data removed]",
      "text/plain": [
       "<Figure size 1000x300 with 1 Axes>"
      ]
     },
     "metadata": {},
     "output_type": "display_data"
    }
   ],
   "source": [
    "#looking at word cloud distribution for each tag based on description feature\n",
    "\n",
    "tag = 'computer-vision'\n",
    "plt.figure(figsize=(10, 3))\n",
    "subset = df[df.tag==tag]\n",
    "text = subset.description.values\n",
    "cloud = WordCloud(\n",
    "    stopwords=STOPWORDS, background_color=\"black\", collocations=False,\n",
    "    width=500, height=300).generate(\" \".join(text))\n",
    "plt.axis(\"off\")\n",
    "plt.imshow(cloud)"
   ]
  },
  {
   "cell_type": "markdown",
   "id": "a71d8565-abe8-4187-869d-0f354298d186",
   "metadata": {},
   "source": [
    "## Data PreProcessing\n",
    "\n",
    "Preprocessing the data via feature engineering, filtering and cleaning. Certain preprocessing steps are global (don't depend on our dataset, ex. lower casing text, removing stop words, etc.) and others are local (constructs are learned only from the training split, ex. vocabulary, standardization, etc.). For the local, dataset-dependent preprocessing steps, we want to ensure that we split the data first before preprocessing to avoid data leaks."
   ]
  },
  {
   "cell_type": "code",
   "execution_count": 19,
   "id": "e9202071-0357-4f41-9506-f93e0bf4055a",
   "metadata": {
    "tags": []
   },
   "outputs": [],
   "source": [
    "import json\n",
    "import nltk\n",
    "from nltk.corpus import stopwords\n",
    "from nltk.stem import PorterStemmer\n",
    "import re"
   ]
  },
  {
   "cell_type": "code",
   "execution_count": 20,
   "id": "eab6b194-1eb7-4189-8aaf-641c18dba6fb",
   "metadata": {
    "tags": []
   },
   "outputs": [],
   "source": [
    "# combining title and description (it could be or not a meaningful feature)\n",
    "\n",
    "df[\"text\"] = df.title + \" \" + df.description"
   ]
  },
  {
   "cell_type": "code",
   "execution_count": 21,
   "id": "6a75902a-eab3-492d-92b4-a7858a57a3c0",
   "metadata": {
    "tags": []
   },
   "outputs": [
    {
     "name": "stderr",
     "output_type": "stream",
     "text": [
      "[nltk_data] Downloading package stopwords to\n",
      "[nltk_data]     C:\\Users\\Lenovo\\AppData\\Roaming\\nltk_data...\n",
      "[nltk_data]   Package stopwords is already up-to-date!\n"
     ]
    }
   ],
   "source": [
    "nltk.download(\"stopwords\")\n",
    "STOPWORDS = stopwords.words(\"english\")"
   ]
  },
  {
   "cell_type": "code",
   "execution_count": 22,
   "id": "26a11d02-2f1a-4520-a808-db80f939db02",
   "metadata": {
    "tags": []
   },
   "outputs": [],
   "source": [
    "def clean_text(text, stopwords=STOPWORDS):\n",
    "    \"\"\"Clean raw text string.\"\"\"\n",
    "    # Lower\n",
    "    text = text.lower()\n",
    "\n",
    "    # Remove stopwords\n",
    "    pattern = re.compile(r'\\b(' + r\"|\".join(stopwords) + r\")\\b\\s*\")\n",
    "    text = pattern.sub('', text)\n",
    "\n",
    "    # Spacing and filters\n",
    "    text = re.sub(r\"([!\\\"'#$%&()*\\+,-./:;<=>?@\\\\\\[\\]^_`{|}~])\", r\" \\1 \", text)  # add spacing\n",
    "    text = re.sub(\"[^A-Za-z0-9]+\", \" \", text)  # remove non alphanumeric chars\n",
    "    text = re.sub(\" +\", \" \", text)  # remove multiple spaces\n",
    "    text = text.strip()  # strip white space at the ends\n",
    "    text = re.sub(r\"http\\S+\", \"\", text)  #  remove links\n",
    "\n",
    "    return text"
   ]
  },
  {
   "cell_type": "code",
   "execution_count": 23,
   "id": "e2cccf7f-7691-45e1-926c-5573ba05f75d",
   "metadata": {
    "tags": []
   },
   "outputs": [
    {
     "name": "stdout",
     "output_type": "stream",
     "text": [
      "Comparison between YOLO and RCNN on real world videos Bringing theory to experiment is cool. We can easily train models in colab and find the results in minutes.\n",
      "comparison yolo rcnn real world videos bringing theory experiment cool easily train models colab find results minutes\n"
     ]
    }
   ],
   "source": [
    "# applying on df \n",
    "\n",
    "original_df = df.copy()\n",
    "df.text = df.text.apply(clean_text)\n",
    "print((f\"{original_df.text.values[0]}\\n{df.text.values[0]}\"))"
   ]
  },
  {
   "cell_type": "code",
   "execution_count": 24,
   "id": "a63510aa-cdcd-4292-9def-5b9c97e78aab",
   "metadata": {
    "tags": []
   },
   "outputs": [
    {
     "data": {
      "text/html": [
       "<div>\n",
       "<style scoped>\n",
       "    .dataframe tbody tr th:only-of-type {\n",
       "        vertical-align: middle;\n",
       "    }\n",
       "\n",
       "    .dataframe tbody tr th {\n",
       "        vertical-align: top;\n",
       "    }\n",
       "\n",
       "    .dataframe thead th {\n",
       "        text-align: right;\n",
       "    }\n",
       "</style>\n",
       "<table border=\"1\" class=\"dataframe\">\n",
       "  <thead>\n",
       "    <tr style=\"text-align: right;\">\n",
       "      <th></th>\n",
       "      <th>text</th>\n",
       "      <th>tag</th>\n",
       "    </tr>\n",
       "  </thead>\n",
       "  <tbody>\n",
       "    <tr>\n",
       "      <th>0</th>\n",
       "      <td>comparison yolo rcnn real world videos bringin...</td>\n",
       "      <td>computer-vision</td>\n",
       "    </tr>\n",
       "    <tr>\n",
       "      <th>1</th>\n",
       "      <td>show infer tell contextual inference creative ...</td>\n",
       "      <td>computer-vision</td>\n",
       "    </tr>\n",
       "    <tr>\n",
       "      <th>2</th>\n",
       "      <td>awesome graph classification collection import...</td>\n",
       "      <td>other</td>\n",
       "    </tr>\n",
       "    <tr>\n",
       "      <th>3</th>\n",
       "      <td>awesome monte carlo tree search curated list m...</td>\n",
       "      <td>other</td>\n",
       "    </tr>\n",
       "    <tr>\n",
       "      <th>4</th>\n",
       "      <td>attentionwalk pytorch implementation watch ste...</td>\n",
       "      <td>other</td>\n",
       "    </tr>\n",
       "  </tbody>\n",
       "</table>\n",
       "</div>"
      ],
      "text/plain": [
       "                                                text              tag\n",
       "0  comparison yolo rcnn real world videos bringin...  computer-vision\n",
       "1  show infer tell contextual inference creative ...  computer-vision\n",
       "2  awesome graph classification collection import...            other\n",
       "3  awesome monte carlo tree search curated list m...            other\n",
       "4  attentionwalk pytorch implementation watch ste...            other"
      ]
     },
     "execution_count": 24,
     "metadata": {},
     "output_type": "execute_result"
    }
   ],
   "source": [
    "# DataFrame cleanup\n",
    "\n",
    "df = df.drop(columns=[\"id\", \"created_on\", \"title\", \"description\"], errors=\"ignore\")  # drop cols\n",
    "df = df.dropna(subset=[\"tag\"])  # drop nulls\n",
    "df = df[[\"text\", \"tag\"]]  # rearrange cols\n",
    "df.head()"
   ]
  },
  {
   "cell_type": "code",
   "execution_count": 25,
   "id": "c5f56f10-02e0-4cc0-9528-5a7c81b48bf6",
   "metadata": {
    "tags": []
   },
   "outputs": [
    {
     "data": {
      "text/plain": [
       "(764, 2)"
      ]
     },
     "execution_count": 25,
     "metadata": {},
     "output_type": "execute_result"
    }
   ],
   "source": [
    "df.shape"
   ]
  },
  {
   "cell_type": "markdown",
   "id": "1e5cb4b2-395f-48ad-a9e5-ffed0bfa48ea",
   "metadata": {},
   "source": [
    "### Encoding"
   ]
  },
  {
   "cell_type": "code",
   "execution_count": 26,
   "id": "a7763546-05ab-45c2-8860-45cedaba3eba",
   "metadata": {
    "tags": []
   },
   "outputs": [
    {
     "data": {
      "text/plain": [
       "{'mlops': 0,\n",
       " 'natural-language-processing': 1,\n",
       " 'computer-vision': 2,\n",
       " 'other': 3}"
      ]
     },
     "execution_count": 26,
     "metadata": {},
     "output_type": "execute_result"
    }
   ],
   "source": [
    "# converting labels into numbers \n",
    "\n",
    "tags = train_df.tag.unique().tolist()\n",
    "num_classes = len(tags)\n",
    "class_to_index = {tag: i for i, tag in enumerate(tags)}\n",
    "class_to_index"
   ]
  },
  {
   "cell_type": "code",
   "execution_count": 27,
   "id": "8ea83660-aebb-4831-8975-1b4cf4c1ce0f",
   "metadata": {
    "tags": []
   },
   "outputs": [
    {
     "data": {
      "text/html": [
       "<div>\n",
       "<style scoped>\n",
       "    .dataframe tbody tr th:only-of-type {\n",
       "        vertical-align: middle;\n",
       "    }\n",
       "\n",
       "    .dataframe tbody tr th {\n",
       "        vertical-align: top;\n",
       "    }\n",
       "\n",
       "    .dataframe thead th {\n",
       "        text-align: right;\n",
       "    }\n",
       "</style>\n",
       "<table border=\"1\" class=\"dataframe\">\n",
       "  <thead>\n",
       "    <tr style=\"text-align: right;\">\n",
       "      <th></th>\n",
       "      <th>text</th>\n",
       "      <th>tag</th>\n",
       "    </tr>\n",
       "  </thead>\n",
       "  <tbody>\n",
       "    <tr>\n",
       "      <th>0</th>\n",
       "      <td>comparison yolo rcnn real world videos bringin...</td>\n",
       "      <td>2</td>\n",
       "    </tr>\n",
       "    <tr>\n",
       "      <th>1</th>\n",
       "      <td>show infer tell contextual inference creative ...</td>\n",
       "      <td>2</td>\n",
       "    </tr>\n",
       "    <tr>\n",
       "      <th>2</th>\n",
       "      <td>awesome graph classification collection import...</td>\n",
       "      <td>3</td>\n",
       "    </tr>\n",
       "    <tr>\n",
       "      <th>3</th>\n",
       "      <td>awesome monte carlo tree search curated list m...</td>\n",
       "      <td>3</td>\n",
       "    </tr>\n",
       "    <tr>\n",
       "      <th>4</th>\n",
       "      <td>attentionwalk pytorch implementation watch ste...</td>\n",
       "      <td>3</td>\n",
       "    </tr>\n",
       "  </tbody>\n",
       "</table>\n",
       "</div>"
      ],
      "text/plain": [
       "                                                text  tag\n",
       "0  comparison yolo rcnn real world videos bringin...    2\n",
       "1  show infer tell contextual inference creative ...    2\n",
       "2  awesome graph classification collection import...    3\n",
       "3  awesome monte carlo tree search curated list m...    3\n",
       "4  attentionwalk pytorch implementation watch ste...    3"
      ]
     },
     "execution_count": 27,
     "metadata": {},
     "output_type": "execute_result"
    }
   ],
   "source": [
    "df[\"tag\"] = df[\"tag\"].map(class_to_index)\n",
    "df.head()"
   ]
  },
  {
   "cell_type": "code",
   "execution_count": 28,
   "id": "fe93283a-60e3-47db-8384-3a12bc9df213",
   "metadata": {
    "tags": []
   },
   "outputs": [],
   "source": [
    "# decoding back the labels to classes \n",
    "\n",
    "def decode(indices, index_to_class):\n",
    "    return [index_to_class[index] for index in indices]"
   ]
  },
  {
   "cell_type": "code",
   "execution_count": 29,
   "id": "db364ac5-e46a-460e-a616-1667c803d63b",
   "metadata": {
    "tags": []
   },
   "outputs": [
    {
     "data": {
      "text/plain": [
       "['computer-vision', 'computer-vision', 'other', 'other', 'other']"
      ]
     },
     "execution_count": 29,
     "metadata": {},
     "output_type": "execute_result"
    }
   ],
   "source": [
    "index_to_class = {v:k for k, v in class_to_index.items()}\n",
    "decode(df.head()[\"tag\"].values, index_to_class=index_to_class)"
   ]
  },
  {
   "cell_type": "markdown",
   "id": "077d580d-661d-4dcf-b823-92ef910d6d55",
   "metadata": {},
   "source": [
    "### Tokenizer\n",
    "\n",
    "Next we'll encode our text as well. Instead of using a random dictionary, we'll use a tokenizer that was used for a pretrained LLM (scibert) to tokenize our text. We'll be fine-tuning this exact model later when we train our model."
   ]
  },
  {
   "cell_type": "code",
   "execution_count": 30,
   "id": "03074fa8-5f6d-470d-ba8b-e3503bfdc25c",
   "metadata": {
    "tags": []
   },
   "outputs": [],
   "source": [
    "# encoding the text feature\n",
    "\n",
    "import numpy as np\n",
    "from transformers import BertTokenizer"
   ]
  },
  {
   "cell_type": "code",
   "execution_count": 31,
   "id": "ab47e301-ec9d-4753-b555-e24079f829f4",
   "metadata": {
    "tags": []
   },
   "outputs": [
    {
     "name": "stdout",
     "output_type": "stream",
     "text": [
      "input_ids: [[  102  2268  1904   190 29155   168  3267  2998   205   103]]\n",
      "attention_mask: [[1 1 1 1 1 1 1 1 1 1]]\n",
      "[CLS] transfer learning with transformers for text classification. [SEP]\n"
     ]
    }
   ],
   "source": [
    "# Initializing Bert tokenizer (explanation)\n",
    "\n",
    "tokenizer = BertTokenizer.from_pretrained(\"allenai/scibert_scivocab_uncased\", return_dict=False)\n",
    "text = \"Transfer learning with transformers for text classification.\"\n",
    "encoded_inputs = tokenizer([text], return_tensors=\"np\", padding=\"longest\")\n",
    "\n",
    "print(\"input_ids:\", encoded_inputs[\"input_ids\"])\n",
    "print(\"attention_mask:\", encoded_inputs[\"attention_mask\"])\n",
    "print(tokenizer.decode(encoded_inputs[\"input_ids\"][0]))"
   ]
  },
  {
   "cell_type": "code",
   "execution_count": 32,
   "id": "914d3a2e-8d8d-4efc-b25d-978381deafec",
   "metadata": {
    "tags": []
   },
   "outputs": [
    {
     "data": {
      "text/plain": [
       "{'input_ids': array([[  102,  2268,  1904,   190, 29155,   168,  3267,  2998,   205,\n",
       "          103]]), 'token_type_ids': array([[0, 0, 0, 0, 0, 0, 0, 0, 0, 0]]), 'attention_mask': array([[1, 1, 1, 1, 1, 1, 1, 1, 1, 1]])}"
      ]
     },
     "execution_count": 32,
     "metadata": {},
     "output_type": "execute_result"
    }
   ],
   "source": [
    "encoded_inputs"
   ]
  },
  {
   "cell_type": "code",
   "execution_count": 33,
   "id": "d8c30fb6-57f5-411f-aa02-d76a44a85219",
   "metadata": {
    "tags": []
   },
   "outputs": [],
   "source": [
    "# creating a function \n",
    "\n",
    "def tokenize(batch):\n",
    "    tokenizer = BertTokenizer.from_pretrained(\"allenai/scibert_scivocab_uncased\", return_dict=False)\n",
    "    encoded_inputs = tokenizer(batch[\"text\"].tolist(), return_tensors=\"np\", padding=\"longest\")\n",
    "    return dict(ids=encoded_inputs[\"input_ids\"], masks=encoded_inputs[\"attention_mask\"], targets=np.array(batch[\"tag\"]))"
   ]
  },
  {
   "cell_type": "code",
   "execution_count": 34,
   "id": "314084f6-5d9a-44e3-8415-70f8b3c3ddde",
   "metadata": {
    "tags": []
   },
   "outputs": [
    {
     "data": {
      "text/plain": [
       "{'ids': array([[  102,  2029,  1778,   609,  6446,  4857,  1332,  2399, 13572,\n",
       "         19125,  1983,  1954,  6240,  3717,  7434,  1262,   537,   201,\n",
       "          1040,   545,  4714,   103]]),\n",
       " 'masks': array([[1, 1, 1, 1, 1, 1, 1, 1, 1, 1, 1, 1, 1, 1, 1, 1, 1, 1, 1, 1, 1, 1]]),\n",
       " 'targets': array([2], dtype=int64)}"
      ]
     },
     "execution_count": 34,
     "metadata": {},
     "output_type": "execute_result"
    }
   ],
   "source": [
    "tokenize(df.head(1))"
   ]
  },
  {
   "cell_type": "code",
   "execution_count": 35,
   "id": "274c0d1a-7222-4f6e-ae85-003a1452e788",
   "metadata": {
    "tags": []
   },
   "outputs": [],
   "source": [
    "# applying all the preprocessing in single function \n",
    "\n",
    "def preprocess(df, class_to_index):\n",
    "    \"\"\"\n",
    "    pre preprocess the given dataframe\n",
    "    \"\"\"\n",
    "    \n",
    "    df[\"text\"] = df.title + \" \" + df.description  # feature engineering \n",
    "    df[\"text\"] = df[\"text\"].apply(clean_text)\n",
    "    df = df.drop(columns=[\"id\", \"created_on\", \"title\", \"description\"], errors=\"ignore\")  # clean dataframe\n",
    "    df = df[[\"text\", \"tag\"]]  # rearrange columns\n",
    "    df[\"tag\"] = df[\"tag\"].map(class_to_index)  # label encoding\n",
    "    outputs = tokenize(df)\n",
    "    return outputs"
   ]
  },
  {
   "cell_type": "code",
   "execution_count": 36,
   "id": "6283d50a-78c9-47ec-8edc-464c295a13d4",
   "metadata": {
    "tags": []
   },
   "outputs": [
    {
     "data": {
      "text/plain": [
       "{'ids': array([[  102,   856,   532, ...,     0,     0,     0],\n",
       "        [  102,  2177, 29155, ...,     0,     0,     0],\n",
       "        [  102,  2180,  3241, ...,     0,     0,     0],\n",
       "        ...,\n",
       "        [  102,   453,  2068, ...,  5730,   432,   103],\n",
       "        [  102, 11268,  1782, ...,     0,     0,     0],\n",
       "        [  102,  1596,   122, ...,     0,     0,     0]]),\n",
       " 'masks': array([[1, 1, 1, ..., 0, 0, 0],\n",
       "        [1, 1, 1, ..., 0, 0, 0],\n",
       "        [1, 1, 1, ..., 0, 0, 0],\n",
       "        ...,\n",
       "        [1, 1, 1, ..., 1, 1, 1],\n",
       "        [1, 1, 1, ..., 0, 0, 0],\n",
       "        [1, 1, 1, ..., 0, 0, 0]]),\n",
       " 'targets': array([0, 1, 1, 1, 1, 2, 1, 2, 3, 1, 2, 2, 1, 1, 2, 2, 2, 2, 1, 2, 0, 1,\n",
       "        1, 1, 1, 1, 2, 1, 2, 0, 3, 2, 0, 1, 1, 1, 1, 2, 1, 1, 0, 2, 3, 3,\n",
       "        3, 0, 2, 1, 3, 3, 1, 1, 1, 1, 2, 1, 2, 2, 2, 3, 2, 1, 1, 3, 1, 0,\n",
       "        1, 2, 2, 2, 3, 2, 3, 2, 3, 2, 1, 1, 3, 3, 3, 1, 1, 2, 3, 0, 1, 1,\n",
       "        1, 1, 3, 3, 0, 2, 3, 2, 2, 1, 1, 3, 2, 3, 1, 1, 1, 1, 2, 0, 0, 2,\n",
       "        1, 1, 2, 2, 1, 1, 0, 3, 1, 2, 2, 1, 0, 2, 3, 1, 3, 1, 2, 3, 1, 1,\n",
       "        3, 3, 2, 1, 1, 0, 1, 3, 1, 1, 2, 2, 0, 0, 2, 1, 1, 1, 2, 3, 2, 1,\n",
       "        1, 2, 0, 1, 1, 3, 2, 1, 1, 2, 1, 2, 3, 1, 2, 2, 1, 2, 1, 2, 1, 3,\n",
       "        2, 2, 0, 1, 2, 2, 1, 2, 2, 1, 3, 2, 2, 1, 2, 2, 3, 2, 1, 1, 1, 1,\n",
       "        2, 2, 2, 0, 2, 1, 0, 2, 1, 3, 1, 1, 1, 1, 2, 1, 3, 3, 2, 1, 0, 1,\n",
       "        2, 0, 2, 2, 3, 1, 1, 2, 1, 1, 1, 1, 1, 2, 1, 1, 2, 1, 2, 2, 1, 2,\n",
       "        0, 2, 2, 1, 1, 2, 2, 2, 2, 2, 1, 1, 2, 3, 2, 1, 0, 2, 1, 2, 2, 1,\n",
       "        1, 2, 1, 2, 2, 1, 1, 2, 1, 2, 2, 2, 3, 2, 1, 2, 0, 2, 2, 1, 2, 3,\n",
       "        2, 1, 1, 1, 1, 1, 2, 1, 1, 2, 1, 2, 3, 2, 1, 2, 2, 2, 1, 2, 2, 2,\n",
       "        2, 1, 1, 2, 2, 1, 2, 2, 2, 2, 1, 1, 2, 1, 2, 2, 1, 3, 3, 0, 1, 3,\n",
       "        0, 2, 1, 1, 1, 1, 1, 0, 2, 1, 3, 2, 1, 2, 2, 1, 1, 3, 0, 3, 3, 2,\n",
       "        1, 1, 3, 3, 2, 3, 1, 1, 3, 1, 0, 1, 1, 1, 3, 0, 2, 2, 2, 1, 1, 2,\n",
       "        2, 1, 3, 2, 0, 1, 1, 1, 2, 1, 1, 1, 2, 1, 1, 2, 0, 3, 0, 1, 2, 1,\n",
       "        3, 2, 3, 2, 2, 0, 2, 3, 2, 2, 2, 1, 2, 1, 1, 1, 2, 1, 1, 1, 1, 1,\n",
       "        2, 2, 1, 2, 1, 1, 2, 2, 3, 1, 2, 2, 3, 2, 1, 1, 2, 0, 2, 0, 1, 1,\n",
       "        2, 1, 1, 3, 1, 1, 1, 1, 1, 3, 1, 2, 1, 0, 3, 1, 3, 2, 2, 1, 1, 3,\n",
       "        2, 1, 2, 1, 3, 1, 2, 2, 1, 2, 2, 2, 1, 0, 3, 2, 1, 3, 1, 1, 2, 1,\n",
       "        2, 2, 0, 1, 2, 1, 2, 2, 3, 1, 1, 2, 2, 1, 2, 2, 0, 0, 1, 2, 1, 1,\n",
       "        2, 1, 1, 2, 1, 1, 3, 2, 3, 1, 2, 2, 3, 0, 1, 1, 2, 1, 2, 1, 1, 1,\n",
       "        1, 1, 2, 1, 3, 1, 0, 2, 1, 3, 1, 2, 2, 1, 0, 2, 3, 2, 3, 2, 1, 1,\n",
       "        1, 2, 1, 2, 1, 2, 1, 3, 2, 2, 2, 2, 2, 1, 2, 0, 1, 0, 1, 2, 2, 1,\n",
       "        2, 3, 2, 1, 2, 2, 2, 3, 1, 3, 2, 1, 2, 2, 2, 1, 3, 1, 1, 2, 2, 1,\n",
       "        2, 3, 2, 2, 0, 1, 2, 2, 2, 0, 1, 2, 1, 3, 0, 2, 3], dtype=int64)}"
      ]
     },
     "execution_count": 36,
     "metadata": {},
     "output_type": "execute_result"
    }
   ],
   "source": [
    "# applying to train df \n",
    "preprocess(train_df, class_to_index)"
   ]
  },
  {
   "cell_type": "markdown",
   "id": "bf4b9cad-de2e-4b8b-a334-628c3b66bb9e",
   "metadata": {},
   "source": [
    "## Distributed Processing \n",
    "\n",
    "The main issue with our approach above is that we're limited by our single machine in terms how much data our dataframe can hold and that we can preprocess. With the increasing trend in ML for larger unstructured datasets and larger models (LLMs), we can quickly outgrow our single machine constraints and will need to go distributed."
   ]
  },
  {
   "cell_type": "code",
   "execution_count": 37,
   "id": "6792a763-d752-4a38-9f57-0e51dfb53610",
   "metadata": {
    "tags": []
   },
   "outputs": [],
   "source": [
    "from ml_scripts.data import stratify_split\n",
    "ray.data.DatasetContext.get_current().execution_options.preserve_order = True"
   ]
  },
  {
   "cell_type": "markdown",
   "id": "3c96cf26-d4e8-40e0-a060-d0d9596afdda",
   "metadata": {},
   "source": [
    "> The only setup we have to do is set Ray to preserve order when acting on our data. This is important for ensuring reproducible and deterministic results."
   ]
  },
  {
   "cell_type": "code",
   "execution_count": 38,
   "id": "17f54c49-5479-4610-8d16-ad120cbaad76",
   "metadata": {},
   "outputs": [
    {
     "name": "stderr",
     "output_type": "stream",
     "text": [
      "2024-01-05 09:24:15,390\tINFO read_api.py:406 -- To satisfy the requested parallelism of 32, each read task output is split into 32 smaller blocks.\n",
      "2024-01-05 09:24:15,417\tINFO dataset.py:2380 -- Tip: Use `take_batch()` instead of `take() / show()` to return records in pandas or numpy batch format.\n",
      "2024-01-05 09:24:15,419\tINFO streaming_executor.py:93 -- Executing DAG InputDataBuffer[Input] -> TaskPoolMapOperator[ReadCSV->SplitBlocks(32)] -> AllToAllOperator[RandomShuffle] -> LimitOperator[limit=1]\n",
      "2024-01-05 09:24:15,420\tINFO streaming_executor.py:94 -- Execution config: ExecutionOptions(resource_limits=ExecutionResources(cpu=None, gpu=None, object_store_memory=None), locality_with_output=False, preserve_order=True, actor_locality_enabled=True, verbose_progress=False)\n",
      "2024-01-05 09:24:15,421\tINFO streaming_executor.py:96 -- Tip: For detailed progress reporting, run `ray.data.DataContext.get_current().execution_options.verbose_progress = True`\n"
     ]
    },
    {
     "data": {
      "application/vnd.jupyter.widget-view+json": {
       "model_id": "",
       "version_major": 2,
       "version_minor": 0
      },
      "text/plain": [
       "- RandomShuffle 1:   0%|          | 0/1024 [00:00<?, ?it/s]"
      ]
     },
     "metadata": {},
     "output_type": "display_data"
    },
    {
     "data": {
      "application/vnd.jupyter.widget-view+json": {
       "model_id": "",
       "version_major": 2,
       "version_minor": 0
      },
      "text/plain": [
       "Shuffle Map 2:   0%|          | 0/1024 [00:00<?, ?it/s]"
      ]
     },
     "metadata": {},
     "output_type": "display_data"
    },
    {
     "data": {
      "application/vnd.jupyter.widget-view+json": {
       "model_id": "",
       "version_major": 2,
       "version_minor": 0
      },
      "text/plain": [
       "Shuffle Reduce 3:   0%|          | 0/1024 [00:00<?, ?it/s]"
      ]
     },
     "metadata": {},
     "output_type": "display_data"
    },
    {
     "data": {
      "application/vnd.jupyter.widget-view+json": {
       "model_id": "",
       "version_major": 2,
       "version_minor": 0
      },
      "text/plain": [
       "Running 0:   0%|          | 0/1 [00:00<?, ?it/s]"
      ]
     },
     "metadata": {},
     "output_type": "display_data"
    },
    {
     "data": {
      "text/plain": [
       "[{'id': 733,\n",
       "  'created_on': datetime.datetime(2020, 5, 6, 4, 30, 47),\n",
       "  'title': 'LandCover.ai',\n",
       "  'description': 'Dataset for automatic mapping of buildings, woodlands and water from aerial imagery.',\n",
       "  'tag': 'computer-vision'}]"
      ]
     },
     "execution_count": 38,
     "metadata": {},
     "output_type": "execute_result"
    }
   ],
   "source": [
    "# data ingestion using Ray Data \n",
    "\n",
    "ds = ray.data.read_csv(DATASET_LOC)\n",
    "ds = ds.random_shuffle(seed=1234)\n",
    "ds.take(1)"
   ]
  },
  {
   "cell_type": "code",
   "execution_count": 39,
   "id": "8c0f3130-0503-4c15-936c-711787e2031a",
   "metadata": {
    "tags": []
   },
   "outputs": [
    {
     "name": "stderr",
     "output_type": "stream",
     "text": [
      "2024-01-05 09:24:17,500\tINFO streaming_executor.py:93 -- Executing DAG InputDataBuffer[Input] -> TaskPoolMapOperator[ReadCSV->SplitBlocks(32)] -> AllToAllOperator[RandomShuffle] -> LimitOperator[limit=1]\n",
      "2024-01-05 09:24:17,500\tINFO streaming_executor.py:94 -- Execution config: ExecutionOptions(resource_limits=ExecutionResources(cpu=None, gpu=None, object_store_memory=None), locality_with_output=False, preserve_order=True, actor_locality_enabled=True, verbose_progress=False)\n",
      "2024-01-05 09:24:17,501\tINFO streaming_executor.py:96 -- Tip: For detailed progress reporting, run `ray.data.DataContext.get_current().execution_options.verbose_progress = True`\n"
     ]
    },
    {
     "data": {
      "application/vnd.jupyter.widget-view+json": {
       "model_id": "",
       "version_major": 2,
       "version_minor": 0
      },
      "text/plain": [
       "- RandomShuffle 1:   0%|          | 0/1024 [00:00<?, ?it/s]"
      ]
     },
     "metadata": {},
     "output_type": "display_data"
    },
    {
     "data": {
      "application/vnd.jupyter.widget-view+json": {
       "model_id": "",
       "version_major": 2,
       "version_minor": 0
      },
      "text/plain": [
       "Shuffle Map 2:   0%|          | 0/1024 [00:00<?, ?it/s]"
      ]
     },
     "metadata": {},
     "output_type": "display_data"
    },
    {
     "data": {
      "application/vnd.jupyter.widget-view+json": {
       "model_id": "",
       "version_major": 2,
       "version_minor": 0
      },
      "text/plain": [
       "Shuffle Reduce 3:   0%|          | 0/1024 [00:00<?, ?it/s]"
      ]
     },
     "metadata": {},
     "output_type": "display_data"
    },
    {
     "data": {
      "application/vnd.jupyter.widget-view+json": {
       "model_id": "",
       "version_major": 2,
       "version_minor": 0
      },
      "text/plain": [
       "Running 0:   0%|          | 0/1 [00:00<?, ?it/s]"
      ]
     },
     "metadata": {},
     "output_type": "display_data"
    }
   ],
   "source": [
    " # Split dataset using Ray's tarin test\n",
    "\n",
    "test_size = 0.2\n",
    "train_ds, val_ds = stratify_split(ds, stratify=\"tag\", test_size=test_size)"
   ]
  },
  {
   "cell_type": "code",
   "execution_count": 40,
   "id": "bcc42723-ff79-497a-aeac-4eb40c6efa4a",
   "metadata": {
    "tags": []
   },
   "outputs": [
    {
     "name": "stderr",
     "output_type": "stream",
     "text": [
      "2024-01-05 09:24:18,104\tINFO streaming_executor.py:93 -- Executing DAG InputDataBuffer[Input] -> TaskPoolMapOperator[ReadCSV->SplitBlocks(32)] -> AllToAllOperator[RandomShuffle] -> AllToAllOperator[Sort] -> AllToAllOperator[MapBatches(group_fn)->MapBatches(_filter_split)->RandomShuffle] -> LimitOperator[limit=1]\n",
      "2024-01-05 09:24:18,105\tINFO streaming_executor.py:94 -- Execution config: ExecutionOptions(resource_limits=ExecutionResources(cpu=None, gpu=None, object_store_memory=None), locality_with_output=False, preserve_order=True, actor_locality_enabled=True, verbose_progress=False)\n",
      "2024-01-05 09:24:18,105\tINFO streaming_executor.py:96 -- Tip: For detailed progress reporting, run `ray.data.DataContext.get_current().execution_options.verbose_progress = True`\n"
     ]
    },
    {
     "data": {
      "application/vnd.jupyter.widget-view+json": {
       "model_id": "",
       "version_major": 2,
       "version_minor": 0
      },
      "text/plain": [
       "- RandomShuffle 1:   0%|          | 0/1024 [00:00<?, ?it/s]"
      ]
     },
     "metadata": {},
     "output_type": "display_data"
    },
    {
     "data": {
      "application/vnd.jupyter.widget-view+json": {
       "model_id": "",
       "version_major": 2,
       "version_minor": 0
      },
      "text/plain": [
       "Shuffle Map 2:   0%|          | 0/1024 [00:00<?, ?it/s]"
      ]
     },
     "metadata": {},
     "output_type": "display_data"
    },
    {
     "data": {
      "application/vnd.jupyter.widget-view+json": {
       "model_id": "",
       "version_major": 2,
       "version_minor": 0
      },
      "text/plain": [
       "Shuffle Reduce 3:   0%|          | 0/1024 [00:00<?, ?it/s]"
      ]
     },
     "metadata": {},
     "output_type": "display_data"
    },
    {
     "data": {
      "application/vnd.jupyter.widget-view+json": {
       "model_id": "",
       "version_major": 2,
       "version_minor": 0
      },
      "text/plain": [
       "- Sort 4:   0%|          | 0/1024 [00:00<?, ?it/s]"
      ]
     },
     "metadata": {},
     "output_type": "display_data"
    },
    {
     "data": {
      "application/vnd.jupyter.widget-view+json": {
       "model_id": "",
       "version_major": 2,
       "version_minor": 0
      },
      "text/plain": [
       "Sort Sample 5:   0%|          | 0/1024 [00:00<?, ?it/s]"
      ]
     },
     "metadata": {},
     "output_type": "display_data"
    },
    {
     "data": {
      "application/vnd.jupyter.widget-view+json": {
       "model_id": "",
       "version_major": 2,
       "version_minor": 0
      },
      "text/plain": [
       "Shuffle Map 6:   0%|          | 0/1024 [00:00<?, ?it/s]"
      ]
     },
     "metadata": {},
     "output_type": "display_data"
    },
    {
     "data": {
      "application/vnd.jupyter.widget-view+json": {
       "model_id": "",
       "version_major": 2,
       "version_minor": 0
      },
      "text/plain": [
       "Shuffle Reduce 7:   0%|          | 0/1024 [00:00<?, ?it/s]"
      ]
     },
     "metadata": {},
     "output_type": "display_data"
    },
    {
     "data": {
      "application/vnd.jupyter.widget-view+json": {
       "model_id": "",
       "version_major": 2,
       "version_minor": 0
      },
      "text/plain": [
       "- MapBatches(group_fn)->MapBatches(_filter_split)->RandomShuffle 8:   0%|          | 0/1024 [00:00<?, ?it/s]"
      ]
     },
     "metadata": {},
     "output_type": "display_data"
    },
    {
     "data": {
      "application/vnd.jupyter.widget-view+json": {
       "model_id": "",
       "version_major": 2,
       "version_minor": 0
      },
      "text/plain": [
       "Shuffle Map 9:   0%|          | 0/1024 [00:00<?, ?it/s]"
      ]
     },
     "metadata": {},
     "output_type": "display_data"
    },
    {
     "data": {
      "application/vnd.jupyter.widget-view+json": {
       "model_id": "",
       "version_major": 2,
       "version_minor": 0
      },
      "text/plain": [
       "Shuffle Reduce 10:   0%|          | 0/1024 [00:00<?, ?it/s]"
      ]
     },
     "metadata": {},
     "output_type": "display_data"
    },
    {
     "data": {
      "application/vnd.jupyter.widget-view+json": {
       "model_id": "",
       "version_major": 2,
       "version_minor": 0
      },
      "text/plain": [
       "Running 0:   0%|          | 0/1 [00:00<?, ?it/s]"
      ]
     },
     "metadata": {},
     "output_type": "display_data"
    },
    {
     "data": {
      "application/vnd.jupyter.widget-view+json": {
       "model_id": "",
       "version_major": 2,
       "version_minor": 0
      },
      "text/plain": [
       "Sort Sample 0:   0%|          | 0/32 [00:00<?, ?it/s]"
      ]
     },
     "metadata": {},
     "output_type": "display_data"
    },
    {
     "name": "stderr",
     "output_type": "stream",
     "text": [
      "2024-01-05 09:24:19,975\tINFO streaming_executor.py:93 -- Executing DAG InputDataBuffer[Input] -> TaskPoolMapOperator[ReadCSV->SplitBlocks(32)] -> AllToAllOperator[RandomShuffle] -> AllToAllOperator[Sort] -> AllToAllOperator[MapBatches(group_fn)->MapBatches(_filter_split)->RandomShuffle] -> AllToAllOperator[Aggregate] -> TaskPoolMapOperator[MapBatches(<lambda>)]\n",
      "2024-01-05 09:24:19,977\tINFO streaming_executor.py:94 -- Execution config: ExecutionOptions(resource_limits=ExecutionResources(cpu=None, gpu=None, object_store_memory=None), locality_with_output=False, preserve_order=True, actor_locality_enabled=True, verbose_progress=False)\n",
      "2024-01-05 09:24:19,980\tINFO streaming_executor.py:96 -- Tip: For detailed progress reporting, run `ray.data.DataContext.get_current().execution_options.verbose_progress = True`\n"
     ]
    },
    {
     "data": {
      "application/vnd.jupyter.widget-view+json": {
       "model_id": "",
       "version_major": 2,
       "version_minor": 0
      },
      "text/plain": [
       "- RandomShuffle 1:   0%|          | 0/1024 [00:00<?, ?it/s]"
      ]
     },
     "metadata": {},
     "output_type": "display_data"
    },
    {
     "data": {
      "application/vnd.jupyter.widget-view+json": {
       "model_id": "",
       "version_major": 2,
       "version_minor": 0
      },
      "text/plain": [
       "Shuffle Map 2:   0%|          | 0/1024 [00:00<?, ?it/s]"
      ]
     },
     "metadata": {},
     "output_type": "display_data"
    },
    {
     "data": {
      "application/vnd.jupyter.widget-view+json": {
       "model_id": "",
       "version_major": 2,
       "version_minor": 0
      },
      "text/plain": [
       "Shuffle Reduce 3:   0%|          | 0/1024 [00:00<?, ?it/s]"
      ]
     },
     "metadata": {},
     "output_type": "display_data"
    },
    {
     "data": {
      "application/vnd.jupyter.widget-view+json": {
       "model_id": "",
       "version_major": 2,
       "version_minor": 0
      },
      "text/plain": [
       "- Sort 4:   0%|          | 0/1024 [00:00<?, ?it/s]"
      ]
     },
     "metadata": {},
     "output_type": "display_data"
    },
    {
     "data": {
      "application/vnd.jupyter.widget-view+json": {
       "model_id": "",
       "version_major": 2,
       "version_minor": 0
      },
      "text/plain": [
       "Sort Sample 5:   0%|          | 0/1024 [00:00<?, ?it/s]"
      ]
     },
     "metadata": {},
     "output_type": "display_data"
    },
    {
     "data": {
      "application/vnd.jupyter.widget-view+json": {
       "model_id": "",
       "version_major": 2,
       "version_minor": 0
      },
      "text/plain": [
       "Shuffle Map 6:   0%|          | 0/1024 [00:00<?, ?it/s]"
      ]
     },
     "metadata": {},
     "output_type": "display_data"
    },
    {
     "data": {
      "application/vnd.jupyter.widget-view+json": {
       "model_id": "",
       "version_major": 2,
       "version_minor": 0
      },
      "text/plain": [
       "Shuffle Reduce 7:   0%|          | 0/1024 [00:00<?, ?it/s]"
      ]
     },
     "metadata": {},
     "output_type": "display_data"
    },
    {
     "data": {
      "application/vnd.jupyter.widget-view+json": {
       "model_id": "",
       "version_major": 2,
       "version_minor": 0
      },
      "text/plain": [
       "- MapBatches(group_fn)->MapBatches(_filter_split)->RandomShuffle 8:   0%|          | 0/1024 [00:00<?, ?it/s]"
      ]
     },
     "metadata": {},
     "output_type": "display_data"
    },
    {
     "data": {
      "application/vnd.jupyter.widget-view+json": {
       "model_id": "",
       "version_major": 2,
       "version_minor": 0
      },
      "text/plain": [
       "Shuffle Map 9:   0%|          | 0/1024 [00:00<?, ?it/s]"
      ]
     },
     "metadata": {},
     "output_type": "display_data"
    },
    {
     "data": {
      "application/vnd.jupyter.widget-view+json": {
       "model_id": "",
       "version_major": 2,
       "version_minor": 0
      },
      "text/plain": [
       "Shuffle Reduce 10:   0%|          | 0/1024 [00:00<?, ?it/s]"
      ]
     },
     "metadata": {},
     "output_type": "display_data"
    },
    {
     "data": {
      "application/vnd.jupyter.widget-view+json": {
       "model_id": "",
       "version_major": 2,
       "version_minor": 0
      },
      "text/plain": [
       "- Aggregate 11:   0%|          | 0/1024 [00:00<?, ?it/s]"
      ]
     },
     "metadata": {},
     "output_type": "display_data"
    },
    {
     "data": {
      "application/vnd.jupyter.widget-view+json": {
       "model_id": "",
       "version_major": 2,
       "version_minor": 0
      },
      "text/plain": [
       "Shuffle Map 12:   0%|          | 0/1024 [00:00<?, ?it/s]"
      ]
     },
     "metadata": {},
     "output_type": "display_data"
    },
    {
     "data": {
      "application/vnd.jupyter.widget-view+json": {
       "model_id": "",
       "version_major": 2,
       "version_minor": 0
      },
      "text/plain": [
       "Shuffle Reduce 13:   0%|          | 0/1024 [00:00<?, ?it/s]"
      ]
     },
     "metadata": {},
     "output_type": "display_data"
    },
    {
     "data": {
      "application/vnd.jupyter.widget-view+json": {
       "model_id": "",
       "version_major": 2,
       "version_minor": 0
      },
      "text/plain": [
       "Running 0:   0%|          | 0/1024 [00:00<?, ?it/s]"
      ]
     },
     "metadata": {},
     "output_type": "display_data"
    },
    {
     "data": {
      "application/vnd.jupyter.widget-view+json": {
       "model_id": "",
       "version_major": 2,
       "version_minor": 0
      },
      "text/plain": [
       "Sort Sample 0:   0%|          | 0/32 [00:00<?, ?it/s]"
      ]
     },
     "metadata": {},
     "output_type": "display_data"
    },
    {
     "data": {
      "application/vnd.jupyter.widget-view+json": {
       "model_id": "",
       "version_major": 2,
       "version_minor": 0
      },
      "text/plain": [
       "Sort Sample 0:   0%|          | 0/32 [00:00<?, ?it/s]"
      ]
     },
     "metadata": {},
     "output_type": "display_data"
    }
   ],
   "source": [
    "# preprocessing using Ray \n",
    "\n",
    "tags = train_ds.unique(column='tag')\n",
    "class_to_index = {tag: i for i, tag in enumerate(tags)}\n"
   ]
  },
  {
   "cell_type": "code",
   "execution_count": 41,
   "id": "6f740a9f-b895-46f2-9457-0ebb6f4d9192",
   "metadata": {
    "tags": []
   },
   "outputs": [
    {
     "name": "stderr",
     "output_type": "stream",
     "text": [
      "2024-01-05 09:24:21,342\tINFO streaming_executor.py:93 -- Executing DAG InputDataBuffer[Input] -> TaskPoolMapOperator[ReadCSV->SplitBlocks(32)] -> AllToAllOperator[RandomShuffle] -> AllToAllOperator[Sort] -> AllToAllOperator[MapBatches(group_fn)->MapBatches(_filter_split)->RandomShuffle] -> TaskPoolMapOperator[MapBatches(preprocess)] -> LimitOperator[limit=1]\n",
      "2024-01-05 09:24:21,343\tINFO streaming_executor.py:94 -- Execution config: ExecutionOptions(resource_limits=ExecutionResources(cpu=None, gpu=None, object_store_memory=None), locality_with_output=False, preserve_order=True, actor_locality_enabled=True, verbose_progress=False)\n",
      "2024-01-05 09:24:21,344\tINFO streaming_executor.py:96 -- Tip: For detailed progress reporting, run `ray.data.DataContext.get_current().execution_options.verbose_progress = True`\n"
     ]
    },
    {
     "data": {
      "application/vnd.jupyter.widget-view+json": {
       "model_id": "",
       "version_major": 2,
       "version_minor": 0
      },
      "text/plain": [
       "- RandomShuffle 1:   0%|          | 0/1024 [00:00<?, ?it/s]"
      ]
     },
     "metadata": {},
     "output_type": "display_data"
    },
    {
     "data": {
      "application/vnd.jupyter.widget-view+json": {
       "model_id": "",
       "version_major": 2,
       "version_minor": 0
      },
      "text/plain": [
       "Shuffle Map 2:   0%|          | 0/1024 [00:00<?, ?it/s]"
      ]
     },
     "metadata": {},
     "output_type": "display_data"
    },
    {
     "data": {
      "application/vnd.jupyter.widget-view+json": {
       "model_id": "",
       "version_major": 2,
       "version_minor": 0
      },
      "text/plain": [
       "Shuffle Reduce 3:   0%|          | 0/1024 [00:00<?, ?it/s]"
      ]
     },
     "metadata": {},
     "output_type": "display_data"
    },
    {
     "data": {
      "application/vnd.jupyter.widget-view+json": {
       "model_id": "",
       "version_major": 2,
       "version_minor": 0
      },
      "text/plain": [
       "- Sort 4:   0%|          | 0/1024 [00:00<?, ?it/s]"
      ]
     },
     "metadata": {},
     "output_type": "display_data"
    },
    {
     "data": {
      "application/vnd.jupyter.widget-view+json": {
       "model_id": "",
       "version_major": 2,
       "version_minor": 0
      },
      "text/plain": [
       "Sort Sample 5:   0%|          | 0/1024 [00:00<?, ?it/s]"
      ]
     },
     "metadata": {},
     "output_type": "display_data"
    },
    {
     "data": {
      "application/vnd.jupyter.widget-view+json": {
       "model_id": "",
       "version_major": 2,
       "version_minor": 0
      },
      "text/plain": [
       "Shuffle Map 6:   0%|          | 0/1024 [00:00<?, ?it/s]"
      ]
     },
     "metadata": {},
     "output_type": "display_data"
    },
    {
     "data": {
      "application/vnd.jupyter.widget-view+json": {
       "model_id": "",
       "version_major": 2,
       "version_minor": 0
      },
      "text/plain": [
       "Shuffle Reduce 7:   0%|          | 0/1024 [00:00<?, ?it/s]"
      ]
     },
     "metadata": {},
     "output_type": "display_data"
    },
    {
     "data": {
      "application/vnd.jupyter.widget-view+json": {
       "model_id": "",
       "version_major": 2,
       "version_minor": 0
      },
      "text/plain": [
       "- MapBatches(group_fn)->MapBatches(_filter_split)->RandomShuffle 8:   0%|          | 0/1024 [00:00<?, ?it/s]"
      ]
     },
     "metadata": {},
     "output_type": "display_data"
    },
    {
     "data": {
      "application/vnd.jupyter.widget-view+json": {
       "model_id": "",
       "version_major": 2,
       "version_minor": 0
      },
      "text/plain": [
       "Shuffle Map 9:   0%|          | 0/1024 [00:00<?, ?it/s]"
      ]
     },
     "metadata": {},
     "output_type": "display_data"
    },
    {
     "data": {
      "application/vnd.jupyter.widget-view+json": {
       "model_id": "",
       "version_major": 2,
       "version_minor": 0
      },
      "text/plain": [
       "Shuffle Reduce 10:   0%|          | 0/1024 [00:00<?, ?it/s]"
      ]
     },
     "metadata": {},
     "output_type": "display_data"
    },
    {
     "data": {
      "application/vnd.jupyter.widget-view+json": {
       "model_id": "",
       "version_major": 2,
       "version_minor": 0
      },
      "text/plain": [
       "Running 0:   0%|          | 0/1 [00:00<?, ?it/s]"
      ]
     },
     "metadata": {},
     "output_type": "display_data"
    },
    {
     "data": {
      "application/vnd.jupyter.widget-view+json": {
       "model_id": "",
       "version_major": 2,
       "version_minor": 0
      },
      "text/plain": [
       "Sort Sample 0:   0%|          | 0/32 [00:00<?, ?it/s]"
      ]
     },
     "metadata": {},
     "output_type": "display_data"
    },
    {
     "name": "stdout",
     "output_type": "stream",
     "text": [
      "{'ids': array([  102,  3928,   255,  1861, 30138, 30118,  5702,  2112,   255,\n",
      "        2641,  4631,  1904,  1313, 15095,   103,     0,     0,     0,\n",
      "           0,     0,     0,     0,     0,     0,     0,     0,     0,\n",
      "           0,     0]), 'masks': array([1, 1, 1, 1, 1, 1, 1, 1, 1, 1, 1, 1, 1, 1, 1, 0, 0, 0, 0, 0, 0, 0,\n",
      "       0, 0, 0, 0, 0, 0, 0]), 'targets': 0}\n"
     ]
    }
   ],
   "source": [
    "# Distributed preprocessing \n",
    "\n",
    "sample_ds = train_ds.map_batches(\n",
    "  preprocess,\n",
    "  fn_kwargs={\"class_to_index\": class_to_index},\n",
    "  batch_format=\"pandas\")\n",
    "sample_ds.show(1)"
   ]
  },
  {
   "cell_type": "markdown",
   "id": "0c256bca-aac2-4a9a-9109-a9929b715c2d",
   "metadata": {},
   "source": [
    "# Training Setup (Fine Tuning an LLM model)\n",
    "\n",
    "We'll start by defining some setup utilities and configuring our model.\n",
    "\n",
    "We'll define a set_seeds function that will set the seeds for reproducibility across our libraries (`np.random.seed, random.seed, torch.manual_seed and torch.cuda.manual_seed`). We'll also set the behavior for some torch backends to ensure deterministic results when we run our workloads on GPUs."
   ]
  },
  {
   "cell_type": "code",
   "execution_count": 42,
   "id": "bbf4751d-0c51-4c87-949d-d458bc4ba1be",
   "metadata": {
    "tags": []
   },
   "outputs": [],
   "source": [
    "import os \n",
    "import random\n",
    "import torch\n",
    "from ray.data.preprocessor import Preprocessor"
   ]
  },
  {
   "cell_type": "code",
   "execution_count": 43,
   "id": "24414518-c994-447f-8fbb-524a6dcb0382",
   "metadata": {
    "tags": []
   },
   "outputs": [],
   "source": [
    "# setting a common seed for reproducibility across whole process and deterministic True indicates same results are produced\n",
    "\n",
    "def set_seeds(seed=42):\n",
    "    \"\"\"\n",
    "    Set seed for reproducibility\n",
    "    \"\"\"\n",
    "    np.random.seed(seed)\n",
    "    random.seed(seed)\n",
    "    torch.manual_seed(seed)\n",
    "    torch.cuda.manual_seed(seed)\n",
    "    eval(\"setattr(torch.backends.cudnn, 'deterministic', True)\")\n",
    "    eval(\"setattr(torch.backends.cudnn, 'benchmark', False)\")\n",
    "    os.environ[\"PYTHONHASHSEED\"] = str(seed)"
   ]
  },
  {
   "cell_type": "markdown",
   "id": "bb356761-9382-4a30-8aab-709a382594aa",
   "metadata": {},
   "source": [
    "> Loading function to load the dataset using Ray Dataset"
   ]
  },
  {
   "cell_type": "code",
   "execution_count": 44,
   "id": "8747a25a-2165-4779-ba17-fccd18ac6829",
   "metadata": {
    "tags": []
   },
   "outputs": [],
   "source": [
    "def load_data(num_samples=None):\n",
    "    ds = ray.data.read_csv(DATASET_LOC)\n",
    "    ds = ds.random_shuffle(seed=1234)\n",
    "    \n",
    "    # to return sampled dataset if required\n",
    "    ds = ray.data.from_items(ds.take(num_samples)) if num_samples else ds\n",
    "    return ds"
   ]
  },
  {
   "cell_type": "markdown",
   "id": "babe1f19-bf17-43d6-bfc0-ed116d8d016d",
   "metadata": {},
   "source": [
    "> When working with very large datasets, it's a good idea to limit the number of samples in our dataset so that we can execute our code quickly and iterate on bugs, etc. This is why we have a num_samples input argument in our load_data function (None = no limit, all samples)."
   ]
  },
  {
   "cell_type": "markdown",
   "id": "3fc2776b-a50f-4dc4-a1c7-5b775710befa",
   "metadata": {},
   "source": [
    "Now we will define custom preprocessor function with Ray's Preprocessor as base function. This will have fit method and transfrom_pandas method since our preprocess function expects batch of data as pandas dataframe."
   ]
  },
  {
   "cell_type": "code",
   "execution_count": 45,
   "id": "9286b0a5-360b-4b82-b81f-51ee567c6177",
   "metadata": {
    "tags": []
   },
   "outputs": [],
   "source": [
    "class CustomPreprocessor():\n",
    "    \"\"\"Custom preprocessor class.\"\"\"\n",
    "    def __init__(self, class_to_index={}):\n",
    "        self.class_to_index = class_to_index or {}  # mutable defaults\n",
    "        self.index_to_class = {v: k for k, v in self.class_to_index.items()}\n",
    "        \n",
    "    def fit(self, ds):\n",
    "        tags = ds.unique(column=\"tag\")\n",
    "        self.class_to_index = {tag: i for i, tag in enumerate(tags)}\n",
    "        self.index_to_class = {v:k for k, v in self.class_to_index.items()}\n",
    "        return self\n",
    "    \n",
    "    def transform(self, ds):\n",
    "        return ds.map_batches(\n",
    "            preprocess, \n",
    "            fn_kwargs={\"class_to_index\": self.class_to_index}, \n",
    "            batch_format=\"pandas\")"
   ]
  },
  {
   "cell_type": "markdown",
   "id": "d40f537d-d97a-4296-ae22-b89cdbe5a4f8",
   "metadata": {},
   "source": [
    "### Model training \n",
    "\n",
    "Using an pre trained SciBert model from Hugging face library"
   ]
  },
  {
   "cell_type": "code",
   "execution_count": 46,
   "id": "f1abf2e2-75a8-4f2b-98b6-87d2c22d10c6",
   "metadata": {
    "tags": []
   },
   "outputs": [],
   "source": [
    "import torch.nn as nn\n",
    "from transformers import BertModel\n",
    "import torch.nn.functional as F"
   ]
  },
  {
   "cell_type": "code",
   "execution_count": 47,
   "id": "89fbf8e2-5a3e-452a-996a-597635e4cbd1",
   "metadata": {
    "tags": []
   },
   "outputs": [
    {
     "name": "stderr",
     "output_type": "stream",
     "text": [
      "Some weights of the model checkpoint at allenai/scibert_scivocab_uncased were not used when initializing BertModel: ['cls.predictions.bias', 'cls.predictions.transform.LayerNorm.bias', 'cls.predictions.decoder.weight', 'cls.predictions.transform.dense.weight', 'cls.seq_relationship.bias', 'cls.seq_relationship.weight', 'cls.predictions.transform.LayerNorm.weight', 'cls.predictions.transform.dense.bias', 'cls.predictions.decoder.bias']\n",
      "- This IS expected if you are initializing BertModel from the checkpoint of a model trained on another task or with another architecture (e.g. initializing a BertForSequenceClassification model from a BertForPreTraining model).\n",
      "- This IS NOT expected if you are initializing BertModel from the checkpoint of a model that you expect to be exactly identical (initializing a BertForSequenceClassification model from a BertForSequenceClassification model).\n"
     ]
    }
   ],
   "source": [
    "# loading our pre trained llm model (uncased - only lower case)\n",
    "\n",
    "llm = BertModel.from_pretrained(\"allenai/scibert_scivocab_uncased\", return_dict=False)\n",
    "embedding_dim = llm.config.hidden_size "
   ]
  },
  {
   "cell_type": "code",
   "execution_count": 48,
   "id": "d352d9e6-0bd0-400b-bcc6-b69806ddf694",
   "metadata": {
    "tags": []
   },
   "outputs": [
    {
     "data": {
      "text/plain": [
       "768"
      ]
     },
     "execution_count": 48,
     "metadata": {},
     "output_type": "execute_result"
    }
   ],
   "source": [
    "# each word or sentence is represented in 768 dimensionsal vector embeddings\n",
    "embedding_dim"
   ]
  },
  {
   "cell_type": "code",
   "execution_count": 49,
   "id": "2314f426-a43a-46b7-8dc9-58cc1ee5cd06",
   "metadata": {
    "tags": []
   },
   "outputs": [
    {
     "data": {
      "text/plain": [
       "(torch.Size([1, 10, 768]), torch.Size([1, 768]))"
      ]
     },
     "execution_count": 49,
     "metadata": {},
     "output_type": "execute_result"
    }
   ],
   "source": [
    "# tokenizing on sample data using above model \n",
    "\n",
    "text = \"Transfer learning with transformers for text classification.\"\n",
    "batch = tokenizer([text], return_tensors=\"np\", padding=\"longest\")\n",
    "batch = {k: torch.tensor(v) for k,v in batch.items()} # converting to torch tensor\n",
    "seq, pool = llm(input_ids=batch[\"input_ids\"], attention_mask=batch[\"attention_mask\"])\n",
    "np.shape(seq), np.shape(pool)"
   ]
  },
  {
   "cell_type": "markdown",
   "id": "f117edc1-e0ba-4122-98df-bb3f4d661223",
   "metadata": {},
   "source": [
    "We're going to use this pretrained model to represent our input text features and add additional layers (linear classifier) on top of it for our specific classification task. In short, the pretrained LLM will process the tokenized text and return a sequence (one representation after each token) and pooled (combined) representation of the text. We'll use the `pooled representation as input` to our final fully-connection layer (fc1) to result in a `vector of size num_classes (number of classes)`` that we can use to make predictions."
   ]
  },
  {
   "cell_type": "code",
   "execution_count": 50,
   "id": "020327a6-ca45-452f-a922-6750c1fc2da8",
   "metadata": {
    "tags": []
   },
   "outputs": [],
   "source": [
    "# fine tuning scibert model in pytorch framework\n",
    "\n",
    "class FinetunedLLM(nn.Module):\n",
    "    def __init__(self, llm, dropout_p, embedding_dim, num_classes):\n",
    "        super(FinetunedLLM, self).__init__()\n",
    "        self.llm = llm\n",
    "        self.dropout_p = dropout_p\n",
    "        self.embedding_dim = embedding_dim\n",
    "        self.num_classes = num_classes\n",
    "        self.dropout = torch.nn.Dropout(dropout_p)\n",
    "        self.fc1 = torch.nn.Linear(embedding_dim, num_classes)\n",
    "\n",
    "    def forward(self, batch):\n",
    "        ids, masks = batch[\"ids\"], batch[\"masks\"]\n",
    "        seq, pool = self.llm(input_ids=ids, attention_mask=masks)\n",
    "        z = self.dropout(pool)\n",
    "        z = self.fc1(z)\n",
    "        return z\n",
    "    \n",
    "    @torch.inference_mode()\n",
    "    def predict(self, batch):\n",
    "        self.eval()\n",
    "        z = self(batch)\n",
    "        y_pred = torch.argmax(z, dim=1).cpu().numpy() # returns indices with max prob value\n",
    "        return y_pred\n",
    "    \n",
    "    @torch.inference_mode()\n",
    "    def predict_proba(self, batch):\n",
    "        self.eval()\n",
    "        z = self(batch)\n",
    "        y_probs = F.softmax(z, dim=1).cpu().numpy()\n",
    "        return y_probs\n",
    "    \n",
    "    def save(self, dp):\n",
    "        with open(Path(dp, \"args.json\"), \"w\") as fp:\n",
    "            contents = {\n",
    "                \"dropout_p\": self.dropout_p,\n",
    "                \"embedding_dim\": self.embedding_dim,\n",
    "                \"num_classes\": self.num_classes,\n",
    "            }\n",
    "            json.dump(contents, fp, indent=4, sort_keys=False)\n",
    "        torch.save(self.state_dict(), os.path.join(dp, \"model.pt\"))\n",
    "\n",
    "    @classmethod\n",
    "    def load(cls, args_fp, state_dict_fp):\n",
    "        with open(args_fp, \"r\") as fp:\n",
    "            kwargs = json.load(fp=fp)\n",
    "        llm = BertModel.from_pretrained(\"allenai/scibert_scivocab_uncased\", return_dict=False)\n",
    "        model = cls(llm=llm, **kwargs)\n",
    "        model.load_state_dict(torch.load(state_dict_fp, map_location=torch.device(\"cpu\")))\n",
    "        return model"
   ]
  },
  {
   "cell_type": "code",
   "execution_count": 51,
   "id": "e8da9f4c-a687-49a0-b572-e083d314a764",
   "metadata": {
    "tags": []
   },
   "outputs": [
    {
     "name": "stdout",
     "output_type": "stream",
     "text": [
      "<bound method Module.named_parameters of FinetunedLLM(\n",
      "  (llm): BertModel(\n",
      "    (embeddings): BertEmbeddings(\n",
      "      (word_embeddings): Embedding(31090, 768, padding_idx=0)\n",
      "      (position_embeddings): Embedding(512, 768)\n",
      "      (token_type_embeddings): Embedding(2, 768)\n",
      "      (LayerNorm): LayerNorm((768,), eps=1e-12, elementwise_affine=True)\n",
      "      (dropout): Dropout(p=0.1, inplace=False)\n",
      "    )\n",
      "    (encoder): BertEncoder(\n",
      "      (layer): ModuleList(\n",
      "        (0-11): 12 x BertLayer(\n",
      "          (attention): BertAttention(\n",
      "            (self): BertSelfAttention(\n",
      "              (query): Linear(in_features=768, out_features=768, bias=True)\n",
      "              (key): Linear(in_features=768, out_features=768, bias=True)\n",
      "              (value): Linear(in_features=768, out_features=768, bias=True)\n",
      "              (dropout): Dropout(p=0.1, inplace=False)\n",
      "            )\n",
      "            (output): BertSelfOutput(\n",
      "              (dense): Linear(in_features=768, out_features=768, bias=True)\n",
      "              (LayerNorm): LayerNorm((768,), eps=1e-12, elementwise_affine=True)\n",
      "              (dropout): Dropout(p=0.1, inplace=False)\n",
      "            )\n",
      "          )\n",
      "          (intermediate): BertIntermediate(\n",
      "            (dense): Linear(in_features=768, out_features=3072, bias=True)\n",
      "            (intermediate_act_fn): GELUActivation()\n",
      "          )\n",
      "          (output): BertOutput(\n",
      "            (dense): Linear(in_features=3072, out_features=768, bias=True)\n",
      "            (LayerNorm): LayerNorm((768,), eps=1e-12, elementwise_affine=True)\n",
      "            (dropout): Dropout(p=0.1, inplace=False)\n",
      "          )\n",
      "        )\n",
      "      )\n",
      "    )\n",
      "    (pooler): BertPooler(\n",
      "      (dense): Linear(in_features=768, out_features=768, bias=True)\n",
      "      (activation): Tanh()\n",
      "    )\n",
      "  )\n",
      "  (dropout): Dropout(p=0.5, inplace=False)\n",
      "  (fc1): Linear(in_features=768, out_features=4, bias=True)\n",
      ")>\n"
     ]
    }
   ],
   "source": [
    "# initializing the fine tuning model \n",
    "\n",
    "model = FinetunedLLM(llm=llm, dropout_p=0.5, embedding_dim=embedding_dim, num_classes=num_classes)\n",
    "print(model.named_parameters)"
   ]
  },
  {
   "cell_type": "markdown",
   "id": "ff68f775-3763-4d1b-b670-705d11cc44af",
   "metadata": {},
   "source": [
    "## Batching\n",
    "\n",
    "We can iterate through our dataset in batches however we may have batches of different sizes. Recall that our tokenizer padded the inputs to the longest item in the single batch (padding=\"longest\"). However, our batches for training will be smaller than our large data processing batches and so our batches here may have inputs with different lengths. To address this, we're going to define a custom collate_fn to repad the items in our training batches"
   ]
  },
  {
   "cell_type": "code",
   "execution_count": 52,
   "id": "7f9e4f5c-23d4-4c90-bae9-8ed2a8bd473d",
   "metadata": {
    "tags": []
   },
   "outputs": [],
   "source": [
    "from ray.train.torch import get_device"
   ]
  },
  {
   "cell_type": "code",
   "execution_count": 53,
   "id": "e85f3f6d-5197-4d58-a383-67e11f23b1db",
   "metadata": {
    "tags": []
   },
   "outputs": [],
   "source": [
    "# defining func to pad the tokens and attention masks to the longest sequence length in whole traning set \n",
    "\n",
    "def pad_array(arr, dtype=np.int32):\n",
    "    \"\"\" padding the array to longest sequence \"\"\"\n",
    "    max_len = max(len(row) for row in arr)\n",
    "    padded_arr = np.zeros((arr.shape[0], max_len), dtype=dtype)\n",
    "    # filling zeros at the end of each item\n",
    "    for i, row in  enumerate(arr):\n",
    "        padded_arr[i][:len(row)] = row \n",
    "        \n",
    "    return padded_arr\n",
    "    "
   ]
  },
  {
   "cell_type": "code",
   "execution_count": 54,
   "id": "fa6129f4-2c23-4658-853f-c22c69252b8d",
   "metadata": {
    "tags": []
   },
   "outputs": [],
   "source": [
    "# function to pad zeros and convert into torch tensors (since the tokenizer returns numpy array)\n",
    "\n",
    "def collate_fn(batch):\n",
    "    batch[\"ids\"] = pad_array(batch[\"ids\"])\n",
    "    batch[\"masks\"] = pad_array(batch[\"masks\"])\n",
    "    dtypes = {\"ids\": torch.int32, \"masks\": torch.int32, \"targets\": torch.int64}\n",
    "    tensor_batch = {}\n",
    "    for key, array in batch.items():\n",
    "        tensor_batch[key] = torch.as_tensor(array, dtype=dtypes[key], device=get_device())\n",
    "        \n",
    "    return tensor_batch"
   ]
  },
  {
   "cell_type": "code",
   "execution_count": 55,
   "id": "ee9694ae-3ec2-468c-bfe4-0d03565a2b1a",
   "metadata": {
    "tags": []
   },
   "outputs": [
    {
     "name": "stderr",
     "output_type": "stream",
     "text": [
      "2024-01-05 09:24:27,469\tINFO streaming_executor.py:93 -- Executing DAG InputDataBuffer[Input] -> TaskPoolMapOperator[ReadCSV->SplitBlocks(32)] -> AllToAllOperator[RandomShuffle] -> AllToAllOperator[Sort] -> AllToAllOperator[MapBatches(group_fn)->MapBatches(_filter_split)->RandomShuffle] -> TaskPoolMapOperator[MapBatches(preprocess)] -> LimitOperator[limit=128]\n",
      "2024-01-05 09:24:27,470\tINFO streaming_executor.py:94 -- Execution config: ExecutionOptions(resource_limits=ExecutionResources(cpu=None, gpu=None, object_store_memory=None), locality_with_output=False, preserve_order=True, actor_locality_enabled=True, verbose_progress=False)\n",
      "2024-01-05 09:24:27,471\tINFO streaming_executor.py:96 -- Tip: For detailed progress reporting, run `ray.data.DataContext.get_current().execution_options.verbose_progress = True`\n"
     ]
    },
    {
     "data": {
      "application/vnd.jupyter.widget-view+json": {
       "model_id": "",
       "version_major": 2,
       "version_minor": 0
      },
      "text/plain": [
       "- RandomShuffle 1:   0%|          | 0/1024 [00:00<?, ?it/s]"
      ]
     },
     "metadata": {},
     "output_type": "display_data"
    },
    {
     "data": {
      "application/vnd.jupyter.widget-view+json": {
       "model_id": "",
       "version_major": 2,
       "version_minor": 0
      },
      "text/plain": [
       "Shuffle Map 2:   0%|          | 0/1024 [00:00<?, ?it/s]"
      ]
     },
     "metadata": {},
     "output_type": "display_data"
    },
    {
     "data": {
      "application/vnd.jupyter.widget-view+json": {
       "model_id": "",
       "version_major": 2,
       "version_minor": 0
      },
      "text/plain": [
       "Shuffle Reduce 3:   0%|          | 0/1024 [00:00<?, ?it/s]"
      ]
     },
     "metadata": {},
     "output_type": "display_data"
    },
    {
     "data": {
      "application/vnd.jupyter.widget-view+json": {
       "model_id": "",
       "version_major": 2,
       "version_minor": 0
      },
      "text/plain": [
       "- Sort 4:   0%|          | 0/1024 [00:00<?, ?it/s]"
      ]
     },
     "metadata": {},
     "output_type": "display_data"
    },
    {
     "data": {
      "application/vnd.jupyter.widget-view+json": {
       "model_id": "",
       "version_major": 2,
       "version_minor": 0
      },
      "text/plain": [
       "Sort Sample 5:   0%|          | 0/1024 [00:00<?, ?it/s]"
      ]
     },
     "metadata": {},
     "output_type": "display_data"
    },
    {
     "data": {
      "application/vnd.jupyter.widget-view+json": {
       "model_id": "",
       "version_major": 2,
       "version_minor": 0
      },
      "text/plain": [
       "Shuffle Map 6:   0%|          | 0/1024 [00:00<?, ?it/s]"
      ]
     },
     "metadata": {},
     "output_type": "display_data"
    },
    {
     "data": {
      "application/vnd.jupyter.widget-view+json": {
       "model_id": "",
       "version_major": 2,
       "version_minor": 0
      },
      "text/plain": [
       "Shuffle Reduce 7:   0%|          | 0/1024 [00:00<?, ?it/s]"
      ]
     },
     "metadata": {},
     "output_type": "display_data"
    },
    {
     "data": {
      "application/vnd.jupyter.widget-view+json": {
       "model_id": "",
       "version_major": 2,
       "version_minor": 0
      },
      "text/plain": [
       "- MapBatches(group_fn)->MapBatches(_filter_split)->RandomShuffle 8:   0%|          | 0/1024 [00:00<?, ?it/s]"
      ]
     },
     "metadata": {},
     "output_type": "display_data"
    },
    {
     "data": {
      "application/vnd.jupyter.widget-view+json": {
       "model_id": "",
       "version_major": 2,
       "version_minor": 0
      },
      "text/plain": [
       "Shuffle Map 9:   0%|          | 0/1024 [00:00<?, ?it/s]"
      ]
     },
     "metadata": {},
     "output_type": "display_data"
    },
    {
     "data": {
      "application/vnd.jupyter.widget-view+json": {
       "model_id": "",
       "version_major": 2,
       "version_minor": 0
      },
      "text/plain": [
       "Shuffle Reduce 10:   0%|          | 0/1024 [00:00<?, ?it/s]"
      ]
     },
     "metadata": {},
     "output_type": "display_data"
    },
    {
     "data": {
      "application/vnd.jupyter.widget-view+json": {
       "model_id": "",
       "version_major": 2,
       "version_minor": 0
      },
      "text/plain": [
       "Running 0:   0%|          | 0/1 [00:00<?, ?it/s]"
      ]
     },
     "metadata": {},
     "output_type": "display_data"
    },
    {
     "data": {
      "application/vnd.jupyter.widget-view+json": {
       "model_id": "",
       "version_major": 2,
       "version_minor": 0
      },
      "text/plain": [
       "Sort Sample 0:   0%|          | 0/32 [00:00<?, ?it/s]"
      ]
     },
     "metadata": {},
     "output_type": "display_data"
    },
    {
     "data": {
      "text/plain": [
       "{'ids': tensor([[  102,  7746,  2824,  ...,     0,     0,     0],\n",
       "         [  102,   191, 23495,  ...,     0,     0,     0],\n",
       "         [  102,  6317, 21024,  ...,     0,     0,     0],\n",
       "         ...,\n",
       "         [  102, 15689,  6392,  ...,     0,     0,     0],\n",
       "         [  102,  3840,  1984,  ...,     0,     0,     0],\n",
       "         [  102,  3997,  1904,  ...,     0,     0,     0]], dtype=torch.int32),\n",
       " 'masks': tensor([[1, 1, 1,  ..., 0, 0, 0],\n",
       "         [1, 1, 1,  ..., 0, 0, 0],\n",
       "         [1, 1, 1,  ..., 0, 0, 0],\n",
       "         ...,\n",
       "         [1, 1, 1,  ..., 0, 0, 0],\n",
       "         [1, 1, 1,  ..., 0, 0, 0],\n",
       "         [1, 1, 1,  ..., 0, 0, 0]], dtype=torch.int32),\n",
       " 'targets': tensor([0, 2, 0, 2, 2, 0, 0, 0, 1, 3, 2, 2, 2, 1, 0, 0, 3, 2, 0, 3, 2, 0, 2, 0,\n",
       "         2, 2, 0, 0, 0, 1, 3, 2, 2, 2, 1, 0, 0, 3, 2, 0, 3, 2, 3, 1, 3, 2, 2, 3,\n",
       "         2, 1, 2, 2, 2, 2, 2, 3, 0, 3, 1, 0, 3, 0, 0, 1, 0, 0, 0, 0, 0, 2, 0, 3,\n",
       "         2, 0, 3, 0, 2, 3, 2, 0, 0, 2, 2, 0, 2, 0, 2, 0, 2, 0, 2, 2, 0, 0, 0, 1,\n",
       "         3, 2, 2, 2, 1, 0, 0, 3, 2, 0, 3, 2, 0, 2, 0, 2, 2, 0, 0, 0, 1, 3, 2, 2,\n",
       "         2, 1, 0, 0, 3, 2, 0, 3])}"
      ]
     },
     "execution_count": 55,
     "metadata": {},
     "output_type": "execute_result"
    }
   ],
   "source": [
    "# checking sample input \n",
    "\n",
    "sample_batch = sample_ds.take_batch(batch_size=128)\n",
    "collate_fn(batch=sample_batch)"
   ]
  },
  {
   "cell_type": "markdown",
   "id": "2079447b-4bff-4571-8ab5-b08dd6dc1aef",
   "metadata": {},
   "source": [
    "## Utilities \n",
    "\n",
    "Implementing some utility functions to train the model like setting up Run Configuration, Scaling configuration etc"
   ]
  },
  {
   "cell_type": "code",
   "execution_count": 56,
   "id": "fada3e10-3d25-47d0-b38a-d96fd0eacb80",
   "metadata": {
    "tags": []
   },
   "outputs": [],
   "source": [
    "from ray.air import Checkpoint, session\n",
    "from ray.train import Checkpoint, CheckpointConfig, DataConfig, RunConfig, ScalingConfig\n",
    "import ray.train as train\n",
    "from ray.train.torch import TorchCheckpoint, TorchTrainer, TorchConfig\n",
    "import torch.nn.functional as F\n",
    "from pathlib import Path\n",
    "import tempfile\n",
    "from torch.nn.parallel.distributed import DistributedDataParallel"
   ]
  },
  {
   "cell_type": "markdown",
   "id": "4d99ff66-abbe-4143-b6ab-24957eb2aeb5",
   "metadata": {},
   "source": [
    "We'll start by defining what one step (or iteration) of training looks like. This will be a function that takes in a batch of data, a model, a loss function, and an optimizer. It will then perform a forward pass, compute the loss, and perform a backward pass to update the model's weights. And finally, it will return the loss."
   ]
  },
  {
   "cell_type": "code",
   "execution_count": 57,
   "id": "8920cb1b-e3e5-432f-9b8d-a44b3e46f814",
   "metadata": {
    "tags": []
   },
   "outputs": [],
   "source": [
    "def train_step(ds, batch_size, model, num_classes, loss_fn, optimizer):\n",
    "    \"\"\"\n",
    "    Training step to train a model and returns cumulative loss value\n",
    "    \"\"\"\n",
    "    \n",
    "    model.train()\n",
    "    loss = 0.0 \n",
    "    ds_generator = ds.iter_torch_batches(batch_size=batch_size, collate_fn=collate_fn)\n",
    "    for i, batch in enumerate(ds_generator):\n",
    "        optimizer.zero_grad()  # reset gradients\n",
    "        z = model(batch)  # forward pass\n",
    "        targets = F.one_hot(batch[\"targets\"], num_classes=num_classes).float()  # one-hot (for loss_fn)\n",
    "        J = loss_fn(z, targets)  # define loss\n",
    "        J.backward()  # backward pass\n",
    "        optimizer.step()  # update weights\n",
    "        loss += (J.detach().item() - loss) / (i + 1)  # cumulative loss\n",
    "    return loss"
   ]
  },
  {
   "cell_type": "code",
   "execution_count": 58,
   "id": "6e9391a9-ef07-4277-bde5-3b490685944a",
   "metadata": {
    "tags": []
   },
   "outputs": [],
   "source": [
    "def eval_step(ds, batch_size, model, num_classes, loss_fn):\n",
    "    \"\"\"Eval step.\"\"\"\n",
    "    model.eval()\n",
    "    loss = 0.0\n",
    "    y_trues, y_preds = [], []\n",
    "    ds_generator = ds.iter_torch_batches(batch_size=batch_size, collate_fn=collate_fn)\n",
    "    with torch.inference_mode():\n",
    "        for i, batch in enumerate(ds_generator):\n",
    "            z = model(batch)\n",
    "            targets = F.one_hot(batch[\"targets\"], num_classes=num_classes).float()  # one-hot (for loss_fn)\n",
    "            J = loss_fn(z, targets).item()\n",
    "            loss += (J - loss) / (i + 1)\n",
    "            y_trues.extend(batch[\"targets\"].cpu().numpy())\n",
    "            y_preds.extend(torch.argmax(z, dim=1).cpu().numpy())\n",
    "    return loss, np.vstack(y_trues), np.vstack(y_preds)"
   ]
  },
  {
   "cell_type": "markdown",
   "id": "38af1812-5fd7-4814-b753-ba45c00db945",
   "metadata": {},
   "source": [
    "Next, we'll define the train_loop_per_worker which defines the overall training loop for each worker. It's important that we include operations like loading the datasets, models, etc. so that each worker will have its own copy of these objects. Ray takes care of combining all the workers' results at the end of each iteration, so from the user's perspective, it's the exact same as training on a single machine!"
   ]
  },
  {
   "cell_type": "code",
   "execution_count": 59,
   "id": "5ddac68f-8d51-4a79-886b-f3d3d3ed6d44",
   "metadata": {
    "tags": []
   },
   "outputs": [],
   "source": [
    "\n",
    "# Training loop\n",
    "def train_loop_per_worker(config):\n",
    "    # Hyperparameters\n",
    "    dropout_p = config[\"dropout_p\"]\n",
    "    lr = config[\"lr\"]\n",
    "    lr_factor = config[\"lr_factor\"]\n",
    "    lr_patience = config[\"lr_patience\"]\n",
    "    num_epochs = config[\"num_epochs\"]\n",
    "    batch_size = config[\"batch_size\"]\n",
    "    num_classes = config[\"num_classes\"]\n",
    "\n",
    "    # Get datasets\n",
    "    set_seeds()\n",
    "    train_ds = train.get_dataset_shard(\"train\")\n",
    "    val_ds = train.get_dataset_shard(\"val\")\n",
    "\n",
    "    # Model\n",
    "    llm = BertModel.from_pretrained(\"allenai/scibert_scivocab_uncased\", return_dict=False)\n",
    "    model = FinetunedLLM(llm=llm, dropout_p=dropout_p, embedding_dim=llm.config.hidden_size, num_classes=num_classes)\n",
    "    model = train.torch.prepare_model(model)\n",
    "\n",
    "    # Training components\n",
    "    loss_fn = nn.BCEWithLogitsLoss()\n",
    "    optimizer = torch.optim.Adam(model.parameters(), lr=lr)\n",
    "    scheduler = torch.optim.lr_scheduler.ReduceLROnPlateau(optimizer, mode=\"min\", factor=lr_factor, patience=lr_patience)\n",
    "\n",
    "    # Training\n",
    "    num_workers = train.get_context().get_world_size()\n",
    "    batch_size_per_worker = batch_size // num_workers\n",
    "    for epoch in range(num_epochs):\n",
    "        # Step\n",
    "        train_loss = train_step(train_ds, batch_size_per_worker, model, num_classes, loss_fn, optimizer)\n",
    "        val_loss, _, _ = eval_step(val_ds, batch_size_per_worker, model, num_classes, loss_fn)\n",
    "        scheduler.step(val_loss)\n",
    "\n",
    "        # Checkpoint\n",
    "        with tempfile.TemporaryDirectory() as dp:\n",
    "            if isinstance(model, DistributedDataParallel):  # cpu\n",
    "                model.module.save(dp=dp)\n",
    "            else:\n",
    "                model.save(dp=dp)\n",
    "            metrics = dict(epoch=epoch, lr=optimizer.param_groups[0][\"lr\"], train_loss=train_loss, val_loss=val_loss)\n",
    "            checkpoint = Checkpoint.from_directory(dp)\n",
    "            train.report(metrics, checkpoint=checkpoint)"
   ]
  },
  {
   "cell_type": "markdown",
   "id": "5d5bfbc6-cb98-4abc-9a58-8ace6a46ade8",
   "metadata": {
    "tags": []
   },
   "source": [
    "> Defining required configurations to train the model "
   ]
  },
  {
   "cell_type": "code",
   "execution_count": 60,
   "id": "ca3a92fa-ad17-479f-a279-b82eb17244f4",
   "metadata": {
    "tags": []
   },
   "outputs": [],
   "source": [
    "# training loop config \n",
    "\n",
    "train_loop_config = {\n",
    "    \"dropout_p\": 0.5,\n",
    "    \"lr\": 1e-4,\n",
    "    \"lr_factor\": 0.8,\n",
    "    \"lr_patience\": 3,\n",
    "    \"num_epochs\": 10,\n",
    "    \"batch_size\": 256,\n",
    "    \"num_classes\": num_classes,\n",
    "}"
   ]
  },
  {
   "cell_type": "code",
   "execution_count": 61,
   "id": "e27cae0c-b913-487b-8782-f1473e603d89",
   "metadata": {
    "tags": []
   },
   "outputs": [],
   "source": [
    "# definig scaling configuration (using gpu and speaking cpu nodes across cluster)\n",
    "\n",
    "scaling_config = ScalingConfig(\n",
    "    num_workers=num_workers,\n",
    "    use_gpu=bool(resources_per_worker[\"GPU\"]),\n",
    "    resources_per_worker=resources_per_worker,\n",
    ")"
   ]
  },
  {
   "cell_type": "markdown",
   "id": "9de5bab0-01da-48ea-85a8-a3f40b937082",
   "metadata": {},
   "source": [
    "Next, we'll define our `CheckpointConfig` which will specify how we want to checkpoint our model. Here we will just save one checkpoint ``(num_to_keep)`` based on the checkpoint with the min val_loss. We'll also configure a `RunConfig` which will specify the name of our run and where we want to save our checkpoints."
   ]
  },
  {
   "cell_type": "code",
   "execution_count": 62,
   "id": "7cdf10cb-bead-43b9-a55f-dd8cde43fb12",
   "metadata": {
    "tags": []
   },
   "outputs": [],
   "source": [
    "from ml_scripts.config import EFS_DIR"
   ]
  },
  {
   "cell_type": "code",
   "execution_count": 63,
   "id": "3171f3bd-52f2-45f8-aa41-f27d22a268e7",
   "metadata": {
    "tags": []
   },
   "outputs": [],
   "source": [
    "# Run config\n",
    "checkpoint_config = CheckpointConfig(num_to_keep= 1, checkpoint_score_attribute= \"val_loss\", checkpoint_score_order= \"min\")\n",
    "run_config = RunConfig(name=\"llm\", checkpoint_config=checkpoint_config, local_dir=EFS_DIR)"
   ]
  },
  {
   "cell_type": "markdown",
   "id": "7c5b2d55-a04f-4260-805c-26ddbdf71f13",
   "metadata": {},
   "source": [
    "## Training \n",
    "\n",
    "Now we are ready to train model on distributed setup with all above components \n",
    "\n",
    "Here we will load the dataset and do preprocessing before instead of doing it during training stage"
   ]
  },
  {
   "cell_type": "code",
   "execution_count": 64,
   "id": "8c1d9ce4-e9ab-4f3c-acb0-d2a5c8d404ee",
   "metadata": {
    "tags": []
   },
   "outputs": [
    {
     "name": "stderr",
     "output_type": "stream",
     "text": [
      "2024-01-05 09:24:30,337\tINFO read_api.py:406 -- To satisfy the requested parallelism of 32, each read task output is split into 32 smaller blocks.\n",
      "2024-01-05 09:24:30,342\tINFO streaming_executor.py:93 -- Executing DAG InputDataBuffer[Input] -> TaskPoolMapOperator[ReadCSV->SplitBlocks(32)] -> AllToAllOperator[RandomShuffle] -> LimitOperator[limit=1]\n",
      "2024-01-05 09:24:30,343\tINFO streaming_executor.py:94 -- Execution config: ExecutionOptions(resource_limits=ExecutionResources(cpu=None, gpu=None, object_store_memory=None), locality_with_output=False, preserve_order=True, actor_locality_enabled=True, verbose_progress=False)\n",
      "2024-01-05 09:24:30,343\tINFO streaming_executor.py:96 -- Tip: For detailed progress reporting, run `ray.data.DataContext.get_current().execution_options.verbose_progress = True`\n"
     ]
    },
    {
     "data": {
      "application/vnd.jupyter.widget-view+json": {
       "model_id": "",
       "version_major": 2,
       "version_minor": 0
      },
      "text/plain": [
       "- RandomShuffle 1:   0%|          | 0/1024 [00:00<?, ?it/s]"
      ]
     },
     "metadata": {},
     "output_type": "display_data"
    },
    {
     "data": {
      "application/vnd.jupyter.widget-view+json": {
       "model_id": "",
       "version_major": 2,
       "version_minor": 0
      },
      "text/plain": [
       "Shuffle Map 2:   0%|          | 0/1024 [00:00<?, ?it/s]"
      ]
     },
     "metadata": {},
     "output_type": "display_data"
    },
    {
     "data": {
      "application/vnd.jupyter.widget-view+json": {
       "model_id": "",
       "version_major": 2,
       "version_minor": 0
      },
      "text/plain": [
       "Shuffle Reduce 3:   0%|          | 0/1024 [00:00<?, ?it/s]"
      ]
     },
     "metadata": {},
     "output_type": "display_data"
    },
    {
     "data": {
      "application/vnd.jupyter.widget-view+json": {
       "model_id": "",
       "version_major": 2,
       "version_minor": 0
      },
      "text/plain": [
       "Running 0:   0%|          | 0/1 [00:00<?, ?it/s]"
      ]
     },
     "metadata": {},
     "output_type": "display_data"
    }
   ],
   "source": [
    "# laod and split the dataset \n",
    "\n",
    "ds = load_data()\n",
    "train_ds, val_ds = stratify_split(ds, stratify=\"tag\", test_size=test_size)"
   ]
  },
  {
   "cell_type": "code",
   "execution_count": 65,
   "id": "4c08bae8-7460-4602-b6b2-e953ae870726",
   "metadata": {
    "tags": []
   },
   "outputs": [
    {
     "name": "stderr",
     "output_type": "stream",
     "text": [
      "2024-01-05 09:24:30,765\tINFO streaming_executor.py:93 -- Executing DAG InputDataBuffer[Input] -> TaskPoolMapOperator[ReadCSV->SplitBlocks(32)] -> AllToAllOperator[RandomShuffle] -> AllToAllOperator[Sort] -> AllToAllOperator[MapBatches(group_fn)->MapBatches(_filter_split)->RandomShuffle] -> LimitOperator[limit=1]\n",
      "2024-01-05 09:24:30,766\tINFO streaming_executor.py:94 -- Execution config: ExecutionOptions(resource_limits=ExecutionResources(cpu=None, gpu=None, object_store_memory=None), locality_with_output=False, preserve_order=True, actor_locality_enabled=True, verbose_progress=False)\n",
      "2024-01-05 09:24:30,766\tINFO streaming_executor.py:96 -- Tip: For detailed progress reporting, run `ray.data.DataContext.get_current().execution_options.verbose_progress = True`\n"
     ]
    },
    {
     "data": {
      "application/vnd.jupyter.widget-view+json": {
       "model_id": "",
       "version_major": 2,
       "version_minor": 0
      },
      "text/plain": [
       "- RandomShuffle 1:   0%|          | 0/1024 [00:00<?, ?it/s]"
      ]
     },
     "metadata": {},
     "output_type": "display_data"
    },
    {
     "data": {
      "application/vnd.jupyter.widget-view+json": {
       "model_id": "",
       "version_major": 2,
       "version_minor": 0
      },
      "text/plain": [
       "Shuffle Map 2:   0%|          | 0/1024 [00:00<?, ?it/s]"
      ]
     },
     "metadata": {},
     "output_type": "display_data"
    },
    {
     "data": {
      "application/vnd.jupyter.widget-view+json": {
       "model_id": "",
       "version_major": 2,
       "version_minor": 0
      },
      "text/plain": [
       "Shuffle Reduce 3:   0%|          | 0/1024 [00:00<?, ?it/s]"
      ]
     },
     "metadata": {},
     "output_type": "display_data"
    },
    {
     "data": {
      "application/vnd.jupyter.widget-view+json": {
       "model_id": "",
       "version_major": 2,
       "version_minor": 0
      },
      "text/plain": [
       "- Sort 4:   0%|          | 0/1024 [00:00<?, ?it/s]"
      ]
     },
     "metadata": {},
     "output_type": "display_data"
    },
    {
     "data": {
      "application/vnd.jupyter.widget-view+json": {
       "model_id": "",
       "version_major": 2,
       "version_minor": 0
      },
      "text/plain": [
       "Sort Sample 5:   0%|          | 0/1024 [00:00<?, ?it/s]"
      ]
     },
     "metadata": {},
     "output_type": "display_data"
    },
    {
     "data": {
      "application/vnd.jupyter.widget-view+json": {
       "model_id": "",
       "version_major": 2,
       "version_minor": 0
      },
      "text/plain": [
       "Shuffle Map 6:   0%|          | 0/1024 [00:00<?, ?it/s]"
      ]
     },
     "metadata": {},
     "output_type": "display_data"
    },
    {
     "data": {
      "application/vnd.jupyter.widget-view+json": {
       "model_id": "",
       "version_major": 2,
       "version_minor": 0
      },
      "text/plain": [
       "Shuffle Reduce 7:   0%|          | 0/1024 [00:00<?, ?it/s]"
      ]
     },
     "metadata": {},
     "output_type": "display_data"
    },
    {
     "data": {
      "application/vnd.jupyter.widget-view+json": {
       "model_id": "",
       "version_major": 2,
       "version_minor": 0
      },
      "text/plain": [
       "- MapBatches(group_fn)->MapBatches(_filter_split)->RandomShuffle 8:   0%|          | 0/1024 [00:00<?, ?it/s]"
      ]
     },
     "metadata": {},
     "output_type": "display_data"
    },
    {
     "data": {
      "application/vnd.jupyter.widget-view+json": {
       "model_id": "",
       "version_major": 2,
       "version_minor": 0
      },
      "text/plain": [
       "Shuffle Map 9:   0%|          | 0/1024 [00:00<?, ?it/s]"
      ]
     },
     "metadata": {},
     "output_type": "display_data"
    },
    {
     "data": {
      "application/vnd.jupyter.widget-view+json": {
       "model_id": "",
       "version_major": 2,
       "version_minor": 0
      },
      "text/plain": [
       "Shuffle Reduce 10:   0%|          | 0/1024 [00:00<?, ?it/s]"
      ]
     },
     "metadata": {},
     "output_type": "display_data"
    },
    {
     "data": {
      "application/vnd.jupyter.widget-view+json": {
       "model_id": "",
       "version_major": 2,
       "version_minor": 0
      },
      "text/plain": [
       "Running 0:   0%|          | 0/1 [00:00<?, ?it/s]"
      ]
     },
     "metadata": {},
     "output_type": "display_data"
    },
    {
     "data": {
      "application/vnd.jupyter.widget-view+json": {
       "model_id": "",
       "version_major": 2,
       "version_minor": 0
      },
      "text/plain": [
       "Sort Sample 0:   0%|          | 0/32 [00:00<?, ?it/s]"
      ]
     },
     "metadata": {},
     "output_type": "display_data"
    },
    {
     "name": "stderr",
     "output_type": "stream",
     "text": [
      "2024-01-05 09:24:31,531\tINFO streaming_executor.py:93 -- Executing DAG InputDataBuffer[Input] -> TaskPoolMapOperator[ReadCSV->SplitBlocks(32)] -> AllToAllOperator[RandomShuffle] -> AllToAllOperator[Sort] -> AllToAllOperator[MapBatches(group_fn)->MapBatches(_filter_split)->RandomShuffle] -> AllToAllOperator[Aggregate] -> TaskPoolMapOperator[MapBatches(<lambda>)]\n",
      "2024-01-05 09:24:31,534\tINFO streaming_executor.py:94 -- Execution config: ExecutionOptions(resource_limits=ExecutionResources(cpu=None, gpu=None, object_store_memory=None), locality_with_output=False, preserve_order=True, actor_locality_enabled=True, verbose_progress=False)\n",
      "2024-01-05 09:24:31,534\tINFO streaming_executor.py:96 -- Tip: For detailed progress reporting, run `ray.data.DataContext.get_current().execution_options.verbose_progress = True`\n"
     ]
    },
    {
     "data": {
      "application/vnd.jupyter.widget-view+json": {
       "model_id": "",
       "version_major": 2,
       "version_minor": 0
      },
      "text/plain": [
       "- RandomShuffle 1:   0%|          | 0/1024 [00:00<?, ?it/s]"
      ]
     },
     "metadata": {},
     "output_type": "display_data"
    },
    {
     "data": {
      "application/vnd.jupyter.widget-view+json": {
       "model_id": "",
       "version_major": 2,
       "version_minor": 0
      },
      "text/plain": [
       "Shuffle Map 2:   0%|          | 0/1024 [00:00<?, ?it/s]"
      ]
     },
     "metadata": {},
     "output_type": "display_data"
    },
    {
     "data": {
      "application/vnd.jupyter.widget-view+json": {
       "model_id": "",
       "version_major": 2,
       "version_minor": 0
      },
      "text/plain": [
       "Shuffle Reduce 3:   0%|          | 0/1024 [00:00<?, ?it/s]"
      ]
     },
     "metadata": {},
     "output_type": "display_data"
    },
    {
     "data": {
      "application/vnd.jupyter.widget-view+json": {
       "model_id": "",
       "version_major": 2,
       "version_minor": 0
      },
      "text/plain": [
       "- Sort 4:   0%|          | 0/1024 [00:00<?, ?it/s]"
      ]
     },
     "metadata": {},
     "output_type": "display_data"
    },
    {
     "data": {
      "application/vnd.jupyter.widget-view+json": {
       "model_id": "",
       "version_major": 2,
       "version_minor": 0
      },
      "text/plain": [
       "Sort Sample 5:   0%|          | 0/1024 [00:00<?, ?it/s]"
      ]
     },
     "metadata": {},
     "output_type": "display_data"
    },
    {
     "data": {
      "application/vnd.jupyter.widget-view+json": {
       "model_id": "",
       "version_major": 2,
       "version_minor": 0
      },
      "text/plain": [
       "Shuffle Map 6:   0%|          | 0/1024 [00:00<?, ?it/s]"
      ]
     },
     "metadata": {},
     "output_type": "display_data"
    },
    {
     "data": {
      "application/vnd.jupyter.widget-view+json": {
       "model_id": "",
       "version_major": 2,
       "version_minor": 0
      },
      "text/plain": [
       "Shuffle Reduce 7:   0%|          | 0/1024 [00:00<?, ?it/s]"
      ]
     },
     "metadata": {},
     "output_type": "display_data"
    },
    {
     "data": {
      "application/vnd.jupyter.widget-view+json": {
       "model_id": "",
       "version_major": 2,
       "version_minor": 0
      },
      "text/plain": [
       "- MapBatches(group_fn)->MapBatches(_filter_split)->RandomShuffle 8:   0%|          | 0/1024 [00:00<?, ?it/s]"
      ]
     },
     "metadata": {},
     "output_type": "display_data"
    },
    {
     "data": {
      "application/vnd.jupyter.widget-view+json": {
       "model_id": "",
       "version_major": 2,
       "version_minor": 0
      },
      "text/plain": [
       "Shuffle Map 9:   0%|          | 0/1024 [00:00<?, ?it/s]"
      ]
     },
     "metadata": {},
     "output_type": "display_data"
    },
    {
     "data": {
      "application/vnd.jupyter.widget-view+json": {
       "model_id": "",
       "version_major": 2,
       "version_minor": 0
      },
      "text/plain": [
       "Shuffle Reduce 10:   0%|          | 0/1024 [00:00<?, ?it/s]"
      ]
     },
     "metadata": {},
     "output_type": "display_data"
    },
    {
     "data": {
      "application/vnd.jupyter.widget-view+json": {
       "model_id": "",
       "version_major": 2,
       "version_minor": 0
      },
      "text/plain": [
       "- Aggregate 11:   0%|          | 0/1024 [00:00<?, ?it/s]"
      ]
     },
     "metadata": {},
     "output_type": "display_data"
    },
    {
     "data": {
      "application/vnd.jupyter.widget-view+json": {
       "model_id": "",
       "version_major": 2,
       "version_minor": 0
      },
      "text/plain": [
       "Shuffle Map 12:   0%|          | 0/1024 [00:00<?, ?it/s]"
      ]
     },
     "metadata": {},
     "output_type": "display_data"
    },
    {
     "data": {
      "application/vnd.jupyter.widget-view+json": {
       "model_id": "",
       "version_major": 2,
       "version_minor": 0
      },
      "text/plain": [
       "Shuffle Reduce 13:   0%|          | 0/1024 [00:00<?, ?it/s]"
      ]
     },
     "metadata": {},
     "output_type": "display_data"
    },
    {
     "data": {
      "application/vnd.jupyter.widget-view+json": {
       "model_id": "",
       "version_major": 2,
       "version_minor": 0
      },
      "text/plain": [
       "Running 0:   0%|          | 0/1024 [00:00<?, ?it/s]"
      ]
     },
     "metadata": {},
     "output_type": "display_data"
    },
    {
     "data": {
      "application/vnd.jupyter.widget-view+json": {
       "model_id": "",
       "version_major": 2,
       "version_minor": 0
      },
      "text/plain": [
       "Sort Sample 0:   0%|          | 0/32 [00:00<?, ?it/s]"
      ]
     },
     "metadata": {},
     "output_type": "display_data"
    },
    {
     "data": {
      "application/vnd.jupyter.widget-view+json": {
       "model_id": "",
       "version_major": 2,
       "version_minor": 0
      },
      "text/plain": [
       "Sort Sample 0:   0%|          | 0/32 [00:00<?, ?it/s]"
      ]
     },
     "metadata": {},
     "output_type": "display_data"
    },
    {
     "name": "stderr",
     "output_type": "stream",
     "text": [
      "2024-01-05 09:24:32,528\tINFO streaming_executor.py:93 -- Executing DAG InputDataBuffer[Input] -> TaskPoolMapOperator[ReadCSV->SplitBlocks(32)] -> AllToAllOperator[RandomShuffle] -> AllToAllOperator[Sort] -> AllToAllOperator[MapBatches(group_fn)->MapBatches(_filter_split)->RandomShuffle] -> TaskPoolMapOperator[MapBatches(preprocess)]\n",
      "2024-01-05 09:24:32,529\tINFO streaming_executor.py:94 -- Execution config: ExecutionOptions(resource_limits=ExecutionResources(cpu=None, gpu=None, object_store_memory=None), locality_with_output=False, preserve_order=True, actor_locality_enabled=True, verbose_progress=False)\n",
      "2024-01-05 09:24:32,530\tINFO streaming_executor.py:96 -- Tip: For detailed progress reporting, run `ray.data.DataContext.get_current().execution_options.verbose_progress = True`\n"
     ]
    },
    {
     "data": {
      "application/vnd.jupyter.widget-view+json": {
       "model_id": "",
       "version_major": 2,
       "version_minor": 0
      },
      "text/plain": [
       "- RandomShuffle 1:   0%|          | 0/1024 [00:00<?, ?it/s]"
      ]
     },
     "metadata": {},
     "output_type": "display_data"
    },
    {
     "data": {
      "application/vnd.jupyter.widget-view+json": {
       "model_id": "",
       "version_major": 2,
       "version_minor": 0
      },
      "text/plain": [
       "Shuffle Map 2:   0%|          | 0/1024 [00:00<?, ?it/s]"
      ]
     },
     "metadata": {},
     "output_type": "display_data"
    },
    {
     "data": {
      "application/vnd.jupyter.widget-view+json": {
       "model_id": "",
       "version_major": 2,
       "version_minor": 0
      },
      "text/plain": [
       "Shuffle Reduce 3:   0%|          | 0/1024 [00:00<?, ?it/s]"
      ]
     },
     "metadata": {},
     "output_type": "display_data"
    },
    {
     "data": {
      "application/vnd.jupyter.widget-view+json": {
       "model_id": "",
       "version_major": 2,
       "version_minor": 0
      },
      "text/plain": [
       "- Sort 4:   0%|          | 0/1024 [00:00<?, ?it/s]"
      ]
     },
     "metadata": {},
     "output_type": "display_data"
    },
    {
     "data": {
      "application/vnd.jupyter.widget-view+json": {
       "model_id": "",
       "version_major": 2,
       "version_minor": 0
      },
      "text/plain": [
       "Sort Sample 5:   0%|          | 0/1024 [00:00<?, ?it/s]"
      ]
     },
     "metadata": {},
     "output_type": "display_data"
    },
    {
     "data": {
      "application/vnd.jupyter.widget-view+json": {
       "model_id": "",
       "version_major": 2,
       "version_minor": 0
      },
      "text/plain": [
       "Shuffle Map 6:   0%|          | 0/1024 [00:00<?, ?it/s]"
      ]
     },
     "metadata": {},
     "output_type": "display_data"
    },
    {
     "data": {
      "application/vnd.jupyter.widget-view+json": {
       "model_id": "",
       "version_major": 2,
       "version_minor": 0
      },
      "text/plain": [
       "Shuffle Reduce 7:   0%|          | 0/1024 [00:00<?, ?it/s]"
      ]
     },
     "metadata": {},
     "output_type": "display_data"
    },
    {
     "data": {
      "application/vnd.jupyter.widget-view+json": {
       "model_id": "",
       "version_major": 2,
       "version_minor": 0
      },
      "text/plain": [
       "- MapBatches(group_fn)->MapBatches(_filter_split)->RandomShuffle 8:   0%|          | 0/1024 [00:00<?, ?it/s]"
      ]
     },
     "metadata": {},
     "output_type": "display_data"
    },
    {
     "data": {
      "application/vnd.jupyter.widget-view+json": {
       "model_id": "",
       "version_major": 2,
       "version_minor": 0
      },
      "text/plain": [
       "Shuffle Map 9:   0%|          | 0/1024 [00:00<?, ?it/s]"
      ]
     },
     "metadata": {},
     "output_type": "display_data"
    },
    {
     "data": {
      "application/vnd.jupyter.widget-view+json": {
       "model_id": "",
       "version_major": 2,
       "version_minor": 0
      },
      "text/plain": [
       "Shuffle Reduce 10:   0%|          | 0/1024 [00:00<?, ?it/s]"
      ]
     },
     "metadata": {},
     "output_type": "display_data"
    },
    {
     "data": {
      "application/vnd.jupyter.widget-view+json": {
       "model_id": "",
       "version_major": 2,
       "version_minor": 0
      },
      "text/plain": [
       "Running 0:   0%|          | 0/1024 [00:00<?, ?it/s]"
      ]
     },
     "metadata": {},
     "output_type": "display_data"
    },
    {
     "data": {
      "application/vnd.jupyter.widget-view+json": {
       "model_id": "",
       "version_major": 2,
       "version_minor": 0
      },
      "text/plain": [
       "Sort Sample 0:   0%|          | 0/32 [00:00<?, ?it/s]"
      ]
     },
     "metadata": {},
     "output_type": "display_data"
    },
    {
     "name": "stderr",
     "output_type": "stream",
     "text": [
      "2024-01-05 09:24:33,992\tINFO streaming_executor.py:93 -- Executing DAG InputDataBuffer[Input] -> TaskPoolMapOperator[ReadCSV->SplitBlocks(32)] -> AllToAllOperator[RandomShuffle] -> AllToAllOperator[Sort] -> AllToAllOperator[MapBatches(group_fn)->MapBatches(_filter_split)->RandomShuffle] -> TaskPoolMapOperator[MapBatches(preprocess)]\n",
      "2024-01-05 09:24:33,993\tINFO streaming_executor.py:94 -- Execution config: ExecutionOptions(resource_limits=ExecutionResources(cpu=None, gpu=None, object_store_memory=None), locality_with_output=False, preserve_order=True, actor_locality_enabled=True, verbose_progress=False)\n",
      "2024-01-05 09:24:33,993\tINFO streaming_executor.py:96 -- Tip: For detailed progress reporting, run `ray.data.DataContext.get_current().execution_options.verbose_progress = True`\n"
     ]
    },
    {
     "data": {
      "application/vnd.jupyter.widget-view+json": {
       "model_id": "",
       "version_major": 2,
       "version_minor": 0
      },
      "text/plain": [
       "- RandomShuffle 1:   0%|          | 0/1024 [00:00<?, ?it/s]"
      ]
     },
     "metadata": {},
     "output_type": "display_data"
    },
    {
     "data": {
      "application/vnd.jupyter.widget-view+json": {
       "model_id": "",
       "version_major": 2,
       "version_minor": 0
      },
      "text/plain": [
       "Shuffle Map 2:   0%|          | 0/1024 [00:00<?, ?it/s]"
      ]
     },
     "metadata": {},
     "output_type": "display_data"
    },
    {
     "data": {
      "application/vnd.jupyter.widget-view+json": {
       "model_id": "",
       "version_major": 2,
       "version_minor": 0
      },
      "text/plain": [
       "Shuffle Reduce 3:   0%|          | 0/1024 [00:00<?, ?it/s]"
      ]
     },
     "metadata": {},
     "output_type": "display_data"
    },
    {
     "data": {
      "application/vnd.jupyter.widget-view+json": {
       "model_id": "",
       "version_major": 2,
       "version_minor": 0
      },
      "text/plain": [
       "- Sort 4:   0%|          | 0/1024 [00:00<?, ?it/s]"
      ]
     },
     "metadata": {},
     "output_type": "display_data"
    },
    {
     "data": {
      "application/vnd.jupyter.widget-view+json": {
       "model_id": "",
       "version_major": 2,
       "version_minor": 0
      },
      "text/plain": [
       "Sort Sample 5:   0%|          | 0/1024 [00:00<?, ?it/s]"
      ]
     },
     "metadata": {},
     "output_type": "display_data"
    },
    {
     "data": {
      "application/vnd.jupyter.widget-view+json": {
       "model_id": "",
       "version_major": 2,
       "version_minor": 0
      },
      "text/plain": [
       "Shuffle Map 6:   0%|          | 0/1024 [00:00<?, ?it/s]"
      ]
     },
     "metadata": {},
     "output_type": "display_data"
    },
    {
     "data": {
      "application/vnd.jupyter.widget-view+json": {
       "model_id": "f2a4aceba7a94715a41b129b5cd2dc1d",
       "version_major": 2,
       "version_minor": 0
      },
      "text/plain": [
       "Shuffle Reduce 7:   0%|          | 0/1024 [00:00<?, ?it/s]"
      ]
     },
     "metadata": {},
     "output_type": "display_data"
    },
    {
     "data": {
      "application/vnd.jupyter.widget-view+json": {
       "model_id": "df9eb63469b744999bc0d5212c915e11",
       "version_major": 2,
       "version_minor": 0
      },
      "text/plain": [
       "- MapBatches(group_fn)->MapBatches(_filter_split)->RandomShuffle 8:   0%|          | 0/1024 [00:00<?, ?it/s]"
      ]
     },
     "metadata": {},
     "output_type": "display_data"
    },
    {
     "data": {
      "application/vnd.jupyter.widget-view+json": {
       "model_id": "f2e4b312e869489b8e2970c6d8e5d7dc",
       "version_major": 2,
       "version_minor": 0
      },
      "text/plain": [
       "Shuffle Map 9:   0%|          | 0/1024 [00:00<?, ?it/s]"
      ]
     },
     "metadata": {},
     "output_type": "display_data"
    },
    {
     "data": {
      "application/vnd.jupyter.widget-view+json": {
       "model_id": "78751aad12534046b16a2eb11465936b",
       "version_major": 2,
       "version_minor": 0
      },
      "text/plain": [
       "Shuffle Reduce 10:   0%|          | 0/1024 [00:00<?, ?it/s]"
      ]
     },
     "metadata": {},
     "output_type": "display_data"
    },
    {
     "data": {
      "application/vnd.jupyter.widget-view+json": {
       "model_id": "6050dfbf8b2140b6a22df2825b0dadf4",
       "version_major": 2,
       "version_minor": 0
      },
      "text/plain": [
       "Running 0:   0%|          | 0/1024 [00:00<?, ?it/s]"
      ]
     },
     "metadata": {},
     "output_type": "display_data"
    },
    {
     "data": {
      "application/vnd.jupyter.widget-view+json": {
       "model_id": "9efd8fba99894b7b86822e9c389ece12",
       "version_major": 2,
       "version_minor": 0
      },
      "text/plain": [
       "Sort Sample 0:   0%|          | 0/32 [00:00<?, ?it/s]"
      ]
     },
     "metadata": {},
     "output_type": "display_data"
    }
   ],
   "source": [
    "# preprocessing the loaded data \n",
    "\n",
    "preprocessor = CustomPreprocessor()\n",
    "preprocessor =preprocessor.fit(train_ds)\n",
    "train_ds = preprocessor.transform(train_ds)\n",
    "val_ds = preprocessor.transform(val_ds)\n",
    "train_ds = train_ds.materialize()\n",
    "val_ds = val_ds.materialize()"
   ]
  },
  {
   "cell_type": "markdown",
   "id": "78860cef-d7ff-4c38-a668-c98b4dad9ce8",
   "metadata": {},
   "source": [
    "> Calling materialize here is important because it will cache the preprocessed data in memory. This will allow us to train our model without having to reprocess the data each time. "
   ]
  },
  {
   "cell_type": "markdown",
   "id": "e0eedcee-b214-4612-94d6-51e67bec23ee",
   "metadata": {},
   "source": [
    "Because we've preprocessed the data prior to training, we can use the `fit=False` and `transform=False` flags in our dataset config. This will allow us to skip the preprocessing step during training using the configuration setup."
   ]
  },
  {
   "cell_type": "code",
   "execution_count": 66,
   "id": "fbaa5052-20e6-4250-bf6d-f43314a20e4b",
   "metadata": {
    "tags": []
   },
   "outputs": [],
   "source": [
    "# dataset config \n",
    "\n",
    "# Dataset config\n",
    "options = ray.data.ExecutionOptions(preserve_order=True)\n",
    "dataset_config = DataConfig(\n",
    "    datasets_to_split=[\"train\"],\n",
    "    execution_options=options)"
   ]
  },
  {
   "cell_type": "markdown",
   "id": "5139151b-df87-456b-b41a-07318cf67332",
   "metadata": {},
   "source": [
    "> Ray supports different trainer for different frameworks like Tensorflow, xgboost etc. In our case we will use TorchTrainer"
   ]
  },
  {
   "cell_type": "code",
   "execution_count": 67,
   "id": "4e9776dc-30aa-4070-ac5e-2a19b6410ddb",
   "metadata": {
    "tags": []
   },
   "outputs": [],
   "source": [
    "# calling TorchTrainer with all defined configurations\n",
    "torch_config = TorchConfig(backend=\"gloo\")\n",
    "\n",
    "trainer = TorchTrainer(\n",
    "    train_loop_per_worker= train_loop_per_worker,\n",
    "    train_loop_config=train_loop_config,\n",
    "    scaling_config=scaling_config,\n",
    "    run_config=run_config,\n",
    "    torch_config=torch_config,\n",
    "    datasets={\"train\": train_ds, \"val\":val_ds},\n",
    "    dataset_config=dataset_config,\n",
    "    metadata={\"class_to_index\": preprocessor.class_to_index})"
   ]
  },
  {
   "cell_type": "markdown",
   "id": "19a639c9-e0cc-4f2a-b0ff-7b1b083be101",
   "metadata": {},
   "source": [
    "**To use gloo backend in pytorch as windows doesn't support NCCL backend**"
   ]
  },
  {
   "cell_type": "code",
   "execution_count": 68,
   "id": "8ed14107-72d4-4e74-83ee-2ca45dfa66e7",
   "metadata": {
    "tags": []
   },
   "outputs": [],
   "source": [
    "# fitting our model to data \n",
    "\n",
    "#results = trainer.fit()"
   ]
  },
  {
   "cell_type": "code",
   "execution_count": 69,
   "id": "e68c0957-fb49-450d-a255-27bc8dc70774",
   "metadata": {},
   "outputs": [],
   "source": [
    "# checking the run results\n",
    "\n",
    "#results.metrics_dataframe"
   ]
  },
  {
   "cell_type": "code",
   "execution_count": 70,
   "id": "d47d4d20-0a2d-4211-84a2-1d449975ea98",
   "metadata": {
    "tags": []
   },
   "outputs": [],
   "source": [
    "# best checkpoint which has minimum validation loss\n",
    "\n",
    "#results.best_checkpoints"
   ]
  },
  {
   "cell_type": "markdown",
   "id": "d175a762-e7cb-4925-b83e-0d16dcdc8e34",
   "metadata": {},
   "source": [
    "### Evaluation \n",
    "\n",
    "Evaluating above model on sample validation dataset "
   ]
  },
  {
   "cell_type": "code",
   "execution_count": 71,
   "id": "c66c304e-8553-4595-bb18-c137bb2f90a7",
   "metadata": {
    "tags": []
   },
   "outputs": [],
   "source": [
    "from sklearn.metrics import precision_recall_fscore_support"
   ]
  },
  {
   "cell_type": "code",
   "execution_count": 136,
   "id": "7d58227d-6cb2-4b91-8300-c0f4c6d0eaf7",
   "metadata": {
    "tags": []
   },
   "outputs": [],
   "source": [
    "# defining torchPredcitor according to our use case\n",
    "\n",
    "class TorchPredictor:\n",
    "    def __init__(self, preprocessor, model):\n",
    "        self.preprocessor = preprocessor\n",
    "        self.model = model\n",
    "        self.model.eval()\n",
    "        \n",
    "    def __call__(self, batch):\n",
    "        results = self.model.predict(collate_fn(batch))\n",
    "        return {\"output\": results}\n",
    "\n",
    "    def predict_proba(self, batch):\n",
    "        results = self.model.predict_proba(collate_fn(batch))\n",
    "        return {\"output\": results}\n",
    "        \n",
    "    def get_preprocessor(self):\n",
    "        return self.preprocessor\n",
    "        \n",
    "    @classmethod\n",
    "    def from_checkpoint(cls, checkpoint):\n",
    "        metadata = checkpoint.get_metadata()\n",
    "        preprocessor = CustomPreprocessor(class_to_index=metadata[\"class_to_index\"])\n",
    "        model = FinetunedLLM.load(Path(checkpoint.path, \"args.json\"), Path(checkpoint.path, \"model.pt\"))\n",
    "        return cls(preprocessor=preprocessor, model=model)"
   ]
  },
  {
   "cell_type": "code",
   "execution_count": 73,
   "id": "1fa43e32-e573-4322-b887-3840b832190b",
   "metadata": {
    "tags": []
   },
   "outputs": [],
   "source": [
    "# Artifacts\n",
    "# best_checkpoint = results.best_checkpoints[0][0]\n",
    "# predictor = TorchPredictor.from_checkpoint(best_checkpoint)\n",
    "# preprocessor = predictor.get_preprocessor()"
   ]
  },
  {
   "cell_type": "code",
   "execution_count": 74,
   "id": "a926e608-e970-4933-95d6-76cf57ca7abd",
   "metadata": {
    "tags": []
   },
   "outputs": [],
   "source": [
    "#results.best_checkpoints[0][0]"
   ]
  },
  {
   "cell_type": "code",
   "execution_count": 75,
   "id": "fd0bcee9-f284-43d8-8e61-14aac1ff1c8d",
   "metadata": {
    "tags": []
   },
   "outputs": [],
   "source": [
    "# resume the inference from saved checkpoint\n",
    "\n",
    "# torch.save(best_checkpoint, 'checkpoint.pth')\n",
    "checkpoint = torch.load( 'checkpoint.pth')"
   ]
  },
  {
   "cell_type": "code",
   "execution_count": 76,
   "id": "cbae7467-8341-427c-b8d5-e846f310a259",
   "metadata": {
    "tags": []
   },
   "outputs": [
    {
     "name": "stderr",
     "output_type": "stream",
     "text": [
      "Some weights of the model checkpoint at allenai/scibert_scivocab_uncased were not used when initializing BertModel: ['cls.predictions.bias', 'cls.predictions.transform.LayerNorm.bias', 'cls.predictions.decoder.weight', 'cls.predictions.transform.dense.weight', 'cls.seq_relationship.bias', 'cls.seq_relationship.weight', 'cls.predictions.transform.LayerNorm.weight', 'cls.predictions.transform.dense.bias', 'cls.predictions.decoder.bias']\n",
      "- This IS expected if you are initializing BertModel from the checkpoint of a model trained on another task or with another architecture (e.g. initializing a BertForSequenceClassification model from a BertForPreTraining model).\n",
      "- This IS NOT expected if you are initializing BertModel from the checkpoint of a model that you expect to be exactly identical (initializing a BertForSequenceClassification model from a BertForSequenceClassification model).\n"
     ]
    }
   ],
   "source": [
    "# Artifacts\n",
    "\n",
    "predictor = TorchPredictor.from_checkpoint(checkpoint)\n",
    "preprocessor = predictor.get_preprocessor()"
   ]
  },
  {
   "cell_type": "code",
   "execution_count": 77,
   "id": "284f6757-b360-48aa-962e-86ece8e52a98",
   "metadata": {
    "tags": []
   },
   "outputs": [
    {
     "name": "stderr",
     "output_type": "stream",
     "text": [
      "2024-01-05 09:24:39,171\tINFO read_api.py:406 -- To satisfy the requested parallelism of 32, each read task output is split into 32 smaller blocks.\n",
      "2024-01-05 09:24:39,176\tINFO streaming_executor.py:93 -- Executing DAG InputDataBuffer[Input] -> TaskPoolMapOperator[ReadCSV->SplitBlocks(32)] -> TaskPoolMapOperator[MapBatches(preprocess)] -> LimitOperator[limit=1]\n",
      "2024-01-05 09:24:39,178\tINFO streaming_executor.py:94 -- Execution config: ExecutionOptions(resource_limits=ExecutionResources(cpu=None, gpu=None, object_store_memory=None), locality_with_output=False, preserve_order=True, actor_locality_enabled=True, verbose_progress=False)\n",
      "2024-01-05 09:24:39,179\tINFO streaming_executor.py:96 -- Tip: For detailed progress reporting, run `ray.data.DataContext.get_current().execution_options.verbose_progress = True`\n"
     ]
    },
    {
     "data": {
      "application/vnd.jupyter.widget-view+json": {
       "model_id": "",
       "version_major": 2,
       "version_minor": 0
      },
      "text/plain": [
       "Running 0:   0%|          | 0/1 [00:00<?, ?it/s]"
      ]
     },
     "metadata": {},
     "output_type": "display_data"
    },
    {
     "data": {
      "text/plain": [
       "[{'ids': array([  102,  4905,  2069,  2470,  2848,  4905, 30132, 22081,   691,\n",
       "          4324,  7491,  5896,   341,  6136,   934, 30137,   103,     0,\n",
       "             0,     0]),\n",
       "  'masks': array([1, 1, 1, 1, 1, 1, 1, 1, 1, 1, 1, 1, 1, 1, 1, 1, 1, 0, 0, 0]),\n",
       "  'targets': 3}]"
      ]
     },
     "execution_count": 77,
     "metadata": {},
     "output_type": "execute_result"
    }
   ],
   "source": [
    "# loading holdout set \n",
    "\n",
    "HOLDOUT_LOC = \"https://raw.githubusercontent.com/GokuMohandas/Made-With-ML/main/datasets/holdout.csv\"\n",
    "test_ds = ray.data.read_csv(HOLDOUT_LOC)\n",
    "preprocessed_ds = preprocessor.transform(test_ds)\n",
    "preprocessed_ds.take(1)"
   ]
  },
  {
   "cell_type": "code",
   "execution_count": 78,
   "id": "954193ff-fe1a-4d6b-a4c7-d62223849895",
   "metadata": {
    "tags": []
   },
   "outputs": [
    {
     "name": "stderr",
     "output_type": "stream",
     "text": [
      "2024-01-05 09:24:40,052\tINFO streaming_executor.py:93 -- Executing DAG InputDataBuffer[Input] -> TaskPoolMapOperator[ReadCSV->SplitBlocks(32)] -> TaskPoolMapOperator[MapBatches(preprocess)->MapBatches(<lambda>)]\n",
      "2024-01-05 09:24:40,054\tINFO streaming_executor.py:94 -- Execution config: ExecutionOptions(resource_limits=ExecutionResources(cpu=None, gpu=None, object_store_memory=None), locality_with_output=False, preserve_order=True, actor_locality_enabled=True, verbose_progress=False)\n",
      "2024-01-05 09:24:40,054\tINFO streaming_executor.py:96 -- Tip: For detailed progress reporting, run `ray.data.DataContext.get_current().execution_options.verbose_progress = True`\n"
     ]
    },
    {
     "data": {
      "application/vnd.jupyter.widget-view+json": {
       "model_id": "",
       "version_major": 2,
       "version_minor": 0
      },
      "text/plain": [
       "Running 0:   0%|          | 0/1024 [00:00<?, ?it/s]"
      ]
     },
     "metadata": {},
     "output_type": "display_data"
    },
    {
     "name": "stdout",
     "output_type": "stream",
     "text": [
      "[3 3 3 0 2 0 0 0 0 2 0 0 2 3 0 0 2 2 3 2 3 0 3 2 0 2 2 1 1 2 2 2 2 2 2 0 0\n",
      " 0 0 0 1 1 2 0 0 3 1 2 0 2 2 3 3 0 2 3 2 3 3 3 3 0 0 0 0 2 2 0 2 1 0 2 3 0\n",
      " 0 2 2 2 2 2 0 0 2 0 1 0 0 0 0 3 0 0 2 0 2 2 3 2 0 2 0 2 0 3 0 0 0 0 0 2 0\n",
      " 0 2 2 2 2 3 0 2 0 2 0 2 3 3 3 2 0 2 2 2 2 0 2 2 2 0 1 2 2 2 2 2 1 2 0 3 0\n",
      " 2 2 1 1 2 0 0 0 0 0 0 2 2 2 0 2 1 1 2 0 0 1 2 3 2 2 2 0 0 2 0 2 0 3 0 2 2\n",
      " 0 1 2 1 2 2]\n"
     ]
    }
   ],
   "source": [
    "# getting y_true value\n",
    "\n",
    "values = preprocessed_ds.select_columns(cols=[\"targets\"]).take_all()\n",
    "y_true = np.stack([item['targets'] for item in values])\n",
    "print(y_true)"
   ]
  },
  {
   "cell_type": "code",
   "execution_count": 79,
   "id": "3bd87809-5946-4c4b-963e-cac09adc984b",
   "metadata": {
    "tags": []
   },
   "outputs": [
    {
     "name": "stderr",
     "output_type": "stream",
     "text": [
      "2024-01-05 09:24:41,111\tINFO streaming_executor.py:93 -- Executing DAG InputDataBuffer[Input] -> TaskPoolMapOperator[ReadCSV->SplitBlocks(32)] -> TaskPoolMapOperator[MapBatches(preprocess)->MapBatches(TorchPredictor)]\n",
      "2024-01-05 09:24:41,112\tINFO streaming_executor.py:94 -- Execution config: ExecutionOptions(resource_limits=ExecutionResources(cpu=None, gpu=None, object_store_memory=None), locality_with_output=False, preserve_order=True, actor_locality_enabled=True, verbose_progress=False)\n",
      "2024-01-05 09:24:41,113\tINFO streaming_executor.py:96 -- Tip: For detailed progress reporting, run `ray.data.DataContext.get_current().execution_options.verbose_progress = True`\n"
     ]
    },
    {
     "data": {
      "application/vnd.jupyter.widget-view+json": {
       "model_id": "",
       "version_major": 2,
       "version_minor": 0
      },
      "text/plain": [
       "Running 0:   0%|          | 0/1024 [00:00<?, ?it/s]"
      ]
     },
     "metadata": {},
     "output_type": "display_data"
    },
    {
     "name": "stderr",
     "output_type": "stream",
     "text": [
      "\u001b[2m\u001b[36m(MapBatches(preprocess)->MapBatches(TorchPredictor) pid=6500)\u001b[0m C:\\Users\\Lenovo\\AppData\\Local\\Temp\\ipykernel_2252\\1097317791.py:9: UserWarning: The given NumPy array is not writable, and PyTorch does not support non-writable tensors. This means writing to this tensor will result in undefined behavior. You may want to copy the array to protect its data or make it writable before converting it to a tensor. This type of warning will be suppressed for the rest of this program. (Triggered internally at ..\\torch\\csrc\\utils\\tensor_numpy.cpp:212.)\n"
     ]
    }
   ],
   "source": [
    "# getting y_pred\n",
    "\n",
    "predictions = preprocessed_ds.map_batches(predictor).take_all()\n"
   ]
  },
  {
   "cell_type": "code",
   "execution_count": 80,
   "id": "23f8f304-9977-44f5-86ac-509b782b35ae",
   "metadata": {
    "tags": []
   },
   "outputs": [],
   "source": [
    "y_pred = np.array([d[\"output\"] for d in predictions])"
   ]
  },
  {
   "cell_type": "code",
   "execution_count": 81,
   "id": "f37d30fe-c936-4b8a-a332-b0e27fc84d0f",
   "metadata": {
    "tags": []
   },
   "outputs": [
    {
     "data": {
      "text/plain": [
       "{'precision': 0.9339843154698659,\n",
       " 'recall': 0.9319371727748691,\n",
       " 'f1': 0.9312127413632342}"
      ]
     },
     "execution_count": 81,
     "metadata": {},
     "output_type": "execute_result"
    }
   ],
   "source": [
    "# evaluating using precsion_recall score\n",
    "metrics = precision_recall_fscore_support(y_true, y_pred, average=\"weighted\")\n",
    "{\"precision\": metrics[0], \"recall\": metrics[1], \"f1\": metrics[2]}"
   ]
  },
  {
   "cell_type": "code",
   "execution_count": 82,
   "id": "55c896d5-bf92-4e66-9b89-028004742ac0",
   "metadata": {
    "tags": []
   },
   "outputs": [],
   "source": [
    "# putting all together in a single function \n",
    "\n",
    "def evaluate(ds, predictor):\n",
    "    # y_true\n",
    "    preprocessor = predictor.get_preprocessor() # predcitor loaded from checkpoint\n",
    "    preprocessed_ds = preprocessor.transform(ds)\n",
    "    values = preprocessed_ds.select_columns(cols=[\"targets\"]).take_all()\n",
    "    y_true = np.stack([item[\"targets\"] for item in values])\n",
    "    \n",
    "    # y_pred\n",
    "    predictions = preprocessed_ds.map_batches(predictor).take_all()\n",
    "    y_pred = np.array([d[\"output\"] for d in predictions])\n",
    "\n",
    "    # Evaluate\n",
    "    metrics = precision_recall_fscore_support(y_true, y_pred, average=\"weighted\")\n",
    "    performance = {\"precision\": metrics[0], \"recall\": metrics[1], \"f1\": metrics[2]}\n",
    "    return performance"
   ]
  },
  {
   "cell_type": "code",
   "execution_count": 83,
   "id": "a3349374-462e-4dd2-91ed-535b8105585e",
   "metadata": {
    "tags": []
   },
   "outputs": [],
   "source": [
    "# Evaluate on test split\n",
    "# performance = evaluate(ds=test_ds, predictor=predictor)\n",
    "# print (json.dumps(performance, indent=2))"
   ]
  },
  {
   "cell_type": "markdown",
   "id": "10233074-e25d-425d-8286-176c929fc687",
   "metadata": {},
   "source": [
    "> The model is performing well with good recall, precision and f1 score "
   ]
  },
  {
   "cell_type": "markdown",
   "id": "88507b5a-6e49-47ab-86ec-c7a40ff58af8",
   "metadata": {},
   "source": [
    "## Inference \n",
    "\n",
    "Now we will try to get prediction probabilities for each label for a given input. Defining requried functions to do "
   ]
  },
  {
   "cell_type": "code",
   "execution_count": 84,
   "id": "d78c3c82-f940-49ab-8115-5079222cb3cb",
   "metadata": {
    "tags": []
   },
   "outputs": [],
   "source": [
    "def format_prob(prob, index_to_class):\n",
    "    d = {}\n",
    "    for i, item in enumerate(prob):\n",
    "        d[index_to_class[i]] = item \n",
    "        \n",
    "    return d"
   ]
  },
  {
   "cell_type": "code",
   "execution_count": 85,
   "id": "481a8147-cf27-4f7e-abd8-1237d97b9790",
   "metadata": {
    "tags": []
   },
   "outputs": [],
   "source": [
    "def predict_proba(ds, predictor):\n",
    "    preprocessor = predictor.get_preprocessor()\n",
    "    preprocessed_ds = preprocessor.transform(ds)\n",
    "    outputs = preprocessed_ds.map_batches(predictor.predict_proba)\n",
    "    y_prob = np.array([d[\"output\"] for d in outputs.take_all()])\n",
    "    results = []\n",
    "    for i, prob in enumerate(y_prob):\n",
    "        tag = preprocessor.index_to_class[prob.argmax()]\n",
    "        results.append({\"prediction\": tag, \"probabilities\": format_prob(prob, preprocessor.index_to_class)})\n",
    "    return results\n"
   ]
  },
  {
   "cell_type": "code",
   "execution_count": 86,
   "id": "21ff9995-00dd-4164-8e59-544a234bad1d",
   "metadata": {
    "tags": []
   },
   "outputs": [
    {
     "name": "stderr",
     "output_type": "stream",
     "text": [
      "2024-01-05 09:25:40,392\tINFO streaming_executor.py:93 -- Executing DAG InputDataBuffer[Input] -> TaskPoolMapOperator[MapBatches(preprocess)->MapBatches(TorchPredictor.predict_proba)]\n",
      "2024-01-05 09:25:40,393\tINFO streaming_executor.py:94 -- Execution config: ExecutionOptions(resource_limits=ExecutionResources(cpu=None, gpu=None, object_store_memory=None), locality_with_output=False, preserve_order=True, actor_locality_enabled=True, verbose_progress=False)\n",
      "2024-01-05 09:25:40,393\tINFO streaming_executor.py:96 -- Tip: For detailed progress reporting, run `ray.data.DataContext.get_current().execution_options.verbose_progress = True`\n"
     ]
    },
    {
     "data": {
      "application/vnd.jupyter.widget-view+json": {
       "model_id": "",
       "version_major": 2,
       "version_minor": 0
      },
      "text/plain": [
       "Running 0:   0%|          | 0/1 [00:00<?, ?it/s]"
      ]
     },
     "metadata": {},
     "output_type": "display_data"
    },
    {
     "data": {
      "text/plain": [
       "[{'prediction': 'natural-language-processing',\n",
       "  'probabilities': {'computer-vision': 0.00013394534,\n",
       "   'mlops': 0.00021020895,\n",
       "   'natural-language-processing': 0.99945337,\n",
       "   'other': 0.00020245658}}]"
      ]
     },
     "execution_count": 86,
     "metadata": {},
     "output_type": "execute_result"
    }
   ],
   "source": [
    "# Predict on sample\n",
    "title = \"Transfer learning with transformers\"\n",
    "description = \"Using transformers for transfer learning on text classification tasks.\"\n",
    "sample_ds = ray.data.from_items([{\"title\": title, \"description\": description, \"tag\": \"other\"}])\n",
    "predict_proba(ds=sample_ds, predictor=predictor)"
   ]
  },
  {
   "cell_type": "markdown",
   "id": "1377f5a7-057f-4efa-9210-2369c37b7d3f",
   "metadata": {},
   "source": [
    "## Experiment Tracking\n",
    "\n",
    "Experiment tracking is the process of managing all the different experiments and their components, such as parameters, metrics, models and other artifacts and it enables us to:\n",
    "\n",
    "* Organize all the necessary components of a specific experiment. It's important to have everything in one place and know where it is so you can use them later.\n",
    "* Reproduce past results (easily) using saved experiments.\n",
    "* Log iterative improvements across time, data, ideas, teams, etc.\n",
    "\n",
    "here are many options for experiment tracking but we're going to use MLFlow (100% free and open-source) because it has all the functionality we'll need. We can run MLFlow on our own servers and databases so there are no storage cost / limitations, making it one of the most popular options and is used by Microsoft, Facebook, Databricks and others."
   ]
  },
  {
   "cell_type": "code",
   "execution_count": 87,
   "id": "04ef1dfd-d612-4a86-b69e-0857eac37e65",
   "metadata": {
    "tags": []
   },
   "outputs": [],
   "source": [
    "import mlflow \n",
    "from pathlib import Path\n",
    "from ray.tune.logger.mlflow import MLflowLoggerCallback\n",
    "import time"
   ]
  },
  {
   "cell_type": "markdown",
   "id": "c47504e2-3056-4048-bb22-6c5b6d17effd",
   "metadata": {},
   "source": [
    "Creating a path to store all mlruns (both artifact & backend store) in a local directory for our project purpose. Generally in `production setting`, artifacts store will be cloud (ex: s3) and backend store will be any database server(eg: postgres)"
   ]
  },
  {
   "cell_type": "code",
   "execution_count": 88,
   "id": "ea0cf686-617b-4490-99b4-123431b84b06",
   "metadata": {
    "tags": []
   },
   "outputs": [
    {
     "name": "stdout",
     "output_type": "stream",
     "text": [
      "file:///E:\\efs\\shared_storage\\madewithml\\mlflow\n"
     ]
    }
   ],
   "source": [
    "# configuring mlflow and setting mlflow tracking uri\n",
    "\n",
    "MODEL_REGISTRY = Path(f\"{EFS_DIR}/mlflow\")\n",
    "Path(MODEL_REGISTRY).mkdir(parents=True, exist_ok=True)\n",
    "MLFLOW_TRACKING_URI = \"file:///\" + str(MODEL_REGISTRY.absolute())\n",
    "mlflow.set_tracking_uri(MLFLOW_TRACKING_URI)\n",
    "print(mlflow.get_tracking_uri())"
   ]
  },
  {
   "cell_type": "markdown",
   "id": "1a2d9881-d27e-46f2-a9c1-526aa7e28f1d",
   "metadata": {},
   "source": [
    "> Adding mlflow to training api using Ray is easy, we just need to add it as a callback since the Ray has mlflow integrations, it automatically logs all the required components in an experiement "
   ]
  },
  {
   "cell_type": "code",
   "execution_count": 89,
   "id": "063641fb-8713-4ce1-a99c-a43121b65b1c",
   "metadata": {
    "tags": []
   },
   "outputs": [],
   "source": [
    "# adding mlflow callback \n",
    "\n",
    "#experiment_name = f\"llm-{int(time.time())}\"\n",
    "experiment_name = \"llm-1704277824\"\n",
    "mlflow_callback = MLflowLoggerCallback(\n",
    "tracking_uri= MLFLOW_TRACKING_URI,\n",
    "experiment_name=experiment_name,\n",
    "save_artifact=True)"
   ]
  },
  {
   "cell_type": "code",
   "execution_count": 90,
   "id": "f67140d9-a092-4bda-b9d4-06a731c41dac",
   "metadata": {
    "tags": []
   },
   "outputs": [],
   "source": [
    "# updating Torch Run configuration with mflow callback \n",
    "\n",
    "# Run configuration with MLflow callback\n",
    "run_config = RunConfig(\n",
    "    callbacks=[mlflow_callback],\n",
    "    checkpoint_config=checkpoint_config,\n",
    "    storage_path=EFS_DIR,\n",
    "    local_dir=EFS_DIR\n",
    ")"
   ]
  },
  {
   "cell_type": "markdown",
   "id": "ad9fb6b7-000e-4a49-8625-6996ce703963",
   "metadata": {},
   "source": [
    "> Training the model again with mlflow setup, so the experiment can be tracked visually"
   ]
  },
  {
   "cell_type": "code",
   "execution_count": 91,
   "id": "80091c77-cbcd-4187-8aec-44b6bf622c6b",
   "metadata": {
    "tags": []
   },
   "outputs": [
    {
     "name": "stderr",
     "output_type": "stream",
     "text": [
      "2024-01-05 09:25:45,840\tINFO read_api.py:406 -- To satisfy the requested parallelism of 32, each read task output is split into 32 smaller blocks.\n",
      "2024-01-05 09:25:45,857\tINFO streaming_executor.py:93 -- Executing DAG InputDataBuffer[Input] -> TaskPoolMapOperator[ReadCSV->SplitBlocks(32)] -> AllToAllOperator[RandomShuffle] -> LimitOperator[limit=1]\n",
      "2024-01-05 09:25:45,857\tINFO streaming_executor.py:94 -- Execution config: ExecutionOptions(resource_limits=ExecutionResources(cpu=None, gpu=None, object_store_memory=None), locality_with_output=False, preserve_order=True, actor_locality_enabled=True, verbose_progress=False)\n",
      "2024-01-05 09:25:45,858\tINFO streaming_executor.py:96 -- Tip: For detailed progress reporting, run `ray.data.DataContext.get_current().execution_options.verbose_progress = True`\n"
     ]
    },
    {
     "data": {
      "application/vnd.jupyter.widget-view+json": {
       "model_id": "",
       "version_major": 2,
       "version_minor": 0
      },
      "text/plain": [
       "- RandomShuffle 1:   0%|          | 0/1024 [00:00<?, ?it/s]"
      ]
     },
     "metadata": {},
     "output_type": "display_data"
    },
    {
     "data": {
      "application/vnd.jupyter.widget-view+json": {
       "model_id": "",
       "version_major": 2,
       "version_minor": 0
      },
      "text/plain": [
       "Shuffle Map 2:   0%|          | 0/1024 [00:00<?, ?it/s]"
      ]
     },
     "metadata": {},
     "output_type": "display_data"
    },
    {
     "data": {
      "application/vnd.jupyter.widget-view+json": {
       "model_id": "",
       "version_major": 2,
       "version_minor": 0
      },
      "text/plain": [
       "Shuffle Reduce 3:   0%|          | 0/1024 [00:00<?, ?it/s]"
      ]
     },
     "metadata": {},
     "output_type": "display_data"
    },
    {
     "data": {
      "application/vnd.jupyter.widget-view+json": {
       "model_id": "",
       "version_major": 2,
       "version_minor": 0
      },
      "text/plain": [
       "Running 0:   0%|          | 0/1 [00:00<?, ?it/s]"
      ]
     },
     "metadata": {},
     "output_type": "display_data"
    }
   ],
   "source": [
    "# Dataset\n",
    "ds = load_data()\n",
    "train_ds, val_ds = stratify_split(ds, stratify=\"tag\", test_size=test_size)"
   ]
  },
  {
   "cell_type": "code",
   "execution_count": 92,
   "id": "a880929a-5e84-475d-b887-05217a9cdbb5",
   "metadata": {
    "tags": []
   },
   "outputs": [
    {
     "name": "stderr",
     "output_type": "stream",
     "text": [
      "2024-01-05 09:25:46,381\tINFO streaming_executor.py:93 -- Executing DAG InputDataBuffer[Input] -> TaskPoolMapOperator[ReadCSV->SplitBlocks(32)] -> AllToAllOperator[RandomShuffle] -> AllToAllOperator[Sort] -> AllToAllOperator[MapBatches(group_fn)->MapBatches(_filter_split)->RandomShuffle] -> LimitOperator[limit=1]\n",
      "2024-01-05 09:25:46,382\tINFO streaming_executor.py:94 -- Execution config: ExecutionOptions(resource_limits=ExecutionResources(cpu=None, gpu=None, object_store_memory=None), locality_with_output=False, preserve_order=True, actor_locality_enabled=True, verbose_progress=False)\n",
      "2024-01-05 09:25:46,383\tINFO streaming_executor.py:96 -- Tip: For detailed progress reporting, run `ray.data.DataContext.get_current().execution_options.verbose_progress = True`\n"
     ]
    },
    {
     "data": {
      "application/vnd.jupyter.widget-view+json": {
       "model_id": "",
       "version_major": 2,
       "version_minor": 0
      },
      "text/plain": [
       "- RandomShuffle 1:   0%|          | 0/1024 [00:00<?, ?it/s]"
      ]
     },
     "metadata": {},
     "output_type": "display_data"
    },
    {
     "data": {
      "application/vnd.jupyter.widget-view+json": {
       "model_id": "",
       "version_major": 2,
       "version_minor": 0
      },
      "text/plain": [
       "Shuffle Map 2:   0%|          | 0/1024 [00:00<?, ?it/s]"
      ]
     },
     "metadata": {},
     "output_type": "display_data"
    },
    {
     "data": {
      "application/vnd.jupyter.widget-view+json": {
       "model_id": "",
       "version_major": 2,
       "version_minor": 0
      },
      "text/plain": [
       "Shuffle Reduce 3:   0%|          | 0/1024 [00:00<?, ?it/s]"
      ]
     },
     "metadata": {},
     "output_type": "display_data"
    },
    {
     "data": {
      "application/vnd.jupyter.widget-view+json": {
       "model_id": "",
       "version_major": 2,
       "version_minor": 0
      },
      "text/plain": [
       "- Sort 4:   0%|          | 0/1024 [00:00<?, ?it/s]"
      ]
     },
     "metadata": {},
     "output_type": "display_data"
    },
    {
     "data": {
      "application/vnd.jupyter.widget-view+json": {
       "model_id": "",
       "version_major": 2,
       "version_minor": 0
      },
      "text/plain": [
       "Sort Sample 5:   0%|          | 0/1024 [00:00<?, ?it/s]"
      ]
     },
     "metadata": {},
     "output_type": "display_data"
    },
    {
     "data": {
      "application/vnd.jupyter.widget-view+json": {
       "model_id": "",
       "version_major": 2,
       "version_minor": 0
      },
      "text/plain": [
       "Shuffle Map 6:   0%|          | 0/1024 [00:00<?, ?it/s]"
      ]
     },
     "metadata": {},
     "output_type": "display_data"
    },
    {
     "data": {
      "application/vnd.jupyter.widget-view+json": {
       "model_id": "",
       "version_major": 2,
       "version_minor": 0
      },
      "text/plain": [
       "Shuffle Reduce 7:   0%|          | 0/1024 [00:00<?, ?it/s]"
      ]
     },
     "metadata": {},
     "output_type": "display_data"
    },
    {
     "data": {
      "application/vnd.jupyter.widget-view+json": {
       "model_id": "",
       "version_major": 2,
       "version_minor": 0
      },
      "text/plain": [
       "- MapBatches(group_fn)->MapBatches(_filter_split)->RandomShuffle 8:   0%|          | 0/1024 [00:00<?, ?it/s]"
      ]
     },
     "metadata": {},
     "output_type": "display_data"
    },
    {
     "data": {
      "application/vnd.jupyter.widget-view+json": {
       "model_id": "",
       "version_major": 2,
       "version_minor": 0
      },
      "text/plain": [
       "Shuffle Map 9:   0%|          | 0/1024 [00:00<?, ?it/s]"
      ]
     },
     "metadata": {},
     "output_type": "display_data"
    },
    {
     "data": {
      "application/vnd.jupyter.widget-view+json": {
       "model_id": "",
       "version_major": 2,
       "version_minor": 0
      },
      "text/plain": [
       "Shuffle Reduce 10:   0%|          | 0/1024 [00:00<?, ?it/s]"
      ]
     },
     "metadata": {},
     "output_type": "display_data"
    },
    {
     "data": {
      "application/vnd.jupyter.widget-view+json": {
       "model_id": "",
       "version_major": 2,
       "version_minor": 0
      },
      "text/plain": [
       "Running 0:   0%|          | 0/1 [00:00<?, ?it/s]"
      ]
     },
     "metadata": {},
     "output_type": "display_data"
    },
    {
     "data": {
      "application/vnd.jupyter.widget-view+json": {
       "model_id": "",
       "version_major": 2,
       "version_minor": 0
      },
      "text/plain": [
       "Sort Sample 0:   0%|          | 0/32 [00:00<?, ?it/s]"
      ]
     },
     "metadata": {},
     "output_type": "display_data"
    },
    {
     "name": "stderr",
     "output_type": "stream",
     "text": [
      "2024-01-05 09:25:47,154\tINFO streaming_executor.py:93 -- Executing DAG InputDataBuffer[Input] -> TaskPoolMapOperator[ReadCSV->SplitBlocks(32)] -> AllToAllOperator[RandomShuffle] -> AllToAllOperator[Sort] -> AllToAllOperator[MapBatches(group_fn)->MapBatches(_filter_split)->RandomShuffle] -> AllToAllOperator[Aggregate] -> TaskPoolMapOperator[MapBatches(<lambda>)]\n",
      "2024-01-05 09:25:47,156\tINFO streaming_executor.py:94 -- Execution config: ExecutionOptions(resource_limits=ExecutionResources(cpu=None, gpu=None, object_store_memory=None), locality_with_output=False, preserve_order=True, actor_locality_enabled=True, verbose_progress=False)\n",
      "2024-01-05 09:25:47,156\tINFO streaming_executor.py:96 -- Tip: For detailed progress reporting, run `ray.data.DataContext.get_current().execution_options.verbose_progress = True`\n"
     ]
    },
    {
     "data": {
      "application/vnd.jupyter.widget-view+json": {
       "model_id": "",
       "version_major": 2,
       "version_minor": 0
      },
      "text/plain": [
       "- RandomShuffle 1:   0%|          | 0/1024 [00:00<?, ?it/s]"
      ]
     },
     "metadata": {},
     "output_type": "display_data"
    },
    {
     "data": {
      "application/vnd.jupyter.widget-view+json": {
       "model_id": "",
       "version_major": 2,
       "version_minor": 0
      },
      "text/plain": [
       "Shuffle Map 2:   0%|          | 0/1024 [00:00<?, ?it/s]"
      ]
     },
     "metadata": {},
     "output_type": "display_data"
    },
    {
     "data": {
      "application/vnd.jupyter.widget-view+json": {
       "model_id": "",
       "version_major": 2,
       "version_minor": 0
      },
      "text/plain": [
       "Shuffle Reduce 3:   0%|          | 0/1024 [00:00<?, ?it/s]"
      ]
     },
     "metadata": {},
     "output_type": "display_data"
    },
    {
     "data": {
      "application/vnd.jupyter.widget-view+json": {
       "model_id": "",
       "version_major": 2,
       "version_minor": 0
      },
      "text/plain": [
       "- Sort 4:   0%|          | 0/1024 [00:00<?, ?it/s]"
      ]
     },
     "metadata": {},
     "output_type": "display_data"
    },
    {
     "data": {
      "application/vnd.jupyter.widget-view+json": {
       "model_id": "",
       "version_major": 2,
       "version_minor": 0
      },
      "text/plain": [
       "Sort Sample 5:   0%|          | 0/1024 [00:00<?, ?it/s]"
      ]
     },
     "metadata": {},
     "output_type": "display_data"
    },
    {
     "data": {
      "application/vnd.jupyter.widget-view+json": {
       "model_id": "",
       "version_major": 2,
       "version_minor": 0
      },
      "text/plain": [
       "Shuffle Map 6:   0%|          | 0/1024 [00:00<?, ?it/s]"
      ]
     },
     "metadata": {},
     "output_type": "display_data"
    },
    {
     "data": {
      "application/vnd.jupyter.widget-view+json": {
       "model_id": "",
       "version_major": 2,
       "version_minor": 0
      },
      "text/plain": [
       "Shuffle Reduce 7:   0%|          | 0/1024 [00:00<?, ?it/s]"
      ]
     },
     "metadata": {},
     "output_type": "display_data"
    },
    {
     "data": {
      "application/vnd.jupyter.widget-view+json": {
       "model_id": "",
       "version_major": 2,
       "version_minor": 0
      },
      "text/plain": [
       "- MapBatches(group_fn)->MapBatches(_filter_split)->RandomShuffle 8:   0%|          | 0/1024 [00:00<?, ?it/s]"
      ]
     },
     "metadata": {},
     "output_type": "display_data"
    },
    {
     "data": {
      "application/vnd.jupyter.widget-view+json": {
       "model_id": "",
       "version_major": 2,
       "version_minor": 0
      },
      "text/plain": [
       "Shuffle Map 9:   0%|          | 0/1024 [00:00<?, ?it/s]"
      ]
     },
     "metadata": {},
     "output_type": "display_data"
    },
    {
     "data": {
      "application/vnd.jupyter.widget-view+json": {
       "model_id": "",
       "version_major": 2,
       "version_minor": 0
      },
      "text/plain": [
       "Shuffle Reduce 10:   0%|          | 0/1024 [00:00<?, ?it/s]"
      ]
     },
     "metadata": {},
     "output_type": "display_data"
    },
    {
     "data": {
      "application/vnd.jupyter.widget-view+json": {
       "model_id": "",
       "version_major": 2,
       "version_minor": 0
      },
      "text/plain": [
       "- Aggregate 11:   0%|          | 0/1024 [00:00<?, ?it/s]"
      ]
     },
     "metadata": {},
     "output_type": "display_data"
    },
    {
     "data": {
      "application/vnd.jupyter.widget-view+json": {
       "model_id": "",
       "version_major": 2,
       "version_minor": 0
      },
      "text/plain": [
       "Shuffle Map 12:   0%|          | 0/1024 [00:00<?, ?it/s]"
      ]
     },
     "metadata": {},
     "output_type": "display_data"
    },
    {
     "data": {
      "application/vnd.jupyter.widget-view+json": {
       "model_id": "",
       "version_major": 2,
       "version_minor": 0
      },
      "text/plain": [
       "Shuffle Reduce 13:   0%|          | 0/1024 [00:00<?, ?it/s]"
      ]
     },
     "metadata": {},
     "output_type": "display_data"
    },
    {
     "data": {
      "application/vnd.jupyter.widget-view+json": {
       "model_id": "",
       "version_major": 2,
       "version_minor": 0
      },
      "text/plain": [
       "Running 0:   0%|          | 0/1024 [00:00<?, ?it/s]"
      ]
     },
     "metadata": {},
     "output_type": "display_data"
    },
    {
     "data": {
      "application/vnd.jupyter.widget-view+json": {
       "model_id": "",
       "version_major": 2,
       "version_minor": 0
      },
      "text/plain": [
       "Sort Sample 0:   0%|          | 0/32 [00:00<?, ?it/s]"
      ]
     },
     "metadata": {},
     "output_type": "display_data"
    },
    {
     "data": {
      "application/vnd.jupyter.widget-view+json": {
       "model_id": "",
       "version_major": 2,
       "version_minor": 0
      },
      "text/plain": [
       "Sort Sample 0:   0%|          | 0/32 [00:00<?, ?it/s]"
      ]
     },
     "metadata": {},
     "output_type": "display_data"
    },
    {
     "name": "stderr",
     "output_type": "stream",
     "text": [
      "2024-01-05 09:25:48,292\tINFO streaming_executor.py:93 -- Executing DAG InputDataBuffer[Input] -> TaskPoolMapOperator[ReadCSV->SplitBlocks(32)] -> AllToAllOperator[RandomShuffle] -> AllToAllOperator[Sort] -> AllToAllOperator[MapBatches(group_fn)->MapBatches(_filter_split)->RandomShuffle] -> TaskPoolMapOperator[MapBatches(preprocess)]\n",
      "2024-01-05 09:25:48,293\tINFO streaming_executor.py:94 -- Execution config: ExecutionOptions(resource_limits=ExecutionResources(cpu=None, gpu=None, object_store_memory=None), locality_with_output=False, preserve_order=True, actor_locality_enabled=True, verbose_progress=False)\n",
      "2024-01-05 09:25:48,294\tINFO streaming_executor.py:96 -- Tip: For detailed progress reporting, run `ray.data.DataContext.get_current().execution_options.verbose_progress = True`\n"
     ]
    },
    {
     "data": {
      "application/vnd.jupyter.widget-view+json": {
       "model_id": "",
       "version_major": 2,
       "version_minor": 0
      },
      "text/plain": [
       "- RandomShuffle 1:   0%|          | 0/1024 [00:00<?, ?it/s]"
      ]
     },
     "metadata": {},
     "output_type": "display_data"
    },
    {
     "data": {
      "application/vnd.jupyter.widget-view+json": {
       "model_id": "",
       "version_major": 2,
       "version_minor": 0
      },
      "text/plain": [
       "Shuffle Map 2:   0%|          | 0/1024 [00:00<?, ?it/s]"
      ]
     },
     "metadata": {},
     "output_type": "display_data"
    },
    {
     "data": {
      "application/vnd.jupyter.widget-view+json": {
       "model_id": "",
       "version_major": 2,
       "version_minor": 0
      },
      "text/plain": [
       "Shuffle Reduce 3:   0%|          | 0/1024 [00:00<?, ?it/s]"
      ]
     },
     "metadata": {},
     "output_type": "display_data"
    },
    {
     "data": {
      "application/vnd.jupyter.widget-view+json": {
       "model_id": "",
       "version_major": 2,
       "version_minor": 0
      },
      "text/plain": [
       "- Sort 4:   0%|          | 0/1024 [00:00<?, ?it/s]"
      ]
     },
     "metadata": {},
     "output_type": "display_data"
    },
    {
     "data": {
      "application/vnd.jupyter.widget-view+json": {
       "model_id": "",
       "version_major": 2,
       "version_minor": 0
      },
      "text/plain": [
       "Sort Sample 5:   0%|          | 0/1024 [00:00<?, ?it/s]"
      ]
     },
     "metadata": {},
     "output_type": "display_data"
    },
    {
     "data": {
      "application/vnd.jupyter.widget-view+json": {
       "model_id": "",
       "version_major": 2,
       "version_minor": 0
      },
      "text/plain": [
       "Shuffle Map 6:   0%|          | 0/1024 [00:00<?, ?it/s]"
      ]
     },
     "metadata": {},
     "output_type": "display_data"
    },
    {
     "data": {
      "application/vnd.jupyter.widget-view+json": {
       "model_id": "",
       "version_major": 2,
       "version_minor": 0
      },
      "text/plain": [
       "Shuffle Reduce 7:   0%|          | 0/1024 [00:00<?, ?it/s]"
      ]
     },
     "metadata": {},
     "output_type": "display_data"
    },
    {
     "data": {
      "application/vnd.jupyter.widget-view+json": {
       "model_id": "",
       "version_major": 2,
       "version_minor": 0
      },
      "text/plain": [
       "- MapBatches(group_fn)->MapBatches(_filter_split)->RandomShuffle 8:   0%|          | 0/1024 [00:00<?, ?it/s]"
      ]
     },
     "metadata": {},
     "output_type": "display_data"
    },
    {
     "data": {
      "application/vnd.jupyter.widget-view+json": {
       "model_id": "",
       "version_major": 2,
       "version_minor": 0
      },
      "text/plain": [
       "Shuffle Map 9:   0%|          | 0/1024 [00:00<?, ?it/s]"
      ]
     },
     "metadata": {},
     "output_type": "display_data"
    },
    {
     "data": {
      "application/vnd.jupyter.widget-view+json": {
       "model_id": "",
       "version_major": 2,
       "version_minor": 0
      },
      "text/plain": [
       "Shuffle Reduce 10:   0%|          | 0/1024 [00:00<?, ?it/s]"
      ]
     },
     "metadata": {},
     "output_type": "display_data"
    },
    {
     "data": {
      "application/vnd.jupyter.widget-view+json": {
       "model_id": "",
       "version_major": 2,
       "version_minor": 0
      },
      "text/plain": [
       "Running 0:   0%|          | 0/1024 [00:00<?, ?it/s]"
      ]
     },
     "metadata": {},
     "output_type": "display_data"
    },
    {
     "data": {
      "application/vnd.jupyter.widget-view+json": {
       "model_id": "",
       "version_major": 2,
       "version_minor": 0
      },
      "text/plain": [
       "Sort Sample 0:   0%|          | 0/32 [00:00<?, ?it/s]"
      ]
     },
     "metadata": {},
     "output_type": "display_data"
    },
    {
     "name": "stderr",
     "output_type": "stream",
     "text": [
      "2024-01-05 09:25:49,823\tINFO streaming_executor.py:93 -- Executing DAG InputDataBuffer[Input] -> TaskPoolMapOperator[ReadCSV->SplitBlocks(32)] -> AllToAllOperator[RandomShuffle] -> AllToAllOperator[Sort] -> AllToAllOperator[MapBatches(group_fn)->MapBatches(_filter_split)->RandomShuffle] -> TaskPoolMapOperator[MapBatches(preprocess)]\n",
      "2024-01-05 09:25:49,824\tINFO streaming_executor.py:94 -- Execution config: ExecutionOptions(resource_limits=ExecutionResources(cpu=None, gpu=None, object_store_memory=None), locality_with_output=False, preserve_order=True, actor_locality_enabled=True, verbose_progress=False)\n",
      "2024-01-05 09:25:49,824\tINFO streaming_executor.py:96 -- Tip: For detailed progress reporting, run `ray.data.DataContext.get_current().execution_options.verbose_progress = True`\n"
     ]
    },
    {
     "data": {
      "application/vnd.jupyter.widget-view+json": {
       "model_id": "",
       "version_major": 2,
       "version_minor": 0
      },
      "text/plain": [
       "- RandomShuffle 1:   0%|          | 0/1024 [00:00<?, ?it/s]"
      ]
     },
     "metadata": {},
     "output_type": "display_data"
    },
    {
     "data": {
      "application/vnd.jupyter.widget-view+json": {
       "model_id": "",
       "version_major": 2,
       "version_minor": 0
      },
      "text/plain": [
       "Shuffle Map 2:   0%|          | 0/1024 [00:00<?, ?it/s]"
      ]
     },
     "metadata": {},
     "output_type": "display_data"
    },
    {
     "data": {
      "application/vnd.jupyter.widget-view+json": {
       "model_id": "",
       "version_major": 2,
       "version_minor": 0
      },
      "text/plain": [
       "Shuffle Reduce 3:   0%|          | 0/1024 [00:00<?, ?it/s]"
      ]
     },
     "metadata": {},
     "output_type": "display_data"
    },
    {
     "data": {
      "application/vnd.jupyter.widget-view+json": {
       "model_id": "",
       "version_major": 2,
       "version_minor": 0
      },
      "text/plain": [
       "- Sort 4:   0%|          | 0/1024 [00:00<?, ?it/s]"
      ]
     },
     "metadata": {},
     "output_type": "display_data"
    },
    {
     "data": {
      "application/vnd.jupyter.widget-view+json": {
       "model_id": "",
       "version_major": 2,
       "version_minor": 0
      },
      "text/plain": [
       "Sort Sample 5:   0%|          | 0/1024 [00:00<?, ?it/s]"
      ]
     },
     "metadata": {},
     "output_type": "display_data"
    },
    {
     "data": {
      "application/vnd.jupyter.widget-view+json": {
       "model_id": "",
       "version_major": 2,
       "version_minor": 0
      },
      "text/plain": [
       "Shuffle Map 6:   0%|          | 0/1024 [00:00<?, ?it/s]"
      ]
     },
     "metadata": {},
     "output_type": "display_data"
    },
    {
     "data": {
      "application/vnd.jupyter.widget-view+json": {
       "model_id": "b6f7122db36b4334a7e3804160c569ba",
       "version_major": 2,
       "version_minor": 0
      },
      "text/plain": [
       "Shuffle Reduce 7:   0%|          | 0/1024 [00:00<?, ?it/s]"
      ]
     },
     "metadata": {},
     "output_type": "display_data"
    },
    {
     "data": {
      "application/vnd.jupyter.widget-view+json": {
       "model_id": "8becb080409647fe97f663f40bbdce27",
       "version_major": 2,
       "version_minor": 0
      },
      "text/plain": [
       "- MapBatches(group_fn)->MapBatches(_filter_split)->RandomShuffle 8:   0%|          | 0/1024 [00:00<?, ?it/s]"
      ]
     },
     "metadata": {},
     "output_type": "display_data"
    },
    {
     "data": {
      "application/vnd.jupyter.widget-view+json": {
       "model_id": "93fe3801ad7640229fae2339e30a440e",
       "version_major": 2,
       "version_minor": 0
      },
      "text/plain": [
       "Shuffle Map 9:   0%|          | 0/1024 [00:00<?, ?it/s]"
      ]
     },
     "metadata": {},
     "output_type": "display_data"
    },
    {
     "data": {
      "application/vnd.jupyter.widget-view+json": {
       "model_id": "a676d8887f48486cae78c6521d23d3d4",
       "version_major": 2,
       "version_minor": 0
      },
      "text/plain": [
       "Shuffle Reduce 10:   0%|          | 0/1024 [00:00<?, ?it/s]"
      ]
     },
     "metadata": {},
     "output_type": "display_data"
    },
    {
     "data": {
      "application/vnd.jupyter.widget-view+json": {
       "model_id": "14e9327871f949ab8bec676a525f50b6",
       "version_major": 2,
       "version_minor": 0
      },
      "text/plain": [
       "Running 0:   0%|          | 0/1024 [00:00<?, ?it/s]"
      ]
     },
     "metadata": {},
     "output_type": "display_data"
    },
    {
     "data": {
      "application/vnd.jupyter.widget-view+json": {
       "model_id": "099ab937039b4038a4f95ecb00b6236e",
       "version_major": 2,
       "version_minor": 0
      },
      "text/plain": [
       "Sort Sample 0:   0%|          | 0/32 [00:00<?, ?it/s]"
      ]
     },
     "metadata": {},
     "output_type": "display_data"
    }
   ],
   "source": [
    "# Preprocess\n",
    "preprocessor = CustomPreprocessor()\n",
    "preprocessor = preprocessor.fit(train_ds)\n",
    "train_ds = preprocessor.transform(train_ds)\n",
    "val_ds = preprocessor.transform(val_ds)\n",
    "train_ds = train_ds.materialize()\n",
    "val_ds = val_ds.materialize()"
   ]
  },
  {
   "cell_type": "code",
   "execution_count": 93,
   "id": "bc3dc325-9d49-454f-a154-cc93870b8351",
   "metadata": {
    "tags": []
   },
   "outputs": [],
   "source": [
    "# Trainer\n",
    "trainer = TorchTrainer(\n",
    "    train_loop_per_worker=train_loop_per_worker,\n",
    "    train_loop_config=train_loop_config,\n",
    "    scaling_config=scaling_config,\n",
    "    torch_config=torch_config,\n",
    "    run_config=run_config,  # uses RunConfig with MLflow callback\n",
    "    datasets={\"train\": train_ds, \"val\": val_ds},\n",
    "    dataset_config=dataset_config,\n",
    "    metadata={\"class_to_index\": preprocessor.class_to_index}\n",
    ")"
   ]
  },
  {
   "cell_type": "code",
   "execution_count": 94,
   "id": "d1b4bf58-4d66-44ac-a6b3-3d326a10f1ec",
   "metadata": {
    "tags": []
   },
   "outputs": [],
   "source": [
    "# %%time\n",
    "# # Train\n",
    "# results = trainer.fit()"
   ]
  },
  {
   "cell_type": "code",
   "execution_count": 95,
   "id": "1f154701-a06a-48ff-8a56-f4916c9b6b66",
   "metadata": {
    "tags": []
   },
   "outputs": [],
   "source": [
    "#results.metrics_dataframe"
   ]
  },
  {
   "cell_type": "code",
   "execution_count": 96,
   "id": "93faeb74-9239-4d7a-bfdd-2516bb07d9df",
   "metadata": {
    "tags": []
   },
   "outputs": [],
   "source": [
    "# best run using mlflow \n",
    "\n",
    "# sorted_runs = mlflow.search_runs(experiment_names=[experiment_name], order_by=[\"metrics.val_loss ASC\"])\n",
    "# sorted_runs"
   ]
  },
  {
   "cell_type": "code",
   "execution_count": 97,
   "id": "d04c727f-652d-49f6-8cfe-b199394a98b7",
   "metadata": {
    "tags": []
   },
   "outputs": [],
   "source": [
    "# best_run = sorted_runs.iloc[0]\n",
    "# best_run"
   ]
  },
  {
   "cell_type": "markdown",
   "id": "cd6f2116-1f6e-4047-8d01-12d23fdb1214",
   "metadata": {
    "tags": []
   },
   "source": [
    "Our experiments can be tracked in mlflow server in windows using `mlflow server -h localhost -p 8080 --backend-store-uri 'file:///E:\\\\efs\\\\shared_storage\\\\madewithml\\\\mlflow'`"
   ]
  },
  {
   "cell_type": "markdown",
   "id": "8e571f3d-d0b0-4dcd-8902-8d3edd330a90",
   "metadata": {},
   "source": [
    "Loading the best model from mlflow and use the model for prediction"
   ]
  },
  {
   "cell_type": "code",
   "execution_count": 98,
   "id": "cb3462a4-9312-4934-91b5-7a9c4db6c394",
   "metadata": {
    "tags": []
   },
   "outputs": [],
   "source": [
    "from ray.train import Result\n",
    "from urllib.parse import urlparse\n",
    "\n",
    "def get_best_checkpoint(run_id):\n",
    "    #artifact_dir = urlparse(mlflow.get_run(run_id).info.artifact_uri).path  # get path from mlflow doing manually below\n",
    "    results = Result.from_path('E:\\\\efs\\\\shared_storage\\\\madewithml\\\\mlflow\\\\541325110307390033\\\\f23789c6073b49d6b867f9818c8e42b3\\\\artifacts')\n",
    "    return results.best_checkpoints[0][0]\n",
    "\n",
    "# Artifacts\n",
    "# best_checkpoint = get_best_checkpoint(run_id=best_run.run_id)\n",
    "# predictor = TorchPredictor.from_checkpoint(best_checkpoint)\n",
    "# preprocessor = predictor.get_preprocessor()\n",
    "\n",
    "# # Evaluate on test split\n",
    "# performance = evaluate(ds=test_ds, predictor=predictor)\n",
    "# print (json.dumps(performance, indent=2))"
   ]
  },
  {
   "cell_type": "markdown",
   "id": "a706b6e3-97f8-468a-bb01-db1a366e6a1e",
   "metadata": {},
   "source": [
    "## Hyper parameter Tuning and tracking\n",
    "\n",
    "It is a process of discovering best performant parameter values for a model based on defined search space.\n",
    "\n",
    "There are many options for hyperparameter tuning (Ray tune, Optuna, Hyperopt, etc.). We'll be using `Ray Tune with it's HyperOpt integration` for it's simplicity and general popularity. Ray Tune also has a wide variety of support for many other tune search algorithms (Optuna, Bayesian, etc.)."
   ]
  },
  {
   "cell_type": "markdown",
   "id": "db970f06-cbc6-4d8c-9ca9-6cc9c4c11767",
   "metadata": {},
   "source": [
    "> In here, I will be including the code for tuning the hyperparamaters but not running as it takes more than a hour to complete the training."
   ]
  },
  {
   "cell_type": "code",
   "execution_count": 99,
   "id": "a8677973-997d-4ff5-a326-57d6c29efd3b",
   "metadata": {
    "tags": []
   },
   "outputs": [
    {
     "name": "stderr",
     "output_type": "stream",
     "text": [
      "2024-01-05 09:25:53,738\tINFO read_api.py:406 -- To satisfy the requested parallelism of 32, each read task output is split into 32 smaller blocks.\n",
      "2024-01-05 09:25:53,741\tINFO streaming_executor.py:93 -- Executing DAG InputDataBuffer[Input] -> TaskPoolMapOperator[ReadCSV->SplitBlocks(32)] -> AllToAllOperator[RandomShuffle] -> LimitOperator[limit=1]\n",
      "2024-01-05 09:25:53,742\tINFO streaming_executor.py:94 -- Execution config: ExecutionOptions(resource_limits=ExecutionResources(cpu=None, gpu=None, object_store_memory=None), locality_with_output=False, preserve_order=True, actor_locality_enabled=True, verbose_progress=False)\n",
      "2024-01-05 09:25:53,743\tINFO streaming_executor.py:96 -- Tip: For detailed progress reporting, run `ray.data.DataContext.get_current().execution_options.verbose_progress = True`\n"
     ]
    },
    {
     "data": {
      "application/vnd.jupyter.widget-view+json": {
       "model_id": "",
       "version_major": 2,
       "version_minor": 0
      },
      "text/plain": [
       "- RandomShuffle 1:   0%|          | 0/1024 [00:00<?, ?it/s]"
      ]
     },
     "metadata": {},
     "output_type": "display_data"
    },
    {
     "data": {
      "application/vnd.jupyter.widget-view+json": {
       "model_id": "",
       "version_major": 2,
       "version_minor": 0
      },
      "text/plain": [
       "Shuffle Map 2:   0%|          | 0/1024 [00:00<?, ?it/s]"
      ]
     },
     "metadata": {},
     "output_type": "display_data"
    },
    {
     "data": {
      "application/vnd.jupyter.widget-view+json": {
       "model_id": "",
       "version_major": 2,
       "version_minor": 0
      },
      "text/plain": [
       "Shuffle Reduce 3:   0%|          | 0/1024 [00:00<?, ?it/s]"
      ]
     },
     "metadata": {},
     "output_type": "display_data"
    },
    {
     "data": {
      "application/vnd.jupyter.widget-view+json": {
       "model_id": "",
       "version_major": 2,
       "version_minor": 0
      },
      "text/plain": [
       "Running 0:   0%|          | 0/1 [00:00<?, ?it/s]"
      ]
     },
     "metadata": {},
     "output_type": "display_data"
    },
    {
     "name": "stderr",
     "output_type": "stream",
     "text": [
      "2024-01-05 09:25:54,027\tINFO streaming_executor.py:93 -- Executing DAG InputDataBuffer[Input] -> TaskPoolMapOperator[ReadCSV->SplitBlocks(32)] -> AllToAllOperator[RandomShuffle] -> AllToAllOperator[Sort] -> AllToAllOperator[MapBatches(group_fn)->MapBatches(_filter_split)->RandomShuffle] -> LimitOperator[limit=1]\n",
      "2024-01-05 09:25:54,028\tINFO streaming_executor.py:94 -- Execution config: ExecutionOptions(resource_limits=ExecutionResources(cpu=None, gpu=None, object_store_memory=None), locality_with_output=False, preserve_order=True, actor_locality_enabled=True, verbose_progress=False)\n",
      "2024-01-05 09:25:54,028\tINFO streaming_executor.py:96 -- Tip: For detailed progress reporting, run `ray.data.DataContext.get_current().execution_options.verbose_progress = True`\n"
     ]
    },
    {
     "data": {
      "application/vnd.jupyter.widget-view+json": {
       "model_id": "",
       "version_major": 2,
       "version_minor": 0
      },
      "text/plain": [
       "- RandomShuffle 1:   0%|          | 0/1024 [00:00<?, ?it/s]"
      ]
     },
     "metadata": {},
     "output_type": "display_data"
    },
    {
     "data": {
      "application/vnd.jupyter.widget-view+json": {
       "model_id": "",
       "version_major": 2,
       "version_minor": 0
      },
      "text/plain": [
       "Shuffle Map 2:   0%|          | 0/1024 [00:00<?, ?it/s]"
      ]
     },
     "metadata": {},
     "output_type": "display_data"
    },
    {
     "data": {
      "application/vnd.jupyter.widget-view+json": {
       "model_id": "",
       "version_major": 2,
       "version_minor": 0
      },
      "text/plain": [
       "Shuffle Reduce 3:   0%|          | 0/1024 [00:00<?, ?it/s]"
      ]
     },
     "metadata": {},
     "output_type": "display_data"
    },
    {
     "data": {
      "application/vnd.jupyter.widget-view+json": {
       "model_id": "",
       "version_major": 2,
       "version_minor": 0
      },
      "text/plain": [
       "- Sort 4:   0%|          | 0/1024 [00:00<?, ?it/s]"
      ]
     },
     "metadata": {},
     "output_type": "display_data"
    },
    {
     "data": {
      "application/vnd.jupyter.widget-view+json": {
       "model_id": "",
       "version_major": 2,
       "version_minor": 0
      },
      "text/plain": [
       "Sort Sample 5:   0%|          | 0/1024 [00:00<?, ?it/s]"
      ]
     },
     "metadata": {},
     "output_type": "display_data"
    },
    {
     "data": {
      "application/vnd.jupyter.widget-view+json": {
       "model_id": "",
       "version_major": 2,
       "version_minor": 0
      },
      "text/plain": [
       "Shuffle Map 6:   0%|          | 0/1024 [00:00<?, ?it/s]"
      ]
     },
     "metadata": {},
     "output_type": "display_data"
    },
    {
     "data": {
      "application/vnd.jupyter.widget-view+json": {
       "model_id": "",
       "version_major": 2,
       "version_minor": 0
      },
      "text/plain": [
       "Shuffle Reduce 7:   0%|          | 0/1024 [00:00<?, ?it/s]"
      ]
     },
     "metadata": {},
     "output_type": "display_data"
    },
    {
     "data": {
      "application/vnd.jupyter.widget-view+json": {
       "model_id": "",
       "version_major": 2,
       "version_minor": 0
      },
      "text/plain": [
       "- MapBatches(group_fn)->MapBatches(_filter_split)->RandomShuffle 8:   0%|          | 0/1024 [00:00<?, ?it/s]"
      ]
     },
     "metadata": {},
     "output_type": "display_data"
    },
    {
     "data": {
      "application/vnd.jupyter.widget-view+json": {
       "model_id": "",
       "version_major": 2,
       "version_minor": 0
      },
      "text/plain": [
       "Shuffle Map 9:   0%|          | 0/1024 [00:00<?, ?it/s]"
      ]
     },
     "metadata": {},
     "output_type": "display_data"
    },
    {
     "data": {
      "application/vnd.jupyter.widget-view+json": {
       "model_id": "",
       "version_major": 2,
       "version_minor": 0
      },
      "text/plain": [
       "Shuffle Reduce 10:   0%|          | 0/1024 [00:00<?, ?it/s]"
      ]
     },
     "metadata": {},
     "output_type": "display_data"
    },
    {
     "data": {
      "application/vnd.jupyter.widget-view+json": {
       "model_id": "",
       "version_major": 2,
       "version_minor": 0
      },
      "text/plain": [
       "Running 0:   0%|          | 0/1 [00:00<?, ?it/s]"
      ]
     },
     "metadata": {},
     "output_type": "display_data"
    },
    {
     "data": {
      "application/vnd.jupyter.widget-view+json": {
       "model_id": "",
       "version_major": 2,
       "version_minor": 0
      },
      "text/plain": [
       "Sort Sample 0:   0%|          | 0/32 [00:00<?, ?it/s]"
      ]
     },
     "metadata": {},
     "output_type": "display_data"
    },
    {
     "name": "stderr",
     "output_type": "stream",
     "text": [
      "2024-01-05 09:25:54,793\tINFO streaming_executor.py:93 -- Executing DAG InputDataBuffer[Input] -> TaskPoolMapOperator[ReadCSV->SplitBlocks(32)] -> AllToAllOperator[RandomShuffle] -> AllToAllOperator[Sort] -> AllToAllOperator[MapBatches(group_fn)->MapBatches(_filter_split)->RandomShuffle] -> AllToAllOperator[Aggregate] -> TaskPoolMapOperator[MapBatches(<lambda>)]\n",
      "2024-01-05 09:25:54,795\tINFO streaming_executor.py:94 -- Execution config: ExecutionOptions(resource_limits=ExecutionResources(cpu=None, gpu=None, object_store_memory=None), locality_with_output=False, preserve_order=True, actor_locality_enabled=True, verbose_progress=False)\n",
      "2024-01-05 09:25:54,797\tINFO streaming_executor.py:96 -- Tip: For detailed progress reporting, run `ray.data.DataContext.get_current().execution_options.verbose_progress = True`\n"
     ]
    },
    {
     "data": {
      "application/vnd.jupyter.widget-view+json": {
       "model_id": "",
       "version_major": 2,
       "version_minor": 0
      },
      "text/plain": [
       "- RandomShuffle 1:   0%|          | 0/1024 [00:00<?, ?it/s]"
      ]
     },
     "metadata": {},
     "output_type": "display_data"
    },
    {
     "data": {
      "application/vnd.jupyter.widget-view+json": {
       "model_id": "",
       "version_major": 2,
       "version_minor": 0
      },
      "text/plain": [
       "Shuffle Map 2:   0%|          | 0/1024 [00:00<?, ?it/s]"
      ]
     },
     "metadata": {},
     "output_type": "display_data"
    },
    {
     "data": {
      "application/vnd.jupyter.widget-view+json": {
       "model_id": "",
       "version_major": 2,
       "version_minor": 0
      },
      "text/plain": [
       "Shuffle Reduce 3:   0%|          | 0/1024 [00:00<?, ?it/s]"
      ]
     },
     "metadata": {},
     "output_type": "display_data"
    },
    {
     "data": {
      "application/vnd.jupyter.widget-view+json": {
       "model_id": "",
       "version_major": 2,
       "version_minor": 0
      },
      "text/plain": [
       "- Sort 4:   0%|          | 0/1024 [00:00<?, ?it/s]"
      ]
     },
     "metadata": {},
     "output_type": "display_data"
    },
    {
     "data": {
      "application/vnd.jupyter.widget-view+json": {
       "model_id": "",
       "version_major": 2,
       "version_minor": 0
      },
      "text/plain": [
       "Sort Sample 5:   0%|          | 0/1024 [00:00<?, ?it/s]"
      ]
     },
     "metadata": {},
     "output_type": "display_data"
    },
    {
     "data": {
      "application/vnd.jupyter.widget-view+json": {
       "model_id": "",
       "version_major": 2,
       "version_minor": 0
      },
      "text/plain": [
       "Shuffle Map 6:   0%|          | 0/1024 [00:00<?, ?it/s]"
      ]
     },
     "metadata": {},
     "output_type": "display_data"
    },
    {
     "data": {
      "application/vnd.jupyter.widget-view+json": {
       "model_id": "",
       "version_major": 2,
       "version_minor": 0
      },
      "text/plain": [
       "Shuffle Reduce 7:   0%|          | 0/1024 [00:00<?, ?it/s]"
      ]
     },
     "metadata": {},
     "output_type": "display_data"
    },
    {
     "data": {
      "application/vnd.jupyter.widget-view+json": {
       "model_id": "",
       "version_major": 2,
       "version_minor": 0
      },
      "text/plain": [
       "- MapBatches(group_fn)->MapBatches(_filter_split)->RandomShuffle 8:   0%|          | 0/1024 [00:00<?, ?it/s]"
      ]
     },
     "metadata": {},
     "output_type": "display_data"
    },
    {
     "data": {
      "application/vnd.jupyter.widget-view+json": {
       "model_id": "",
       "version_major": 2,
       "version_minor": 0
      },
      "text/plain": [
       "Shuffle Map 9:   0%|          | 0/1024 [00:00<?, ?it/s]"
      ]
     },
     "metadata": {},
     "output_type": "display_data"
    },
    {
     "data": {
      "application/vnd.jupyter.widget-view+json": {
       "model_id": "",
       "version_major": 2,
       "version_minor": 0
      },
      "text/plain": [
       "Shuffle Reduce 10:   0%|          | 0/1024 [00:00<?, ?it/s]"
      ]
     },
     "metadata": {},
     "output_type": "display_data"
    },
    {
     "data": {
      "application/vnd.jupyter.widget-view+json": {
       "model_id": "",
       "version_major": 2,
       "version_minor": 0
      },
      "text/plain": [
       "- Aggregate 11:   0%|          | 0/1024 [00:00<?, ?it/s]"
      ]
     },
     "metadata": {},
     "output_type": "display_data"
    },
    {
     "data": {
      "application/vnd.jupyter.widget-view+json": {
       "model_id": "",
       "version_major": 2,
       "version_minor": 0
      },
      "text/plain": [
       "Shuffle Map 12:   0%|          | 0/1024 [00:00<?, ?it/s]"
      ]
     },
     "metadata": {},
     "output_type": "display_data"
    },
    {
     "data": {
      "application/vnd.jupyter.widget-view+json": {
       "model_id": "",
       "version_major": 2,
       "version_minor": 0
      },
      "text/plain": [
       "Shuffle Reduce 13:   0%|          | 0/1024 [00:00<?, ?it/s]"
      ]
     },
     "metadata": {},
     "output_type": "display_data"
    },
    {
     "data": {
      "application/vnd.jupyter.widget-view+json": {
       "model_id": "",
       "version_major": 2,
       "version_minor": 0
      },
      "text/plain": [
       "Running 0:   0%|          | 0/1024 [00:00<?, ?it/s]"
      ]
     },
     "metadata": {},
     "output_type": "display_data"
    },
    {
     "data": {
      "application/vnd.jupyter.widget-view+json": {
       "model_id": "",
       "version_major": 2,
       "version_minor": 0
      },
      "text/plain": [
       "Sort Sample 0:   0%|          | 0/32 [00:00<?, ?it/s]"
      ]
     },
     "metadata": {},
     "output_type": "display_data"
    },
    {
     "data": {
      "application/vnd.jupyter.widget-view+json": {
       "model_id": "",
       "version_major": 2,
       "version_minor": 0
      },
      "text/plain": [
       "Sort Sample 0:   0%|          | 0/32 [00:00<?, ?it/s]"
      ]
     },
     "metadata": {},
     "output_type": "display_data"
    },
    {
     "name": "stderr",
     "output_type": "stream",
     "text": [
      "2024-01-05 09:25:55,865\tINFO streaming_executor.py:93 -- Executing DAG InputDataBuffer[Input] -> TaskPoolMapOperator[ReadCSV->SplitBlocks(32)] -> AllToAllOperator[RandomShuffle] -> AllToAllOperator[Sort] -> AllToAllOperator[MapBatches(group_fn)->MapBatches(_filter_split)->RandomShuffle] -> TaskPoolMapOperator[MapBatches(preprocess)]\n",
      "2024-01-05 09:25:55,866\tINFO streaming_executor.py:94 -- Execution config: ExecutionOptions(resource_limits=ExecutionResources(cpu=None, gpu=None, object_store_memory=None), locality_with_output=False, preserve_order=True, actor_locality_enabled=True, verbose_progress=False)\n",
      "2024-01-05 09:25:55,867\tINFO streaming_executor.py:96 -- Tip: For detailed progress reporting, run `ray.data.DataContext.get_current().execution_options.verbose_progress = True`\n"
     ]
    },
    {
     "data": {
      "application/vnd.jupyter.widget-view+json": {
       "model_id": "",
       "version_major": 2,
       "version_minor": 0
      },
      "text/plain": [
       "- RandomShuffle 1:   0%|          | 0/1024 [00:00<?, ?it/s]"
      ]
     },
     "metadata": {},
     "output_type": "display_data"
    },
    {
     "data": {
      "application/vnd.jupyter.widget-view+json": {
       "model_id": "",
       "version_major": 2,
       "version_minor": 0
      },
      "text/plain": [
       "Shuffle Map 2:   0%|          | 0/1024 [00:00<?, ?it/s]"
      ]
     },
     "metadata": {},
     "output_type": "display_data"
    },
    {
     "data": {
      "application/vnd.jupyter.widget-view+json": {
       "model_id": "",
       "version_major": 2,
       "version_minor": 0
      },
      "text/plain": [
       "Shuffle Reduce 3:   0%|          | 0/1024 [00:00<?, ?it/s]"
      ]
     },
     "metadata": {},
     "output_type": "display_data"
    },
    {
     "data": {
      "application/vnd.jupyter.widget-view+json": {
       "model_id": "",
       "version_major": 2,
       "version_minor": 0
      },
      "text/plain": [
       "- Sort 4:   0%|          | 0/1024 [00:00<?, ?it/s]"
      ]
     },
     "metadata": {},
     "output_type": "display_data"
    },
    {
     "data": {
      "application/vnd.jupyter.widget-view+json": {
       "model_id": "",
       "version_major": 2,
       "version_minor": 0
      },
      "text/plain": [
       "Sort Sample 5:   0%|          | 0/1024 [00:00<?, ?it/s]"
      ]
     },
     "metadata": {},
     "output_type": "display_data"
    },
    {
     "data": {
      "application/vnd.jupyter.widget-view+json": {
       "model_id": "",
       "version_major": 2,
       "version_minor": 0
      },
      "text/plain": [
       "Shuffle Map 6:   0%|          | 0/1024 [00:00<?, ?it/s]"
      ]
     },
     "metadata": {},
     "output_type": "display_data"
    },
    {
     "data": {
      "application/vnd.jupyter.widget-view+json": {
       "model_id": "",
       "version_major": 2,
       "version_minor": 0
      },
      "text/plain": [
       "Shuffle Reduce 7:   0%|          | 0/1024 [00:00<?, ?it/s]"
      ]
     },
     "metadata": {},
     "output_type": "display_data"
    },
    {
     "data": {
      "application/vnd.jupyter.widget-view+json": {
       "model_id": "",
       "version_major": 2,
       "version_minor": 0
      },
      "text/plain": [
       "- MapBatches(group_fn)->MapBatches(_filter_split)->RandomShuffle 8:   0%|          | 0/1024 [00:00<?, ?it/s]"
      ]
     },
     "metadata": {},
     "output_type": "display_data"
    },
    {
     "data": {
      "application/vnd.jupyter.widget-view+json": {
       "model_id": "",
       "version_major": 2,
       "version_minor": 0
      },
      "text/plain": [
       "Shuffle Map 9:   0%|          | 0/1024 [00:00<?, ?it/s]"
      ]
     },
     "metadata": {},
     "output_type": "display_data"
    },
    {
     "data": {
      "application/vnd.jupyter.widget-view+json": {
       "model_id": "",
       "version_major": 2,
       "version_minor": 0
      },
      "text/plain": [
       "Shuffle Reduce 10:   0%|          | 0/1024 [00:00<?, ?it/s]"
      ]
     },
     "metadata": {},
     "output_type": "display_data"
    },
    {
     "data": {
      "application/vnd.jupyter.widget-view+json": {
       "model_id": "",
       "version_major": 2,
       "version_minor": 0
      },
      "text/plain": [
       "Running 0:   0%|          | 0/1024 [00:00<?, ?it/s]"
      ]
     },
     "metadata": {},
     "output_type": "display_data"
    },
    {
     "data": {
      "application/vnd.jupyter.widget-view+json": {
       "model_id": "",
       "version_major": 2,
       "version_minor": 0
      },
      "text/plain": [
       "Sort Sample 0:   0%|          | 0/32 [00:00<?, ?it/s]"
      ]
     },
     "metadata": {},
     "output_type": "display_data"
    },
    {
     "name": "stderr",
     "output_type": "stream",
     "text": [
      "2024-01-05 09:25:57,282\tINFO streaming_executor.py:93 -- Executing DAG InputDataBuffer[Input] -> TaskPoolMapOperator[ReadCSV->SplitBlocks(32)] -> AllToAllOperator[RandomShuffle] -> AllToAllOperator[Sort] -> AllToAllOperator[MapBatches(group_fn)->MapBatches(_filter_split)->RandomShuffle] -> TaskPoolMapOperator[MapBatches(preprocess)]\n",
      "2024-01-05 09:25:57,283\tINFO streaming_executor.py:94 -- Execution config: ExecutionOptions(resource_limits=ExecutionResources(cpu=None, gpu=None, object_store_memory=None), locality_with_output=False, preserve_order=True, actor_locality_enabled=True, verbose_progress=False)\n",
      "2024-01-05 09:25:57,284\tINFO streaming_executor.py:96 -- Tip: For detailed progress reporting, run `ray.data.DataContext.get_current().execution_options.verbose_progress = True`\n"
     ]
    },
    {
     "data": {
      "application/vnd.jupyter.widget-view+json": {
       "model_id": "",
       "version_major": 2,
       "version_minor": 0
      },
      "text/plain": [
       "- RandomShuffle 1:   0%|          | 0/1024 [00:00<?, ?it/s]"
      ]
     },
     "metadata": {},
     "output_type": "display_data"
    },
    {
     "data": {
      "application/vnd.jupyter.widget-view+json": {
       "model_id": "e3a3cca9de914759b6ae6e5092e1e19c",
       "version_major": 2,
       "version_minor": 0
      },
      "text/plain": [
       "Shuffle Map 2:   0%|          | 0/1024 [00:00<?, ?it/s]"
      ]
     },
     "metadata": {},
     "output_type": "display_data"
    },
    {
     "data": {
      "application/vnd.jupyter.widget-view+json": {
       "model_id": "b0366134290c47abb11edb68a719aec5",
       "version_major": 2,
       "version_minor": 0
      },
      "text/plain": [
       "Shuffle Reduce 3:   0%|          | 0/1024 [00:00<?, ?it/s]"
      ]
     },
     "metadata": {},
     "output_type": "display_data"
    },
    {
     "data": {
      "application/vnd.jupyter.widget-view+json": {
       "model_id": "2182ce1f584e4d249dccacbecdec57e4",
       "version_major": 2,
       "version_minor": 0
      },
      "text/plain": [
       "- Sort 4:   0%|          | 0/1024 [00:00<?, ?it/s]"
      ]
     },
     "metadata": {},
     "output_type": "display_data"
    },
    {
     "data": {
      "application/vnd.jupyter.widget-view+json": {
       "model_id": "561ed63de48349eb8430867e3af62dd7",
       "version_major": 2,
       "version_minor": 0
      },
      "text/plain": [
       "Sort Sample 5:   0%|          | 0/1024 [00:00<?, ?it/s]"
      ]
     },
     "metadata": {},
     "output_type": "display_data"
    },
    {
     "data": {
      "application/vnd.jupyter.widget-view+json": {
       "model_id": "ea589c3b0d094e2ba51628bc4a9522b0",
       "version_major": 2,
       "version_minor": 0
      },
      "text/plain": [
       "Shuffle Map 6:   0%|          | 0/1024 [00:00<?, ?it/s]"
      ]
     },
     "metadata": {},
     "output_type": "display_data"
    },
    {
     "data": {
      "application/vnd.jupyter.widget-view+json": {
       "model_id": "37e9a3187ecf488f84ce0c9a7ccf03b9",
       "version_major": 2,
       "version_minor": 0
      },
      "text/plain": [
       "Shuffle Reduce 7:   0%|          | 0/1024 [00:00<?, ?it/s]"
      ]
     },
     "metadata": {},
     "output_type": "display_data"
    },
    {
     "data": {
      "application/vnd.jupyter.widget-view+json": {
       "model_id": "beced8b7c48c428890e262575ce6dbdf",
       "version_major": 2,
       "version_minor": 0
      },
      "text/plain": [
       "- MapBatches(group_fn)->MapBatches(_filter_split)->RandomShuffle 8:   0%|          | 0/1024 [00:00<?, ?it/s]"
      ]
     },
     "metadata": {},
     "output_type": "display_data"
    },
    {
     "data": {
      "application/vnd.jupyter.widget-view+json": {
       "model_id": "f625b203c47e40a18588aaa3c83585ff",
       "version_major": 2,
       "version_minor": 0
      },
      "text/plain": [
       "Shuffle Map 9:   0%|          | 0/1024 [00:00<?, ?it/s]"
      ]
     },
     "metadata": {},
     "output_type": "display_data"
    },
    {
     "data": {
      "application/vnd.jupyter.widget-view+json": {
       "model_id": "4db6167e7b97490c9831a4a47ce27b6f",
       "version_major": 2,
       "version_minor": 0
      },
      "text/plain": [
       "Shuffle Reduce 10:   0%|          | 0/1024 [00:00<?, ?it/s]"
      ]
     },
     "metadata": {},
     "output_type": "display_data"
    },
    {
     "data": {
      "application/vnd.jupyter.widget-view+json": {
       "model_id": "e053b01651aa484e9f58d6abf5054fd9",
       "version_major": 2,
       "version_minor": 0
      },
      "text/plain": [
       "Running 0:   0%|          | 0/1024 [00:00<?, ?it/s]"
      ]
     },
     "metadata": {},
     "output_type": "display_data"
    },
    {
     "data": {
      "application/vnd.jupyter.widget-view+json": {
       "model_id": "442c12cee9ba4a62bbdac101e467149e",
       "version_major": 2,
       "version_minor": 0
      },
      "text/plain": [
       "Sort Sample 0:   0%|          | 0/32 [00:00<?, ?it/s]"
      ]
     },
     "metadata": {},
     "output_type": "display_data"
    },
    {
     "name": "stderr",
     "output_type": "stream",
     "text": [
      "2024-01-05 09:25:58,703\tINFO tuner_internal.py:466 -- A `RunConfig` was passed to both the `Tuner` and the `TorchTrainer`. The run config passed to the `Tuner` is the one that will be used.\n"
     ]
    }
   ],
   "source": [
    "from ray import tune\n",
    "from ray.tune import Tuner\n",
    "from ray.tune.schedulers import AsyncHyperBandScheduler\n",
    "from ray.tune.search import ConcurrencyLimiter\n",
    "from ray.tune.search.hyperopt import HyperOptSearch\n",
    "\n",
    "# Number of trials (small sample)\n",
    "num_runs = 2\n",
    "\n",
    "# Set up\n",
    "set_seeds()\n",
    "# Dataset\n",
    "ds = load_data()\n",
    "train_ds, val_ds = stratify_split(ds, stratify=\"tag\", test_size=test_size)\n",
    "\n",
    "# Preprocess\n",
    "preprocessor = CustomPreprocessor()\n",
    "preprocessor = preprocessor.fit(train_ds)\n",
    "train_ds = preprocessor.transform(train_ds)\n",
    "val_ds = preprocessor.transform(val_ds)\n",
    "train_ds = train_ds.materialize()\n",
    "val_ds = val_ds.materialize()\n",
    "\n",
    "# MLflow callback\n",
    "mlflow_callback = MLflowLoggerCallback(\n",
    "    tracking_uri=MLFLOW_TRACKING_URI,\n",
    "    experiment_name=experiment_name,\n",
    "    save_artifact=True)\n",
    "\n",
    "# Run configuration\n",
    "checkpoint_config = CheckpointConfig(num_to_keep=1, checkpoint_score_attribute=\"val_loss\", checkpoint_score_order=\"min\")\n",
    "run_config = RunConfig(\n",
    "    callbacks=[mlflow_callback],\n",
    "    checkpoint_config=checkpoint_config,\n",
    "    storage_path=EFS_DIR,\n",
    "    local_dir=EFS_DIR)\n",
    "\n",
    "# Trainer\n",
    "trainer = TorchTrainer(\n",
    "    train_loop_per_worker=train_loop_per_worker,\n",
    "    train_loop_config=train_loop_config,\n",
    "    scaling_config=scaling_config,\n",
    "    torch_config=torch_config,\n",
    "    run_config=run_config,  # uses RunConfig with MLflow callback\n",
    "    datasets={\"train\": train_ds, \"val\": val_ds},\n",
    "    dataset_config=dataset_config,\n",
    "    metadata={\"class_to_index\": preprocessor.class_to_index}\n",
    ")\n",
    "\n",
    "# Hyperparameters to start with\n",
    "initial_params = [{\"train_loop_config\": {\"dropout_p\": 0.5, \"lr\": 1e-4, \"lr_factor\": 0.8, \"lr_patience\": 3}}]\n",
    "search_alg = HyperOptSearch(points_to_evaluate=initial_params)\n",
    "search_alg = ConcurrencyLimiter(search_alg, max_concurrent=2)  # trade off b/w optimization and search space\n",
    "\n",
    "# Parameter space\n",
    "param_space = {\n",
    "    \"train_loop_config\": {\n",
    "        \"dropout_p\": tune.uniform(0.3, 0.9),\n",
    "        \"lr\": tune.loguniform(1e-5, 5e-4),\n",
    "        \"lr_factor\": tune.uniform(0.1, 0.9),\n",
    "        \"lr_patience\": tune.uniform(1, 10),\n",
    "    }\n",
    "}\n",
    "\n",
    "# Scheduler\n",
    "scheduler = AsyncHyperBandScheduler(\n",
    "    max_t=train_loop_config[\"num_epochs\"],  # max epoch (<time_attr>) per trial\n",
    "    grace_period=5,  # min epoch (<time_attr>) per trial\n",
    ")\n",
    "\n",
    "# Tune config\n",
    "tune_config = tune.TuneConfig(\n",
    "    metric=\"val_loss\",\n",
    "    mode=\"min\",\n",
    "    search_alg=search_alg,\n",
    "    scheduler=scheduler,\n",
    "    num_samples=num_runs,\n",
    ")\n",
    "\n",
    "# Tuner\n",
    "tuner = Tuner(\n",
    "    trainable=trainer,\n",
    "    run_config=run_config,\n",
    "    param_space=param_space,\n",
    "    tune_config=tune_config,\n",
    ")\n",
    "\n",
    "#tune_results = tuner.fit()"
   ]
  },
  {
   "cell_type": "code",
   "execution_count": 100,
   "id": "5d5ce1c6-95b7-44a0-8bee-30d84cecd22d",
   "metadata": {
    "tags": []
   },
   "outputs": [],
   "source": [
    "#tune_results.get_dataframe()"
   ]
  },
  {
   "cell_type": "code",
   "execution_count": 101,
   "id": "831f7336-c7f0-4670-ae11-fa39435b6e40",
   "metadata": {
    "tags": []
   },
   "outputs": [],
   "source": [
    "# Best trial's epochs\n",
    "# best_trial = tune_results.get_best_result(metric=\"val_loss\", mode=\"min\")\n",
    "# best_trial.metrics_dataframe"
   ]
  },
  {
   "cell_type": "code",
   "execution_count": 102,
   "id": "327eb19f-2ae4-4d91-b61a-9b8429c4baf0",
   "metadata": {
    "tags": []
   },
   "outputs": [],
   "source": [
    "# Best trial's hyperparameters\n",
    "# best_trial.config[\"train_loop_config\"]"
   ]
  },
  {
   "cell_type": "code",
   "execution_count": 103,
   "id": "d3bb3d9c-1815-414b-8a70-80796c92e2dc",
   "metadata": {
    "tags": []
   },
   "outputs": [
    {
     "data": {
      "text/html": [
       "<div>\n",
       "<style scoped>\n",
       "    .dataframe tbody tr th:only-of-type {\n",
       "        vertical-align: middle;\n",
       "    }\n",
       "\n",
       "    .dataframe tbody tr th {\n",
       "        vertical-align: top;\n",
       "    }\n",
       "\n",
       "    .dataframe thead th {\n",
       "        text-align: right;\n",
       "    }\n",
       "</style>\n",
       "<table border=\"1\" class=\"dataframe\">\n",
       "  <thead>\n",
       "    <tr style=\"text-align: right;\">\n",
       "      <th></th>\n",
       "      <th>run_id</th>\n",
       "      <th>experiment_id</th>\n",
       "      <th>status</th>\n",
       "      <th>artifact_uri</th>\n",
       "      <th>start_time</th>\n",
       "      <th>end_time</th>\n",
       "      <th>metrics.time_this_iter_s</th>\n",
       "      <th>metrics.config/train_loop_config/lr</th>\n",
       "      <th>metrics.training_iteration</th>\n",
       "      <th>metrics.time_since_restore</th>\n",
       "      <th>...</th>\n",
       "      <th>metrics.config/train_loop_config/batch_size</th>\n",
       "      <th>params.train_loop_config/lr</th>\n",
       "      <th>params.train_loop_config/dropout_p</th>\n",
       "      <th>params.train_loop_config/lr_patience</th>\n",
       "      <th>params.train_loop_config/lr_factor</th>\n",
       "      <th>params.train_loop_config/num_epochs</th>\n",
       "      <th>params.train_loop_config/batch_size</th>\n",
       "      <th>params.train_loop_config/num_classes</th>\n",
       "      <th>tags.trial_name</th>\n",
       "      <th>tags.mlflow.runName</th>\n",
       "    </tr>\n",
       "  </thead>\n",
       "  <tbody>\n",
       "    <tr>\n",
       "      <th>0</th>\n",
       "      <td>f9f5fdf98b8748a3b7e2a81dcb32237a</td>\n",
       "      <td>541325110307390033</td>\n",
       "      <td>FINISHED</td>\n",
       "      <td>file:///E:\\efs\\shared_storage\\madewithml\\mlflo...</td>\n",
       "      <td>2024-01-03 12:00:54.003000+00:00</td>\n",
       "      <td>2024-01-03 12:19:16.557000+00:00</td>\n",
       "      <td>109.768977</td>\n",
       "      <td>0.00010</td>\n",
       "      <td>10.0</td>\n",
       "      <td>1100.001831</td>\n",
       "      <td>...</td>\n",
       "      <td>NaN</td>\n",
       "      <td>0.0001</td>\n",
       "      <td>0.5</td>\n",
       "      <td>3.0</td>\n",
       "      <td>0.8</td>\n",
       "      <td>None</td>\n",
       "      <td>None</td>\n",
       "      <td>None</td>\n",
       "      <td>TorchTrainer_d2b01c33</td>\n",
       "      <td>TorchTrainer_d2b01c33</td>\n",
       "    </tr>\n",
       "    <tr>\n",
       "      <th>1</th>\n",
       "      <td>f23789c6073b49d6b867f9818c8e42b3</td>\n",
       "      <td>541325110307390033</td>\n",
       "      <td>FINISHED</td>\n",
       "      <td>file:///E:\\efs\\shared_storage\\madewithml\\mlflo...</td>\n",
       "      <td>2024-01-03 10:34:30.963000+00:00</td>\n",
       "      <td>2024-01-03 11:06:26.007000+00:00</td>\n",
       "      <td>187.472731</td>\n",
       "      <td>0.00010</td>\n",
       "      <td>10.0</td>\n",
       "      <td>1909.962092</td>\n",
       "      <td>...</td>\n",
       "      <td>256.0</td>\n",
       "      <td>0.0001</td>\n",
       "      <td>0.5</td>\n",
       "      <td>3</td>\n",
       "      <td>0.8</td>\n",
       "      <td>10</td>\n",
       "      <td>256</td>\n",
       "      <td>4</td>\n",
       "      <td>TorchTrainer_a8033_00000</td>\n",
       "      <td>TorchTrainer_a8033_00000</td>\n",
       "    </tr>\n",
       "    <tr>\n",
       "      <th>2</th>\n",
       "      <td>7f2475471cc140a689d1fb42f7a1dd72</td>\n",
       "      <td>541325110307390033</td>\n",
       "      <td>FINISHED</td>\n",
       "      <td>file:///E:\\efs\\shared_storage\\madewithml\\mlflo...</td>\n",
       "      <td>2024-01-03 12:19:25.197000+00:00</td>\n",
       "      <td>2024-01-03 12:53:58.751000+00:00</td>\n",
       "      <td>104.623271</td>\n",
       "      <td>0.00005</td>\n",
       "      <td>5.0</td>\n",
       "      <td>2052.516807</td>\n",
       "      <td>...</td>\n",
       "      <td>NaN</td>\n",
       "      <td>5.0410404663572684e-05</td>\n",
       "      <td>0.6012700678200082</td>\n",
       "      <td>7.9978551530902955</td>\n",
       "      <td>0.13783228806163583</td>\n",
       "      <td>None</td>\n",
       "      <td>None</td>\n",
       "      <td>None</td>\n",
       "      <td>TorchTrainer_cd70d08a</td>\n",
       "      <td>TorchTrainer_cd70d08a</td>\n",
       "    </tr>\n",
       "    <tr>\n",
       "      <th>3</th>\n",
       "      <td>3ecd94445e964713bc46ce1da7827cea</td>\n",
       "      <td>541325110307390033</td>\n",
       "      <td>FAILED</td>\n",
       "      <td>file:///E:\\efs\\shared_storage\\madewithml\\mlflo...</td>\n",
       "      <td>2024-01-03 10:33:17.317000+00:00</td>\n",
       "      <td>2024-01-03 10:33:25.291000+00:00</td>\n",
       "      <td>NaN</td>\n",
       "      <td>NaN</td>\n",
       "      <td>NaN</td>\n",
       "      <td>NaN</td>\n",
       "      <td>...</td>\n",
       "      <td>NaN</td>\n",
       "      <td>0.0001</td>\n",
       "      <td>0.5</td>\n",
       "      <td>3</td>\n",
       "      <td>0.8</td>\n",
       "      <td>10</td>\n",
       "      <td>256</td>\n",
       "      <td>4</td>\n",
       "      <td>TorchTrainer_762f1_00000</td>\n",
       "      <td>TorchTrainer_762f1_00000</td>\n",
       "    </tr>\n",
       "  </tbody>\n",
       "</table>\n",
       "<p>4 rows × 35 columns</p>\n",
       "</div>"
      ],
      "text/plain": [
       "                             run_id       experiment_id    status   \n",
       "0  f9f5fdf98b8748a3b7e2a81dcb32237a  541325110307390033  FINISHED  \\\n",
       "1  f23789c6073b49d6b867f9818c8e42b3  541325110307390033  FINISHED   \n",
       "2  7f2475471cc140a689d1fb42f7a1dd72  541325110307390033  FINISHED   \n",
       "3  3ecd94445e964713bc46ce1da7827cea  541325110307390033    FAILED   \n",
       "\n",
       "                                        artifact_uri   \n",
       "0  file:///E:\\efs\\shared_storage\\madewithml\\mlflo...  \\\n",
       "1  file:///E:\\efs\\shared_storage\\madewithml\\mlflo...   \n",
       "2  file:///E:\\efs\\shared_storage\\madewithml\\mlflo...   \n",
       "3  file:///E:\\efs\\shared_storage\\madewithml\\mlflo...   \n",
       "\n",
       "                        start_time                         end_time   \n",
       "0 2024-01-03 12:00:54.003000+00:00 2024-01-03 12:19:16.557000+00:00  \\\n",
       "1 2024-01-03 10:34:30.963000+00:00 2024-01-03 11:06:26.007000+00:00   \n",
       "2 2024-01-03 12:19:25.197000+00:00 2024-01-03 12:53:58.751000+00:00   \n",
       "3 2024-01-03 10:33:17.317000+00:00 2024-01-03 10:33:25.291000+00:00   \n",
       "\n",
       "   metrics.time_this_iter_s  metrics.config/train_loop_config/lr   \n",
       "0                109.768977                              0.00010  \\\n",
       "1                187.472731                              0.00010   \n",
       "2                104.623271                              0.00005   \n",
       "3                       NaN                                  NaN   \n",
       "\n",
       "   metrics.training_iteration  metrics.time_since_restore  ...   \n",
       "0                        10.0                 1100.001831  ...  \\\n",
       "1                        10.0                 1909.962092  ...   \n",
       "2                         5.0                 2052.516807  ...   \n",
       "3                         NaN                         NaN  ...   \n",
       "\n",
       "   metrics.config/train_loop_config/batch_size  params.train_loop_config/lr   \n",
       "0                                          NaN                       0.0001  \\\n",
       "1                                        256.0                       0.0001   \n",
       "2                                          NaN       5.0410404663572684e-05   \n",
       "3                                          NaN                       0.0001   \n",
       "\n",
       "   params.train_loop_config/dropout_p  params.train_loop_config/lr_patience   \n",
       "0                                 0.5                                   3.0  \\\n",
       "1                                 0.5                                     3   \n",
       "2                  0.6012700678200082                    7.9978551530902955   \n",
       "3                                 0.5                                     3   \n",
       "\n",
       "   params.train_loop_config/lr_factor  params.train_loop_config/num_epochs   \n",
       "0                                 0.8                                 None  \\\n",
       "1                                 0.8                                   10   \n",
       "2                 0.13783228806163583                                 None   \n",
       "3                                 0.8                                   10   \n",
       "\n",
       "   params.train_loop_config/batch_size  params.train_loop_config/num_classes   \n",
       "0                                 None                                  None  \\\n",
       "1                                  256                                     4   \n",
       "2                                 None                                  None   \n",
       "3                                  256                                     4   \n",
       "\n",
       "            tags.trial_name       tags.mlflow.runName  \n",
       "0     TorchTrainer_d2b01c33     TorchTrainer_d2b01c33  \n",
       "1  TorchTrainer_a8033_00000  TorchTrainer_a8033_00000  \n",
       "2     TorchTrainer_cd70d08a     TorchTrainer_cd70d08a  \n",
       "3  TorchTrainer_762f1_00000  TorchTrainer_762f1_00000  \n",
       "\n",
       "[4 rows x 35 columns]"
      ]
     },
     "execution_count": 103,
     "metadata": {},
     "output_type": "execute_result"
    }
   ],
   "source": [
    "# Sorted runs\n",
    "experiment_name= \"llm-1704277824\"\n",
    "sorted_runs = mlflow.search_runs(experiment_names=[experiment_name], order_by=[\"metrics.val_loss ASC\"])\n",
    "sorted_runs"
   ]
  },
  {
   "cell_type": "code",
   "execution_count": 104,
   "id": "903b0dc2-1085-4c38-8b87-17164e4e4d96",
   "metadata": {
    "tags": []
   },
   "outputs": [
    {
     "data": {
      "text/plain": [
       "'f9f5fdf98b8748a3b7e2a81dcb32237a'"
      ]
     },
     "execution_count": 104,
     "metadata": {},
     "output_type": "execute_result"
    }
   ],
   "source": [
    "best_run = sorted_runs.iloc[0]\n",
    "best_run.run_id"
   ]
  },
  {
   "cell_type": "code",
   "execution_count": 105,
   "id": "a07894f0-643a-4ff3-8468-b4db23bd4878",
   "metadata": {
    "tags": []
   },
   "outputs": [
    {
     "name": "stderr",
     "output_type": "stream",
     "text": [
      "Some weights of the model checkpoint at allenai/scibert_scivocab_uncased were not used when initializing BertModel: ['cls.predictions.bias', 'cls.predictions.transform.LayerNorm.bias', 'cls.predictions.decoder.weight', 'cls.predictions.transform.dense.weight', 'cls.seq_relationship.bias', 'cls.seq_relationship.weight', 'cls.predictions.transform.LayerNorm.weight', 'cls.predictions.transform.dense.bias', 'cls.predictions.decoder.bias']\n",
      "- This IS expected if you are initializing BertModel from the checkpoint of a model trained on another task or with another architecture (e.g. initializing a BertForSequenceClassification model from a BertForPreTraining model).\n",
      "- This IS NOT expected if you are initializing BertModel from the checkpoint of a model that you expect to be exactly identical (initializing a BertForSequenceClassification model from a BertForSequenceClassification model).\n"
     ]
    }
   ],
   "source": [
    "# Artifacts\n",
    "best_checkpoint = get_best_checkpoint(run_id=best_run.run_id)\n",
    "predictor = TorchPredictor.from_checkpoint(best_checkpoint)\n",
    "preprocessor = predictor.get_preprocessor()"
   ]
  },
  {
   "cell_type": "markdown",
   "id": "61a27aca-c00d-45b4-b311-685703b9fca4",
   "metadata": {},
   "source": [
    "## Evaluation \n",
    "\n",
    "Before evaluating our model, we always want to:\n",
    "\n",
    "* be clear about what metrics we are prioritizing\n",
    "* be careful not to over optimize on any one metric because it may mean you're compromising something else\n",
    "\n",
    "So far we've been evaluating our models by determing the overall precision, recall and f1 scores. But since performance is one of the key decision making factors when comparing different models, we should have even more nuanced evaluation strategies.\n",
    "\n",
    "* Coarse-grained metrics\n",
    "* Fine-grained metrics\n",
    "* Confusion matrix\n",
    "* Confidence learning\n",
    "* Slice metrics\n",
    "\n",
    "Coarse-grained metrics is where we check overall performance metrics of the data where fine grained is like going deeper into the same metrics like per class metrics, confusion matrix to evaluate how the model is performing on data."
   ]
  },
  {
   "cell_type": "code",
   "execution_count": 106,
   "id": "29457c71-0425-4717-8e97-8a14abb85772",
   "metadata": {
    "tags": []
   },
   "outputs": [],
   "source": [
    "# metrics\n",
    "from collections import OrderedDict\n",
    "\n",
    "metrics = {\"overall\": {}, \"class\": {}}"
   ]
  },
  {
   "cell_type": "code",
   "execution_count": 107,
   "id": "df869df6-9f4f-42c4-82de-8acd85c5e0e8",
   "metadata": {
    "tags": []
   },
   "outputs": [
    {
     "name": "stderr",
     "output_type": "stream",
     "text": [
      "Some weights of the model checkpoint at allenai/scibert_scivocab_uncased were not used when initializing BertModel: ['cls.predictions.bias', 'cls.predictions.transform.LayerNorm.bias', 'cls.predictions.decoder.weight', 'cls.predictions.transform.dense.weight', 'cls.seq_relationship.bias', 'cls.seq_relationship.weight', 'cls.predictions.transform.LayerNorm.weight', 'cls.predictions.transform.dense.bias', 'cls.predictions.decoder.bias']\n",
      "- This IS expected if you are initializing BertModel from the checkpoint of a model trained on another task or with another architecture (e.g. initializing a BertForSequenceClassification model from a BertForPreTraining model).\n",
      "- This IS NOT expected if you are initializing BertModel from the checkpoint of a model that you expect to be exactly identical (initializing a BertForSequenceClassification model from a BertForSequenceClassification model).\n"
     ]
    }
   ],
   "source": [
    "# taking the best model \n",
    "\n",
    "predictor = TorchPredictor.from_checkpoint(best_checkpoint)\n",
    "preprocessor = predictor.get_preprocessor()"
   ]
  },
  {
   "cell_type": "code",
   "execution_count": 108,
   "id": "23f65b06-03b5-4725-bfbd-fd46b4b07606",
   "metadata": {
    "tags": []
   },
   "outputs": [
    {
     "name": "stderr",
     "output_type": "stream",
     "text": [
      "2024-01-05 09:26:27,873\tINFO streaming_executor.py:93 -- Executing DAG InputDataBuffer[Input] -> TaskPoolMapOperator[ReadCSV->SplitBlocks(32)] -> TaskPoolMapOperator[MapBatches(preprocess)->MapBatches(<lambda>)]\n",
      "2024-01-05 09:26:27,875\tINFO streaming_executor.py:94 -- Execution config: ExecutionOptions(resource_limits=ExecutionResources(cpu=None, gpu=None, object_store_memory=None), locality_with_output=False, preserve_order=True, actor_locality_enabled=True, verbose_progress=False)\n",
      "2024-01-05 09:26:27,875\tINFO streaming_executor.py:96 -- Tip: For detailed progress reporting, run `ray.data.DataContext.get_current().execution_options.verbose_progress = True`\n"
     ]
    },
    {
     "data": {
      "application/vnd.jupyter.widget-view+json": {
       "model_id": "",
       "version_major": 2,
       "version_minor": 0
      },
      "text/plain": [
       "Running 0:   0%|          | 0/1024 [00:00<?, ?it/s]"
      ]
     },
     "metadata": {},
     "output_type": "display_data"
    }
   ],
   "source": [
    "# true labels\n",
    "\n",
    "preprocessed_ds = preprocessor.transform(test_ds)\n",
    "values = preprocessed_ds.select_columns(cols=[\"targets\"]).take_all()\n",
    "y_test = np.stack([item[\"targets\"] for item in values])"
   ]
  },
  {
   "cell_type": "code",
   "execution_count": 109,
   "id": "a9fc881c-0f7f-41be-bd29-3513b3858574",
   "metadata": {
    "tags": []
   },
   "outputs": [
    {
     "name": "stderr",
     "output_type": "stream",
     "text": [
      "2024-01-05 09:26:34,213\tINFO streaming_executor.py:93 -- Executing DAG InputDataBuffer[Input] -> TaskPoolMapOperator[ReadCSV->SplitBlocks(32)] -> TaskPoolMapOperator[MapBatches(preprocess)->MapBatches(TorchPredictor.predict_proba)]\n",
      "2024-01-05 09:26:34,214\tINFO streaming_executor.py:94 -- Execution config: ExecutionOptions(resource_limits=ExecutionResources(cpu=None, gpu=None, object_store_memory=None), locality_with_output=False, preserve_order=True, actor_locality_enabled=True, verbose_progress=False)\n",
      "2024-01-05 09:26:34,215\tINFO streaming_executor.py:96 -- Tip: For detailed progress reporting, run `ray.data.DataContext.get_current().execution_options.verbose_progress = True`\n"
     ]
    },
    {
     "data": {
      "application/vnd.jupyter.widget-view+json": {
       "model_id": "",
       "version_major": 2,
       "version_minor": 0
      },
      "text/plain": [
       "Running 0:   0%|          | 0/1024 [00:00<?, ?it/s]"
      ]
     },
     "metadata": {},
     "output_type": "display_data"
    }
   ],
   "source": [
    "# y_prob\n",
    "outputs = preprocessed_ds.map_batches(predictor.predict_proba)\n",
    "y_prob = np.array([d[\"output\"] for d in outputs.take_all()])"
   ]
  },
  {
   "cell_type": "code",
   "execution_count": 110,
   "id": "46a2ad62-1c17-4ec9-b8d5-53d079ad0802",
   "metadata": {
    "tags": []
   },
   "outputs": [
    {
     "name": "stdout",
     "output_type": "stream",
     "text": [
      "(191,)\n",
      "(191, 4)\n"
     ]
    }
   ],
   "source": [
    "print(y_test.shape)\n",
    "print(y_prob.shape) # proba of 4 classes"
   ]
  },
  {
   "cell_type": "code",
   "execution_count": 111,
   "id": "34f8d731-f84e-4d24-9e68-87e82a0d2292",
   "metadata": {
    "tags": []
   },
   "outputs": [
    {
     "data": {
      "application/vnd.jupyter.widget-view+json": {
       "model_id": "",
       "version_major": 2,
       "version_minor": 0
      },
      "text/plain": [
       "Read progress 0:   0%|          | 0/1 [00:00<?, ?it/s]"
      ]
     },
     "metadata": {},
     "output_type": "display_data"
    },
    {
     "data": {
      "application/vnd.jupyter.widget-view+json": {
       "model_id": "",
       "version_major": 2,
       "version_minor": 0
      },
      "text/plain": [
       "Read progress 0:   0%|          | 0/1 [00:00<?, ?it/s]"
      ]
     },
     "metadata": {},
     "output_type": "display_data"
    },
    {
     "data": {
      "text/html": [
       "<div>\n",
       "<style scoped>\n",
       "    .dataframe tbody tr th:only-of-type {\n",
       "        vertical-align: middle;\n",
       "    }\n",
       "\n",
       "    .dataframe tbody tr th {\n",
       "        vertical-align: top;\n",
       "    }\n",
       "\n",
       "    .dataframe thead th {\n",
       "        text-align: right;\n",
       "    }\n",
       "</style>\n",
       "<table border=\"1\" class=\"dataframe\">\n",
       "  <thead>\n",
       "    <tr style=\"text-align: right;\">\n",
       "      <th></th>\n",
       "      <th>id</th>\n",
       "      <th>created_on</th>\n",
       "      <th>title</th>\n",
       "      <th>description</th>\n",
       "      <th>tag</th>\n",
       "      <th>text</th>\n",
       "      <th>prediction</th>\n",
       "    </tr>\n",
       "  </thead>\n",
       "  <tbody>\n",
       "    <tr>\n",
       "      <th>0</th>\n",
       "      <td>19</td>\n",
       "      <td>2020-03-03 13:54:31</td>\n",
       "      <td>Diffusion to Vector</td>\n",
       "      <td>Reference implementation of Diffusion2Vec (Com...</td>\n",
       "      <td>other</td>\n",
       "      <td>Diffusion to Vector Reference implementation o...</td>\n",
       "      <td>other</td>\n",
       "    </tr>\n",
       "    <tr>\n",
       "      <th>1</th>\n",
       "      <td>26</td>\n",
       "      <td>2020-03-07 23:11:58</td>\n",
       "      <td>Graph Wavelet Neural Network</td>\n",
       "      <td>A PyTorch implementation of \"Graph Wavelet Neu...</td>\n",
       "      <td>other</td>\n",
       "      <td>Graph Wavelet Neural Network A PyTorch impleme...</td>\n",
       "      <td>other</td>\n",
       "    </tr>\n",
       "    <tr>\n",
       "      <th>2</th>\n",
       "      <td>44</td>\n",
       "      <td>2020-03-08 00:32:58</td>\n",
       "      <td>Capsule Graph Neural Network</td>\n",
       "      <td>A PyTorch implementation of \"Capsule Graph Neu...</td>\n",
       "      <td>other</td>\n",
       "      <td>Capsule Graph Neural Network A PyTorch impleme...</td>\n",
       "      <td>other</td>\n",
       "    </tr>\n",
       "    <tr>\n",
       "      <th>3</th>\n",
       "      <td>80</td>\n",
       "      <td>2020-03-20 05:59:32</td>\n",
       "      <td>NeRF: Neural Radiance Fields</td>\n",
       "      <td>Representing scenes as neural radiance fields ...</td>\n",
       "      <td>computer-vision</td>\n",
       "      <td>NeRF: Neural Radiance Fields Representing scen...</td>\n",
       "      <td>computer-vision</td>\n",
       "    </tr>\n",
       "    <tr>\n",
       "      <th>4</th>\n",
       "      <td>84</td>\n",
       "      <td>2020-03-20 15:18:43</td>\n",
       "      <td>Mention Classifier</td>\n",
       "      <td>Category prediction model\\nThis repo contains ...</td>\n",
       "      <td>natural-language-processing</td>\n",
       "      <td>Mention Classifier Category prediction model\\n...</td>\n",
       "      <td>natural-language-processing</td>\n",
       "    </tr>\n",
       "  </tbody>\n",
       "</table>\n",
       "</div>"
      ],
      "text/plain": [
       "   id          created_on                         title   \n",
       "0  19 2020-03-03 13:54:31           Diffusion to Vector  \\\n",
       "1  26 2020-03-07 23:11:58  Graph Wavelet Neural Network   \n",
       "2  44 2020-03-08 00:32:58  Capsule Graph Neural Network   \n",
       "3  80 2020-03-20 05:59:32  NeRF: Neural Radiance Fields   \n",
       "4  84 2020-03-20 15:18:43            Mention Classifier   \n",
       "\n",
       "                                         description   \n",
       "0  Reference implementation of Diffusion2Vec (Com...  \\\n",
       "1  A PyTorch implementation of \"Graph Wavelet Neu...   \n",
       "2  A PyTorch implementation of \"Capsule Graph Neu...   \n",
       "3  Representing scenes as neural radiance fields ...   \n",
       "4  Category prediction model\\nThis repo contains ...   \n",
       "\n",
       "                           tag   \n",
       "0                        other  \\\n",
       "1                        other   \n",
       "2                        other   \n",
       "3              computer-vision   \n",
       "4  natural-language-processing   \n",
       "\n",
       "                                                text   \n",
       "0  Diffusion to Vector Reference implementation o...  \\\n",
       "1  Graph Wavelet Neural Network A PyTorch impleme...   \n",
       "2  Capsule Graph Neural Network A PyTorch impleme...   \n",
       "3  NeRF: Neural Radiance Fields Representing scen...   \n",
       "4  Mention Classifier Category prediction model\\n...   \n",
       "\n",
       "                    prediction  \n",
       "0                        other  \n",
       "1                        other  \n",
       "2                        other  \n",
       "3              computer-vision  \n",
       "4  natural-language-processing  "
      ]
     },
     "execution_count": 111,
     "metadata": {},
     "output_type": "execute_result"
    }
   ],
   "source": [
    "# just adding prediction to test dataframe\n",
    "\n",
    "test_df = test_ds.to_pandas()\n",
    "test_df[\"text\"] = test_df[\"title\"] + \" \" + test_df[\"description\"]\n",
    "test_df[\"prediction\"] = test_df.index.map(lambda i: preprocessor.index_to_class[y_pred[i]])\n",
    "test_df.head()"
   ]
  },
  {
   "cell_type": "markdown",
   "id": "667c46dc-d612-48bc-8050-b4f3fe901b91",
   "metadata": {
    "tags": []
   },
   "source": [
    "**Coarse Grained Metrics**"
   ]
  },
  {
   "cell_type": "code",
   "execution_count": 112,
   "id": "9758154e-91e8-4492-9d42-f378298519c1",
   "metadata": {},
   "outputs": [
    {
     "name": "stdout",
     "output_type": "stream",
     "text": [
      "{\n",
      "    \"precision\": 0.9339843154698659,\n",
      "    \"recall\": 0.9319371727748691,\n",
      "    \"f1_score\": 0.9312127413632342,\n",
      "    \"num_samples\": 191.0\n",
      "}\n"
     ]
    }
   ],
   "source": [
    "# overall metrics \n",
    "\n",
    "overall_metrics = precision_recall_fscore_support(y_true, y_pred, average=\"weighted\")\n",
    "metrics[\"overall\"][\"precision\"] = overall_metrics[0]\n",
    "metrics[\"overall\"][\"recall\"] = overall_metrics[1]\n",
    "metrics[\"overall\"][\"f1_score\"] = overall_metrics[2]\n",
    "metrics[\"overall\"][\"num_samples\"] = np.float64(len(y_test))\n",
    "\n",
    "print(json.dumps(metrics[\"overall\"], indent=4))"
   ]
  },
  {
   "cell_type": "markdown",
   "id": "0fcd623c-f1b9-4472-b9f8-717a9667d3e3",
   "metadata": {},
   "source": [
    "**Fine Grained Metrics**"
   ]
  },
  {
   "cell_type": "code",
   "execution_count": 113,
   "id": "c3866ac6-f5dc-480b-a05b-0eb20808b0c7",
   "metadata": {
    "tags": []
   },
   "outputs": [
    {
     "data": {
      "text/plain": [
       "(array([0.97014925, 0.92307692, 0.89411765, 0.96153846]),\n",
       " array([0.91549296, 0.75      , 0.97435897, 0.96153846]),\n",
       " array([0.94202899, 0.82758621, 0.93251534, 0.96153846]),\n",
       " array([71, 16, 78, 26], dtype=int64))"
      ]
     },
     "execution_count": 113,
     "metadata": {},
     "output_type": "execute_result"
    }
   ],
   "source": [
    "precision_recall_fscore_support(y_true, y_pred, average=None)"
   ]
  },
  {
   "cell_type": "code",
   "execution_count": 114,
   "id": "af20722f-c791-4638-8ae2-f0ff1e614468",
   "metadata": {
    "tags": []
   },
   "outputs": [],
   "source": [
    "# Per-class metrics\n",
    "class_metrics = precision_recall_fscore_support(y_test, y_pred, average=None)\n",
    "for i, _class in enumerate(preprocessor.class_to_index):\n",
    "    metrics[\"class\"][_class] = {\n",
    "        \"precision\": class_metrics[0][i],\n",
    "        \"recall\": class_metrics[1][i],\n",
    "        \"f1\": class_metrics[2][i],\n",
    "        \"num_samples\": np.float64(class_metrics[3][i]),\n",
    "    }"
   ]
  },
  {
   "cell_type": "code",
   "execution_count": 115,
   "id": "c4cff5b2-7066-4457-8013-52424b2b7bc3",
   "metadata": {
    "tags": []
   },
   "outputs": [
    {
     "name": "stdout",
     "output_type": "stream",
     "text": [
      "{\n",
      "  \"precision\": 0.8941176470588236,\n",
      "  \"recall\": 0.9743589743589743,\n",
      "  \"f1\": 0.9325153374233129,\n",
      "  \"num_samples\": 78.0\n",
      "}\n"
     ]
    }
   ],
   "source": [
    "# Metrics for a specific class\n",
    "tag = \"natural-language-processing\"\n",
    "print (json.dumps(metrics[\"class\"][tag], indent=2))"
   ]
  },
  {
   "cell_type": "code",
   "execution_count": 116,
   "id": "feaa79bd-aaec-4093-8295-888ab00254a4",
   "metadata": {
    "tags": []
   },
   "outputs": [
    {
     "name": "stdout",
     "output_type": "stream",
     "text": [
      "[\n",
      "  \"other\",\n",
      "  {\n",
      "    \"precision\": 0.9615384615384616,\n",
      "    \"recall\": 0.9615384615384616,\n",
      "    \"f1\": 0.9615384615384616,\n",
      "    \"num_samples\": 26.0\n",
      "  }\n",
      "]\n",
      "[\n",
      "  \"computer-vision\",\n",
      "  {\n",
      "    \"precision\": 0.9701492537313433,\n",
      "    \"recall\": 0.9154929577464789,\n",
      "    \"f1\": 0.9420289855072463,\n",
      "    \"num_samples\": 71.0\n",
      "  }\n",
      "]\n",
      "[\n",
      "  \"natural-language-processing\",\n",
      "  {\n",
      "    \"precision\": 0.8941176470588236,\n",
      "    \"recall\": 0.9743589743589743,\n",
      "    \"f1\": 0.9325153374233129,\n",
      "    \"num_samples\": 78.0\n",
      "  }\n",
      "]\n",
      "[\n",
      "  \"mlops\",\n",
      "  {\n",
      "    \"precision\": 0.9230769230769231,\n",
      "    \"recall\": 0.75,\n",
      "    \"f1\": 0.8275862068965517,\n",
      "    \"num_samples\": 16.0\n",
      "  }\n",
      "]\n"
     ]
    }
   ],
   "source": [
    "# Sorted tags\n",
    "sorted_tags_by_f1 = OrderedDict(sorted(\n",
    "        metrics[\"class\"].items(), key=lambda tag: tag[1][\"f1\"], reverse=True))\n",
    "for item in sorted_tags_by_f1.items():\n",
    "    print(json.dumps(item, indent=2))"
   ]
  },
  {
   "cell_type": "markdown",
   "id": "f5bfcf8e-ddcb-47ed-8703-2bbbbc5ce29b",
   "metadata": {},
   "source": [
    "**Confusion Matrix**\n",
    "\n",
    "Evaluating the models using confusion matrix tells niche information about predictions and where the model is going wrong and checking the true labels of the wrong predictions will give us the idea whether the labelling is wrong or model's understanding is not better."
   ]
  },
  {
   "cell_type": "markdown",
   "id": "9ce69adf-4454-4a63-b771-b240ec676f6b",
   "metadata": {},
   "source": [
    "> It's a good to have our FP/FN samples feed back into our annotation pipelines in the event we want to fix their labels and have those changes be reflected everywhere."
   ]
  },
  {
   "cell_type": "code",
   "execution_count": 118,
   "id": "08cc00e0-1477-41dd-8a04-120b635ec4fa",
   "metadata": {
    "tags": []
   },
   "outputs": [],
   "source": [
    "# TP, FP, FN samples\n",
    "tag = \"natural-language-processing\"\n",
    "index = preprocessor.class_to_index[tag] # taking the class label value\n",
    "tp, fp, fn = [], [], []\n",
    "for i, true in enumerate(y_test):\n",
    "    pred = y_pred[i]\n",
    "    if index==true==pred:\n",
    "        tp.append(i)\n",
    "    elif index!=true and index==pred:\n",
    "        fp.append(i)\n",
    "    elif index==true and index!=pred:\n",
    "        fn.append(i)\n",
    "\n"
   ]
  },
  {
   "cell_type": "code",
   "execution_count": 119,
   "id": "a8b769f2-364c-489b-8397-940389ba30e8",
   "metadata": {
    "tags": []
   },
   "outputs": [
    {
     "name": "stdout",
     "output_type": "stream",
     "text": [
      "[4, 9, 12, 16, 17, 19, 23, 25, 26, 29, 30, 31, 32, 33, 34, 42, 47, 49, 50, 54, 56, 65, 66, 68, 71, 75, 76, 77, 78, 79, 82, 92, 94, 95, 97, 99, 101, 109, 113, 114, 115, 118, 120, 122, 126, 128, 129, 131, 133, 134, 135, 138, 139, 140, 141, 142, 144, 148, 149, 152, 159, 160, 161, 163, 166, 170, 172, 173, 174, 177, 179, 183, 184, 187, 189, 190]\n",
      "[41, 46, 61, 102, 104, 107, 150, 154, 165]\n",
      "[112, 130]\n"
     ]
    }
   ],
   "source": [
    "print(tp)\n",
    "print(fp)\n",
    "print(fn)"
   ]
  },
  {
   "cell_type": "code",
   "execution_count": 120,
   "id": "df19f831-251a-463b-bd73-a071c2367148",
   "metadata": {
    "tags": []
   },
   "outputs": [
    {
     "name": "stdout",
     "output_type": "stream",
     "text": [
      "\n",
      "=== True positives ===\n",
      "Mention Classifier Category prediction model\n",
      "This repo contains AllenNLP model for prediction of Named Entity categories by its mentions.\n",
      "    true: natural-language-processing\n",
      "    pred: natural-language-processing\n",
      "\n",
      "Finetune: Scikit-learn Style Model Finetuning for NLP Finetune is a library that allows users to leverage state-of-the-art pretrained NLP models for a wide variety of downstream tasks.\n",
      "    true: natural-language-processing\n",
      "    pred: natural-language-processing\n",
      "\n",
      "Finetuning Transformers with JAX + Haiku Walking through a port of the RoBERTa pre-trained model to JAX + Haiku, then fine-tuning the model to solve a downstream task.\n",
      "    true: natural-language-processing\n",
      "    pred: natural-language-processing\n",
      "\n",
      "\n",
      "=== False positives ===\n",
      "How Docker Can Help You Become A More Effective Data Scientist A look at Docker from the perspective of a data scientist.\n",
      "    true: mlops\n",
      "    pred: natural-language-processing\n",
      "\n",
      "TorchServe & TorchElastic PyTorch Libraries for Serving/Training The officially supported way to deploy and manage models with PyTorch.\n",
      "    true: mlops\n",
      "    pred: natural-language-processing\n",
      "\n",
      "Differential Subspace Search in High-Dimensional Latent Space Differential subspace search to allow efficient iterative user exploration in such a space, without relying on domain- or data-specific assumptions.\n",
      "    true: computer-vision\n",
      "    pred: natural-language-processing\n",
      "\n",
      "\n",
      "=== False negatives ===\n",
      "Machine Learning Projects  This Repo contains projects done by me while learning the basics. All the familiar types of regression, classification, and clustering methods have been used.\n",
      "    true: natural-language-processing\n",
      "    pred: other\n",
      "\n",
      "How to Benchmark Models with Transformers HuggingFace's Transformer library allows users to benchmark models for both TensorFlow 2 and PyTorch using the PyTorchBenchmark and TensorFlowBenchmark classes.\n",
      "    true: natural-language-processing\n",
      "    pred: computer-vision\n",
      "\n"
     ]
    }
   ],
   "source": [
    "# Samples\n",
    "num_samples = 3\n",
    "cm = [(tp, \"True positives\"), (fp, \"False positives\"), (fn, \"False negatives\")]\n",
    "for item in cm:\n",
    "    if len(item[0]):\n",
    "        print (f\"\\n=== {item[1]} ===\")\n",
    "        for index in item[0][:num_samples]:\n",
    "            print (f\"{test_df.iloc[index].text}\")\n",
    "            print (f\"    true: {test_df.tag[index]}\")\n",
    "            print (f\"    pred: {test_df.prediction[index]}\\n\")"
   ]
  },
  {
   "cell_type": "markdown",
   "id": "b5cdb6d8-5f86-43ea-87e8-5fd95de8bf89",
   "metadata": {},
   "source": [
    "> From above samples, we could see that original true labels doesn't seem appropiate for some sample, so in this case relabelling would make an better effort."
   ]
  },
  {
   "cell_type": "code",
   "execution_count": 121,
   "id": "83c5c244-570a-48e1-8fd8-791ed6e3b55e",
   "metadata": {
    "tags": []
   },
   "outputs": [
    {
     "data": {
      "text/plain": [
       "array([  4,   9,  12,  16,  17,  19,  23,  25,  26,  29,  30,  31,  32,\n",
       "        33,  34,  42,  47,  49,  50,  54,  56,  65,  66,  68,  71,  75,\n",
       "        76,  77,  78,  79,  82,  92,  94,  95,  97,  99, 101, 109, 112,\n",
       "       113, 114, 115, 118, 120, 122, 126, 128, 129, 130, 131, 133, 134,\n",
       "       135, 138, 139, 140, 141, 142, 144, 148, 149, 152, 159, 160, 161,\n",
       "       163, 166, 170, 172, 173, 174, 177, 179, 183, 184, 187, 189, 190],\n",
       "      dtype=int64)"
      ]
     },
     "execution_count": 121,
     "metadata": {},
     "output_type": "execute_result"
    }
   ],
   "source": [
    "# Tag to inspect\n",
    "tag = \"natural-language-processing\"\n",
    "index = class_to_index[tag]\n",
    "indices = np.where(y_test==index)[0]\n",
    "indices"
   ]
  },
  {
   "cell_type": "markdown",
   "id": "4a6df2f7-e6b7-42c5-980f-59dcc343a4fb",
   "metadata": {},
   "source": [
    "## Confidence Learning\n",
    "\n",
    "It is a process of checking how confident is our model in the predictions using multiple different methods and taking action on whether to relabel the dataset or upsample the data points for a giveen sample.\n",
    "\n",
    "Simple confidence based techniques include identifying samples whose:\n",
    "\n",
    "Categorical\n",
    "\n",
    "* prediction is incorrect (also indicate TN, FP, FN)\n",
    "* confidence score for the correct class is below a threshold\n",
    "* confidence score for an incorrect class is above a threshold\n",
    "* standard deviation of confidence scores over top N samples is low\n",
    "* different predictions from same model using different parameters\n",
    "\n",
    "Continuous\n",
    "\n",
    "* difference between predicted and ground-truth values is above some %"
   ]
  },
  {
   "cell_type": "code",
   "execution_count": 122,
   "id": "e4f250ab-6a01-4adf-b6d5-a2fe6d8dd812",
   "metadata": {
    "tags": []
   },
   "outputs": [
    {
     "data": {
      "text/plain": [
       "array([  4,   9,  12,  16,  17,  19,  23,  25,  26,  29,  30,  31,  32,\n",
       "        33,  34,  42,  47,  49,  50,  54,  56,  65,  66,  68,  71,  75,\n",
       "        76,  77,  78,  79,  82,  92,  94,  95,  97,  99, 101, 109, 112,\n",
       "       113, 114, 115, 118, 120, 122, 126, 128, 129, 130, 131, 133, 134,\n",
       "       135, 138, 139, 140, 141, 142, 144, 148, 149, 152, 159, 160, 161,\n",
       "       163, 166, 170, 172, 173, 174, 177, 179, 183, 184, 187, 189, 190],\n",
       "      dtype=int64)"
      ]
     },
     "execution_count": 122,
     "metadata": {},
     "output_type": "execute_result"
    }
   ],
   "source": [
    "# tag to inspect\n",
    "\n",
    "tag = \"natural-language-processing\"\n",
    "index = class_to_index[tag]\n",
    "indices = np.where(y_test == index)[0] # selecting all indices which has nlp tag\n",
    "indices"
   ]
  },
  {
   "cell_type": "code",
   "execution_count": 123,
   "id": "9d810001-a595-4880-bef2-3c201f0933c5",
   "metadata": {
    "tags": []
   },
   "outputs": [],
   "source": [
    "# checking whether confidence score for correct class data is below threshold \n",
    "\n",
    "low_confidence = []\n",
    "min_threshold = 0.5\n",
    "for i in indices:\n",
    "    prob = y_prob[i][index]\n",
    "    if prob <= 0.5:\n",
    "        low_confidence.append({\n",
    "            \"text\": f\"{test_df.iloc[i].text}\",\n",
    "            \"true\": test_df.tag[i], \n",
    "            \"pred\": test_df.prediction[i], \n",
    "            \"prob\": prob})"
   ]
  },
  {
   "cell_type": "markdown",
   "id": "318d04db-8995-448f-8a71-0dd897d61b00",
   "metadata": {},
   "source": [
    "> Taking the data samples which have wrong predictions for NLP tag with confidence level, which shows whether data needs relabelling or we need more samples for nlp tag class."
   ]
  },
  {
   "cell_type": "code",
   "execution_count": 124,
   "id": "8feb2064-98ff-4aba-906d-8b4a6b86bd2a",
   "metadata": {
    "tags": []
   },
   "outputs": [
    {
     "data": {
      "text/plain": [
       "[{'text': 'Get Subreddit Suggestions for a Post Trained on 4M Reddit posts from 4k Subreddits. End-to-end ML pipeline built with fasttext and FastAPI, deployed to Valohai.',\n",
       "  'true': 'natural-language-processing',\n",
       "  'pred': 'natural-language-processing',\n",
       "  'prob': 0.08110659},\n",
       " {'text': 'Machine Learning Projects  This Repo contains projects done by me while learning the basics. All the familiar types of regression, classification, and clustering methods have been used.',\n",
       "  'true': 'natural-language-processing',\n",
       "  'pred': 'other',\n",
       "  'prob': 0.010541005}]"
      ]
     },
     "execution_count": 124,
     "metadata": {},
     "output_type": "execute_result"
    }
   ],
   "source": [
    "low_confidence"
   ]
  },
  {
   "cell_type": "markdown",
   "id": "f78d9ea5-fbbd-467e-9e83-fcb254c1726e",
   "metadata": {},
   "source": [
    "> Recent work on confident learning (cleanlab) focuses on identifying noisy labels (with calibration), which can then be properly relabeled and used for training."
   ]
  },
  {
   "cell_type": "code",
   "execution_count": 125,
   "id": "3e5b1c6e-b1ce-4ce0-a014-9f09b844cbad",
   "metadata": {
    "tags": []
   },
   "outputs": [],
   "source": [
    "import cleanlab\n",
    "from cleanlab.filter import find_label_issues"
   ]
  },
  {
   "cell_type": "code",
   "execution_count": 126,
   "id": "a9189706-ebb0-4404-b962-521438570ff2",
   "metadata": {
    "tags": []
   },
   "outputs": [
    {
     "data": {
      "text/plain": [
       "array([ 44,  61, 103, 104, 102, 165,  73, 112])"
      ]
     },
     "execution_count": 126,
     "metadata": {},
     "output_type": "execute_result"
    }
   ],
   "source": [
    "# finding label issues from the dataset \n",
    "\n",
    "label_issues = find_label_issues(labels=y_test, pred_probs=y_prob, return_indices_ranked_by=\"self_confidence\")\n",
    "label_issues"
   ]
  },
  {
   "cell_type": "code",
   "execution_count": 127,
   "id": "aaeb0684-48cb-4d34-ad9a-8aa0a4f2b7a2",
   "metadata": {
    "tags": []
   },
   "outputs": [
    {
     "data": {
      "text/html": [
       "<div>\n",
       "<style scoped>\n",
       "    .dataframe tbody tr th:only-of-type {\n",
       "        vertical-align: middle;\n",
       "    }\n",
       "\n",
       "    .dataframe tbody tr th {\n",
       "        vertical-align: top;\n",
       "    }\n",
       "\n",
       "    .dataframe thead th {\n",
       "        text-align: right;\n",
       "    }\n",
       "</style>\n",
       "<table border=\"1\" class=\"dataframe\">\n",
       "  <thead>\n",
       "    <tr style=\"text-align: right;\">\n",
       "      <th></th>\n",
       "      <th>id</th>\n",
       "      <th>created_on</th>\n",
       "      <th>title</th>\n",
       "      <th>description</th>\n",
       "      <th>tag</th>\n",
       "      <th>prediction</th>\n",
       "    </tr>\n",
       "  </thead>\n",
       "  <tbody>\n",
       "    <tr>\n",
       "      <th>44</th>\n",
       "      <td>579</td>\n",
       "      <td>2020-04-20 00:53:19</td>\n",
       "      <td>Transfer Learning &amp; Fine-Tuning With Keras</td>\n",
       "      <td>Your 100% up-to-date guide to transfer learnin...</td>\n",
       "      <td>computer-vision</td>\n",
       "      <td>computer-vision</td>\n",
       "    </tr>\n",
       "    <tr>\n",
       "      <th>61</th>\n",
       "      <td>710</td>\n",
       "      <td>2020-05-05 04:01:24</td>\n",
       "      <td>Differential Subspace Search in High-Dimension...</td>\n",
       "      <td>Differential subspace search to allow efficien...</td>\n",
       "      <td>computer-vision</td>\n",
       "      <td>natural-language-processing</td>\n",
       "    </tr>\n",
       "    <tr>\n",
       "      <th>103</th>\n",
       "      <td>1459</td>\n",
       "      <td>2020-06-16 03:06:10</td>\n",
       "      <td>SuperGlue: Learning Feature Matching with Grap...</td>\n",
       "      <td>SuperGlue, a neural network that matches two s...</td>\n",
       "      <td>other</td>\n",
       "      <td>computer-vision</td>\n",
       "    </tr>\n",
       "    <tr>\n",
       "      <th>104</th>\n",
       "      <td>1462</td>\n",
       "      <td>2020-06-16 03:28:40</td>\n",
       "      <td>Open Compound Domain Adaptation</td>\n",
       "      <td>Pytorch implementation for \"Open Compound Doma...</td>\n",
       "      <td>computer-vision</td>\n",
       "      <td>natural-language-processing</td>\n",
       "    </tr>\n",
       "    <tr>\n",
       "      <th>102</th>\n",
       "      <td>1451</td>\n",
       "      <td>2020-06-16 01:21:09</td>\n",
       "      <td>EfficientDet (PyTorch)</td>\n",
       "      <td>A PyTorch implementation of EfficientDet faith...</td>\n",
       "      <td>computer-vision</td>\n",
       "      <td>natural-language-processing</td>\n",
       "    </tr>\n",
       "  </tbody>\n",
       "</table>\n",
       "</div>"
      ],
      "text/plain": [
       "       id          created_on   \n",
       "44    579 2020-04-20 00:53:19  \\\n",
       "61    710 2020-05-05 04:01:24   \n",
       "103  1459 2020-06-16 03:06:10   \n",
       "104  1462 2020-06-16 03:28:40   \n",
       "102  1451 2020-06-16 01:21:09   \n",
       "\n",
       "                                                 title   \n",
       "44          Transfer Learning & Fine-Tuning With Keras  \\\n",
       "61   Differential Subspace Search in High-Dimension...   \n",
       "103  SuperGlue: Learning Feature Matching with Grap...   \n",
       "104                    Open Compound Domain Adaptation   \n",
       "102                             EfficientDet (PyTorch)   \n",
       "\n",
       "                                           description              tag   \n",
       "44   Your 100% up-to-date guide to transfer learnin...  computer-vision  \\\n",
       "61   Differential subspace search to allow efficien...  computer-vision   \n",
       "103  SuperGlue, a neural network that matches two s...            other   \n",
       "104  Pytorch implementation for \"Open Compound Doma...  computer-vision   \n",
       "102  A PyTorch implementation of EfficientDet faith...  computer-vision   \n",
       "\n",
       "                      prediction  \n",
       "44               computer-vision  \n",
       "61   natural-language-processing  \n",
       "103              computer-vision  \n",
       "104  natural-language-processing  \n",
       "102  natural-language-processing  "
      ]
     },
     "execution_count": 127,
     "metadata": {},
     "output_type": "execute_result"
    }
   ],
   "source": [
    "test_df.iloc[label_issues].drop(columns=[\"text\"]).head()"
   ]
  },
  {
   "cell_type": "markdown",
   "id": "582cb9f8-43a8-49cf-8ca0-6220d3ee1b83",
   "metadata": {},
   "source": [
    "Not all of these are necessarily labeling errors but situations where the predicted probabilities were not so confident. Therefore, it will be useful to attach the predicted outcomes along side results. This way, we can know if we need to relabel, upsample, etc. as mitigation strategies to improve our performance."
   ]
  },
  {
   "cell_type": "markdown",
   "id": "b9da2078-35fc-4135-ba82-1af306fcaa80",
   "metadata": {},
   "source": [
    "## Slicing \n",
    "\n",
    "Just inspecting the overall and class metrics isn't enough to deploy our new version to production. There may be key slices of our dataset that we need to do really well on:\n",
    "\n",
    "* Target / predicted classes (+ combinations)\n",
    "* Features (explicit and implicit)\n",
    "* Metadata (timestamps, sources, etc.)\n",
    "* Priority slices / experience (minority groups, large users, etc.)\n",
    "\n",
    "we can use slicing to slice any part of the dataset and check the predictions or how the model is performing on that sliced set."
   ]
  },
  {
   "cell_type": "code",
   "execution_count": 128,
   "id": "fd01c1ee-bc5a-479d-a102-74016b636bbb",
   "metadata": {
    "tags": []
   },
   "outputs": [],
   "source": [
    "from snorkel.slicing import PandasSFApplier\n",
    "from snorkel.slicing import slice_dataframe\n",
    "from snorkel.slicing import slicing_function"
   ]
  },
  {
   "cell_type": "code",
   "execution_count": 171,
   "id": "c6995447-2051-4577-91d9-6a2b5ea631bb",
   "metadata": {
    "tags": []
   },
   "outputs": [],
   "source": [
    "@slicing_function()\n",
    "def nlp_llm(x):\n",
    "    \"\"\"\n",
    "    slicing the dataframe which has nlp project that uses LLM\n",
    "    \"\"\"\n",
    "    nlp_project = \"natural-language-processing\" in x.tag # it checks for each data sample\n",
    "    llm_terms = [\"llm\", \"transformer\", \"bert\"]\n",
    "    # looking for llm terms in dataset to slice it\n",
    "    llm_project = any(term.lower() in x.text.lower() for term in llm_terms)\n",
    "    return (nlp_project and llm_project) # returns only nlp tag with llm words "
   ]
  },
  {
   "cell_type": "code",
   "execution_count": 154,
   "id": "09da8174-b3c2-48b5-912a-5590bcdbb518",
   "metadata": {
    "tags": []
   },
   "outputs": [],
   "source": [
    "@slicing_function()\n",
    "def short_text(x):\n",
    "    \"\"\"Projects with short titles and descriptions.\"\"\"\n",
    "    return len(x.text.split()) < 8  # less than 8 words"
   ]
  },
  {
   "cell_type": "markdown",
   "id": "96241a27-e96e-4694-bda5-99de3a832f3f",
   "metadata": {},
   "source": [
    "Here we're using Snorkel's `slicing_function` to create our different slices. We can visualize our slices by applying this slicing function to a relevant DataFrame using `slice_dataframe`"
   ]
  },
  {
   "cell_type": "code",
   "execution_count": 164,
   "id": "c014ed3e-9d9f-45f0-8837-3485c894c711",
   "metadata": {
    "tags": []
   },
   "outputs": [
    {
     "name": "stderr",
     "output_type": "stream",
     "text": [
      "100%|██████████████████████████████████████████████████████████████████████████████████████████████████████████████████████████| 191/191 [00:00<00:00, 47414.30it/s]\n"
     ]
    },
    {
     "data": {
      "text/html": [
       "<div>\n",
       "<style scoped>\n",
       "    .dataframe tbody tr th:only-of-type {\n",
       "        vertical-align: middle;\n",
       "    }\n",
       "\n",
       "    .dataframe tbody tr th {\n",
       "        vertical-align: top;\n",
       "    }\n",
       "\n",
       "    .dataframe thead th {\n",
       "        text-align: right;\n",
       "    }\n",
       "</style>\n",
       "<table border=\"1\" class=\"dataframe\">\n",
       "  <thead>\n",
       "    <tr style=\"text-align: right;\">\n",
       "      <th></th>\n",
       "      <th>text</th>\n",
       "      <th>tag</th>\n",
       "    </tr>\n",
       "  </thead>\n",
       "  <tbody>\n",
       "    <tr>\n",
       "      <th>12</th>\n",
       "      <td>Finetuning Transformers with JAX + Haiku Walki...</td>\n",
       "      <td>natural-language-processing</td>\n",
       "    </tr>\n",
       "    <tr>\n",
       "      <th>19</th>\n",
       "      <td>Question Answering with a Fine-Tuned BERT What...</td>\n",
       "      <td>natural-language-processing</td>\n",
       "    </tr>\n",
       "    <tr>\n",
       "      <th>29</th>\n",
       "      <td>BertViz Tool for visualizing attention in the ...</td>\n",
       "      <td>natural-language-processing</td>\n",
       "    </tr>\n",
       "    <tr>\n",
       "      <th>30</th>\n",
       "      <td>The Transformer Family This post presents how ...</td>\n",
       "      <td>natural-language-processing</td>\n",
       "    </tr>\n",
       "    <tr>\n",
       "      <th>31</th>\n",
       "      <td>Pruning Bert to Accelerate Inference After pre...</td>\n",
       "      <td>natural-language-processing</td>\n",
       "    </tr>\n",
       "  </tbody>\n",
       "</table>\n",
       "</div>"
      ],
      "text/plain": [
       "                                                 text   \n",
       "12  Finetuning Transformers with JAX + Haiku Walki...  \\\n",
       "19  Question Answering with a Fine-Tuned BERT What...   \n",
       "29  BertViz Tool for visualizing attention in the ...   \n",
       "30  The Transformer Family This post presents how ...   \n",
       "31  Pruning Bert to Accelerate Inference After pre...   \n",
       "\n",
       "                            tag  \n",
       "12  natural-language-processing  \n",
       "19  natural-language-processing  \n",
       "29  natural-language-processing  \n",
       "30  natural-language-processing  \n",
       "31  natural-language-processing  "
      ]
     },
     "execution_count": 164,
     "metadata": {},
     "output_type": "execute_result"
    }
   ],
   "source": [
    "nlp_llm_df = slice_dataframe(test_df, nlp_llm)\n",
    "nlp_llm_df[[\"text\", \"tag\"]].head()"
   ]
  },
  {
   "cell_type": "code",
   "execution_count": 165,
   "id": "fdffa592-ec8a-4b60-a58f-3ecee0ffb712",
   "metadata": {
    "tags": []
   },
   "outputs": [
    {
     "name": "stderr",
     "output_type": "stream",
     "text": [
      "100%|██████████████████████████████████████████████████████████████████████████████████████████████████████████████████████████| 191/191 [00:00<00:00, 55811.07it/s]\n"
     ]
    },
    {
     "data": {
      "text/html": [
       "<div>\n",
       "<style scoped>\n",
       "    .dataframe tbody tr th:only-of-type {\n",
       "        vertical-align: middle;\n",
       "    }\n",
       "\n",
       "    .dataframe tbody tr th {\n",
       "        vertical-align: top;\n",
       "    }\n",
       "\n",
       "    .dataframe thead th {\n",
       "        text-align: right;\n",
       "    }\n",
       "</style>\n",
       "<table border=\"1\" class=\"dataframe\">\n",
       "  <thead>\n",
       "    <tr style=\"text-align: right;\">\n",
       "      <th></th>\n",
       "      <th>text</th>\n",
       "      <th>tag</th>\n",
       "    </tr>\n",
       "  </thead>\n",
       "  <tbody>\n",
       "    <tr>\n",
       "      <th>75</th>\n",
       "      <td>NLPAug Data augmentation for NLP</td>\n",
       "      <td>natural-language-processing</td>\n",
       "    </tr>\n",
       "    <tr>\n",
       "      <th>123</th>\n",
       "      <td>Offline Reinforcement Learning Challenges, alg...</td>\n",
       "      <td>other</td>\n",
       "    </tr>\n",
       "    <tr>\n",
       "      <th>127</th>\n",
       "      <td>Image Classifier Pure JavaScript Image Classifier</td>\n",
       "      <td>computer-vision</td>\n",
       "    </tr>\n",
       "    <tr>\n",
       "      <th>132</th>\n",
       "      <td>imgaug Image augmentation for machine learning...</td>\n",
       "      <td>computer-vision</td>\n",
       "    </tr>\n",
       "    <tr>\n",
       "      <th>140</th>\n",
       "      <td>QSVM Quantum SVM for sentiment analysis</td>\n",
       "      <td>natural-language-processing</td>\n",
       "    </tr>\n",
       "  </tbody>\n",
       "</table>\n",
       "</div>"
      ],
      "text/plain": [
       "                                                  text   \n",
       "75                    NLPAug Data augmentation for NLP  \\\n",
       "123  Offline Reinforcement Learning Challenges, alg...   \n",
       "127  Image Classifier Pure JavaScript Image Classifier   \n",
       "132  imgaug Image augmentation for machine learning...   \n",
       "140            QSVM Quantum SVM for sentiment analysis   \n",
       "\n",
       "                             tag  \n",
       "75   natural-language-processing  \n",
       "123                        other  \n",
       "127              computer-vision  \n",
       "132              computer-vision  \n",
       "140  natural-language-processing  "
      ]
     },
     "execution_count": 165,
     "metadata": {},
     "output_type": "execute_result"
    }
   ],
   "source": [
    "short_text_df = slice_dataframe(test_df, short_text)\n",
    "short_text_df[[\"text\", \"tag\"]].head()"
   ]
  },
  {
   "cell_type": "markdown",
   "id": "7dd46f70-4d51-4954-9d50-63415585cbbe",
   "metadata": {},
   "source": [
    "> In above sliced dataframes, we could able to slice the dataset using defined slicing functions which is quite handy"
   ]
  },
  {
   "cell_type": "markdown",
   "id": "daa2ab65-0ff9-4944-9a67-673ae37888fb",
   "metadata": {},
   "source": [
    "We can define even more slicing functions and create a slices record array using the PandasSFApplier. The slices array has N (# of data points) items and each item has S (# of slicing functions) items, indicating whether that data point is part of that slice. Think of this record array as a masking layer for each slicing function on our data."
   ]
  },
  {
   "cell_type": "code",
   "execution_count": 166,
   "id": "2156b76e-7534-4de8-b251-f18e5e9b6ddc",
   "metadata": {
    "tags": []
   },
   "outputs": [
    {
     "name": "stderr",
     "output_type": "stream",
     "text": [
      "100%|██████████████████████████████████████████████████████████████████████████████████████████████████████████████████████████| 191/191 [00:00<00:00, 34639.69it/s]\n"
     ]
    },
    {
     "data": {
      "text/plain": [
       "rec.array([(0, 0), (0, 0), (0, 0), (0, 0), (0, 0), (0, 0), (0, 0), (0, 0),\n",
       "           (0, 0), (0, 0), (0, 0), (0, 0), (1, 0), (0, 0), (0, 0), (0, 0),\n",
       "           (0, 0), (0, 0), (0, 0), (1, 0), (0, 0), (0, 0), (0, 0), (0, 0),\n",
       "           (0, 0), (0, 0), (0, 0), (0, 0), (0, 0), (1, 0), (1, 0), (1, 0),\n",
       "           (1, 0), (0, 0), (1, 0), (0, 0), (0, 0), (0, 0), (0, 0), (0, 0),\n",
       "           (0, 0), (0, 0), (1, 0), (0, 0), (0, 0), (0, 0), (0, 0), (0, 0),\n",
       "           (0, 0), (0, 0), (1, 0), (0, 0), (0, 0), (0, 0), (0, 0), (0, 0),\n",
       "           (0, 0), (0, 0), (0, 0), (0, 0), (0, 0), (0, 0), (0, 0), (0, 0),\n",
       "           (0, 0), (0, 0), (0, 0), (0, 0), (0, 0), (0, 0), (0, 0), (0, 0),\n",
       "           (0, 0), (0, 0), (0, 0), (0, 1), (0, 0), (0, 0), (1, 0), (0, 0),\n",
       "           (0, 0), (0, 0), (0, 0), (0, 0), (0, 0), (0, 0), (0, 0), (0, 0),\n",
       "           (0, 0), (0, 0), (0, 0), (0, 0), (0, 0), (0, 0), (1, 0), (0, 0),\n",
       "           (0, 0), (1, 0), (0, 0), (0, 0), (0, 0), (1, 0), (0, 0), (0, 0),\n",
       "           (0, 0), (0, 0), (0, 0), (0, 0), (0, 0), (0, 0), (0, 0), (0, 0),\n",
       "           (0, 0), (1, 0), (1, 0), (1, 0), (0, 0), (0, 0), (0, 0), (0, 0),\n",
       "           (1, 0), (0, 0), (0, 0), (0, 1), (0, 0), (0, 0), (0, 0), (0, 1),\n",
       "           (1, 0), (0, 0), (1, 0), (1, 0), (0, 1), (1, 0), (0, 0), (0, 0),\n",
       "           (0, 0), (0, 0), (0, 0), (1, 0), (0, 1), (0, 0), (0, 0), (0, 0),\n",
       "           (0, 0), (0, 0), (0, 1), (0, 0), (0, 0), (0, 0), (0, 0), (0, 0),\n",
       "           (1, 0), (0, 0), (0, 0), (0, 0), (0, 0), (0, 0), (0, 0), (0, 0),\n",
       "           (1, 0), (1, 0), (0, 0), (0, 0), (0, 0), (0, 0), (0, 0), (0, 0),\n",
       "           (0, 0), (0, 0), (0, 0), (0, 0), (0, 0), (1, 0), (0, 0), (0, 0),\n",
       "           (0, 0), (1, 0), (0, 0), (0, 0), (0, 1), (0, 0), (0, 0), (0, 0),\n",
       "           (0, 0), (0, 0), (0, 0), (0, 0), (0, 0), (1, 0), (0, 0)],\n",
       "          dtype=[('nlp_llm', '<i8'), ('short_text', '<i8')])"
      ]
     },
     "execution_count": 166,
     "metadata": {},
     "output_type": "execute_result"
    }
   ],
   "source": [
    "# Slices\n",
    "slicing_functions = [nlp_llm, short_text]\n",
    "applier = PandasSFApplier(slicing_functions)\n",
    "slices = applier.apply(test_df)\n",
    "slices"
   ]
  },
  {
   "cell_type": "markdown",
   "id": "0fac1bd3-a94b-4091-914b-2c77173d0b81",
   "metadata": {},
   "source": [
    "> Creating a scoring function for each defined slicing function and evaluate the model with required metrics"
   ]
  },
  {
   "cell_type": "code",
   "execution_count": 167,
   "id": "d4cf91de-8833-4376-aa0d-cf86a9154b05",
   "metadata": {
    "tags": []
   },
   "outputs": [],
   "source": [
    "# Score slices\n",
    "metrics[\"slices\"] = {}\n",
    "for slice_name in slices.dtype.names:\n",
    "    mask = slices[slice_name].astype(bool)\n",
    "    if sum(mask):  \n",
    "        slice_metrics = precision_recall_fscore_support(\n",
    "            y_test[mask], y_pred[mask], average=\"micro\"\n",
    "        )\n",
    "        metrics[\"slices\"][slice_name] = {}\n",
    "        metrics[\"slices\"][slice_name][\"precision\"] = slice_metrics[0]\n",
    "        metrics[\"slices\"][slice_name][\"recall\"] = slice_metrics[1]\n",
    "        metrics[\"slices\"][slice_name][\"f1\"] = slice_metrics[2]\n",
    "        metrics[\"slices\"][slice_name][\"num_samples\"] = len(y_test[mask])"
   ]
  },
  {
   "cell_type": "code",
   "execution_count": 172,
   "id": "825af972-b0bb-41df-b770-2c436bf371fb",
   "metadata": {
    "tags": []
   },
   "outputs": [
    {
     "name": "stdout",
     "output_type": "stream",
     "text": [
      "{\n",
      "  \"nlp_llm\": {\n",
      "    \"precision\": 0.9642857142857143,\n",
      "    \"recall\": 0.9642857142857143,\n",
      "    \"f1\": 0.9642857142857143,\n",
      "    \"num_samples\": 28\n",
      "  },\n",
      "  \"short_text\": {\n",
      "    \"precision\": 1.0,\n",
      "    \"recall\": 1.0,\n",
      "    \"f1\": 1.0,\n",
      "    \"num_samples\": 7\n",
      "  }\n",
      "}\n"
     ]
    }
   ],
   "source": [
    "print(json.dumps(metrics[\"slices\"], indent=2))"
   ]
  },
  {
   "cell_type": "markdown",
   "id": "f99cac75-7ef8-4d24-8392-34cea678b62e",
   "metadata": {},
   "source": [
    "## Intrepretability \n",
    "\n",
    "Besides just comparing predicted outputs with ground truth values, we can also inspect the inputs to our models. What aspects of the input are more influential towards the prediction? If the focus is not on the relevant features of our input, then we need to explore if there is a hidden pattern we're missing or if our model has learned to overfit on the incorrect features. We can use techniques such as SHAP (SHapley Additive exPlanations) or LIME (Local Interpretable Model-agnostic Explanations) to inspect feature importance. On a high level, these techniques learn which features have the most signal by assessing the performance in their absence. These inspections can be performed on a global level (ex. per-class) or on a local level (ex. single prediction)."
   ]
  },
  {
   "cell_type": "code",
   "execution_count": 176,
   "id": "5157b59c-512e-4e3c-b9d7-02722ebd8deb",
   "metadata": {
    "tags": []
   },
   "outputs": [],
   "source": [
    "from lime.lime_text import LimeTextExplainer"
   ]
  },
  {
   "cell_type": "markdown",
   "id": "ea0d7bbd-b630-4e6e-8288-3a3c4eaf01c7",
   "metadata": {},
   "source": [
    "`LimeTextExplainer.explain_instance` function requires a `classifier_f`n that takes in a list of strings and outputs the predicted probabilities."
   ]
  },
  {
   "cell_type": "code",
   "execution_count": 178,
   "id": "c357bd8b-cf28-4e15-a5ad-afa61722f5a3",
   "metadata": {
    "tags": []
   },
   "outputs": [],
   "source": [
    "def classifier_fn(texts):\n",
    "    ds = ray.data.from_items([{\"title\": text, \"description\": \"\", \"tag\":\"other\"} for text in texts]) # sample data with true label as other\n",
    "    preprocessed_ds = preprocessor.transform(ds)\n",
    "    outputs = preprocessed_ds.map_batches(predictor.predict_proba)\n",
    "    y_prob = np.array([d[\"output\"] for d in outputs.take_all()])\n",
    "    return y_prob"
   ]
  },
  {
   "cell_type": "code",
   "execution_count": 175,
   "id": "0fa55e99-8a57-42c9-a710-e8749e00cb78",
   "metadata": {
    "collapsed": true,
    "jupyter": {
     "outputs_hidden": true
    },
    "tags": []
   },
   "outputs": [
    {
     "name": "stderr",
     "output_type": "stream",
     "text": [
      "2024-01-04 17:17:10,420\tINFO streaming_executor.py:93 -- Executing DAG InputDataBuffer[Input] -> TaskPoolMapOperator[MapBatches(preprocess)->MapBatches(TorchPredictor.predict_proba)]\n",
      "2024-01-04 17:17:10,422\tINFO streaming_executor.py:94 -- Execution config: ExecutionOptions(resource_limits=ExecutionResources(cpu=None, gpu=None, object_store_memory=None), locality_with_output=False, preserve_order=True, actor_locality_enabled=True, verbose_progress=False)\n",
      "2024-01-04 17:17:10,423\tINFO streaming_executor.py:96 -- Tip: For detailed progress reporting, run `ray.data.DataContext.get_current().execution_options.verbose_progress = True`\n"
     ]
    },
    {
     "data": {
      "application/vnd.jupyter.widget-view+json": {
       "model_id": "",
       "version_major": 2,
       "version_minor": 0
      },
      "text/plain": [
       "Running 0:   0%|          | 0/200 [00:00<?, ?it/s]"
      ]
     },
     "metadata": {},
     "output_type": "display_data"
    },
    {
     "name": "stderr",
     "output_type": "stream",
     "text": [
      "2024-01-04 17:22:09,095\tWARNING worker.py:2058 -- A worker died or was killed while executing a task by an unexpected system error. To troubleshoot the problem, check the logs for the dead worker. RayTask ID: 90e9563ea4a417cc1a30ab5cf07378f637f5152801000000 Worker ID: 867962d39871cb615bd5439c187385fd3efeda5485c32a5db376cb18 Node ID: 6a121c96dd618fd9ab866337d947623a84dedc5d7576c2e38ee78d86 Worker IP address: 127.0.0.1 Worker port: 56947 Worker PID: 7288 Worker exit type: SYSTEM_ERROR Worker exit detail: The leased worker has unrecoverable failure. Worker is requested to be destroyed when it is returned.\n",
      "\u001b[2m\u001b[36m(AutoscalingRequester pid=26336)\u001b[0m [*** LOG ERROR #0001 ***] [2024-01-04 17:31:35] [ray_log_sink] {wincolor_sink: write_to_file_ failed. GetLastError(): 6}\n"
     ]
    },
    {
     "ename": "KeyboardInterrupt",
     "evalue": "",
     "output_type": "error",
     "traceback": [
      "\u001b[1;31m---------------------------------------------------------------------------\u001b[0m",
      "\u001b[1;31mKeyboardInterrupt\u001b[0m                         Traceback (most recent call last)",
      "Cell \u001b[1;32mIn[175], line 5\u001b[0m\n\u001b[0;32m      3\u001b[0m text \u001b[38;5;241m=\u001b[39m \u001b[38;5;124m\"\u001b[39m\u001b[38;5;124mUsing pretrained convolutional neural networks for object detection.\u001b[39m\u001b[38;5;124m\"\u001b[39m\n\u001b[0;32m      4\u001b[0m explainer \u001b[38;5;241m=\u001b[39m LimeTextExplainer(class_names\u001b[38;5;241m=\u001b[39m\u001b[38;5;28mlist\u001b[39m(class_to_index\u001b[38;5;241m.\u001b[39mkeys()))\n\u001b[1;32m----> 5\u001b[0m \u001b[43mexplainer\u001b[49m\u001b[38;5;241;43m.\u001b[39;49m\u001b[43mexplain_instance\u001b[49m\u001b[43m(\u001b[49m\u001b[43mtext\u001b[49m\u001b[43m,\u001b[49m\u001b[43m \u001b[49m\u001b[43mclassifier_fn\u001b[49m\u001b[38;5;241;43m=\u001b[39;49m\u001b[43mclassifier_fx\u001b[49m\u001b[43m,\u001b[49m\u001b[43m \u001b[49m\u001b[43mtop_labels\u001b[49m\u001b[38;5;241;43m=\u001b[39;49m\u001b[38;5;241;43m1\u001b[39;49m\u001b[43m)\u001b[49m\u001b[38;5;241m.\u001b[39mshow_in_notebook(text\u001b[38;5;241m=\u001b[39m\u001b[38;5;28;01mTrue\u001b[39;00m)\n",
      "File \u001b[1;32mE:\\Machine_Learning_Projects\\madewithml\\venv\\lib\\site-packages\\lime\\lime_text.py:413\u001b[0m, in \u001b[0;36mLimeTextExplainer.explain_instance\u001b[1;34m(self, text_instance, classifier_fn, labels, top_labels, num_features, num_samples, distance_metric, model_regressor)\u001b[0m\n\u001b[0;32m    406\u001b[0m indexed_string \u001b[38;5;241m=\u001b[39m (IndexedCharacters(\n\u001b[0;32m    407\u001b[0m     text_instance, bow\u001b[38;5;241m=\u001b[39m\u001b[38;5;28mself\u001b[39m\u001b[38;5;241m.\u001b[39mbow, mask_string\u001b[38;5;241m=\u001b[39m\u001b[38;5;28mself\u001b[39m\u001b[38;5;241m.\u001b[39mmask_string)\n\u001b[0;32m    408\u001b[0m                   \u001b[38;5;28;01mif\u001b[39;00m \u001b[38;5;28mself\u001b[39m\u001b[38;5;241m.\u001b[39mchar_level \u001b[38;5;28;01melse\u001b[39;00m\n\u001b[0;32m    409\u001b[0m                   IndexedString(text_instance, bow\u001b[38;5;241m=\u001b[39m\u001b[38;5;28mself\u001b[39m\u001b[38;5;241m.\u001b[39mbow,\n\u001b[0;32m    410\u001b[0m                                 split_expression\u001b[38;5;241m=\u001b[39m\u001b[38;5;28mself\u001b[39m\u001b[38;5;241m.\u001b[39msplit_expression,\n\u001b[0;32m    411\u001b[0m                                 mask_string\u001b[38;5;241m=\u001b[39m\u001b[38;5;28mself\u001b[39m\u001b[38;5;241m.\u001b[39mmask_string))\n\u001b[0;32m    412\u001b[0m domain_mapper \u001b[38;5;241m=\u001b[39m TextDomainMapper(indexed_string)\n\u001b[1;32m--> 413\u001b[0m data, yss, distances \u001b[38;5;241m=\u001b[39m \u001b[38;5;28;43mself\u001b[39;49m\u001b[38;5;241;43m.\u001b[39;49m\u001b[43m__data_labels_distances\u001b[49m\u001b[43m(\u001b[49m\n\u001b[0;32m    414\u001b[0m \u001b[43m    \u001b[49m\u001b[43mindexed_string\u001b[49m\u001b[43m,\u001b[49m\u001b[43m \u001b[49m\u001b[43mclassifier_fn\u001b[49m\u001b[43m,\u001b[49m\u001b[43m \u001b[49m\u001b[43mnum_samples\u001b[49m\u001b[43m,\u001b[49m\n\u001b[0;32m    415\u001b[0m \u001b[43m    \u001b[49m\u001b[43mdistance_metric\u001b[49m\u001b[38;5;241;43m=\u001b[39;49m\u001b[43mdistance_metric\u001b[49m\u001b[43m)\u001b[49m\n\u001b[0;32m    416\u001b[0m \u001b[38;5;28;01mif\u001b[39;00m \u001b[38;5;28mself\u001b[39m\u001b[38;5;241m.\u001b[39mclass_names \u001b[38;5;129;01mis\u001b[39;00m \u001b[38;5;28;01mNone\u001b[39;00m:\n\u001b[0;32m    417\u001b[0m     \u001b[38;5;28mself\u001b[39m\u001b[38;5;241m.\u001b[39mclass_names \u001b[38;5;241m=\u001b[39m [\u001b[38;5;28mstr\u001b[39m(x) \u001b[38;5;28;01mfor\u001b[39;00m x \u001b[38;5;129;01min\u001b[39;00m \u001b[38;5;28mrange\u001b[39m(yss[\u001b[38;5;241m0\u001b[39m]\u001b[38;5;241m.\u001b[39mshape[\u001b[38;5;241m0\u001b[39m])]\n",
      "File \u001b[1;32mE:\\Machine_Learning_Projects\\madewithml\\venv\\lib\\site-packages\\lime\\lime_text.py:482\u001b[0m, in \u001b[0;36mLimeTextExplainer.__data_labels_distances\u001b[1;34m(self, indexed_string, classifier_fn, num_samples, distance_metric)\u001b[0m\n\u001b[0;32m    480\u001b[0m     data[i, inactive] \u001b[38;5;241m=\u001b[39m \u001b[38;5;241m0\u001b[39m\n\u001b[0;32m    481\u001b[0m     inverse_data\u001b[38;5;241m.\u001b[39mappend(indexed_string\u001b[38;5;241m.\u001b[39minverse_removing(inactive))\n\u001b[1;32m--> 482\u001b[0m labels \u001b[38;5;241m=\u001b[39m \u001b[43mclassifier_fn\u001b[49m\u001b[43m(\u001b[49m\u001b[43minverse_data\u001b[49m\u001b[43m)\u001b[49m\n\u001b[0;32m    483\u001b[0m distances \u001b[38;5;241m=\u001b[39m distance_fn(sp\u001b[38;5;241m.\u001b[39msparse\u001b[38;5;241m.\u001b[39mcsr_matrix(data))\n\u001b[0;32m    484\u001b[0m \u001b[38;5;28;01mreturn\u001b[39;00m data, labels, distances\n",
      "Cell \u001b[1;32mIn[174], line 5\u001b[0m, in \u001b[0;36mclassifier_fx\u001b[1;34m(texts)\u001b[0m\n\u001b[0;32m      3\u001b[0m preprocessed_ds \u001b[38;5;241m=\u001b[39m preprocessor\u001b[38;5;241m.\u001b[39mtransform(ds)\n\u001b[0;32m      4\u001b[0m outputs \u001b[38;5;241m=\u001b[39m preprocessed_ds\u001b[38;5;241m.\u001b[39mmap_batches(predictor\u001b[38;5;241m.\u001b[39mpredict_proba)\n\u001b[1;32m----> 5\u001b[0m y_prob \u001b[38;5;241m=\u001b[39m np\u001b[38;5;241m.\u001b[39marray([d[\u001b[38;5;124m\"\u001b[39m\u001b[38;5;124moutput\u001b[39m\u001b[38;5;124m\"\u001b[39m] \u001b[38;5;28;01mfor\u001b[39;00m d \u001b[38;5;129;01min\u001b[39;00m \u001b[43moutputs\u001b[49m\u001b[38;5;241;43m.\u001b[39;49m\u001b[43mtake_all\u001b[49m\u001b[43m(\u001b[49m\u001b[43m)\u001b[49m])\n\u001b[0;32m      6\u001b[0m \u001b[38;5;28;01mreturn\u001b[39;00m y_prob\n",
      "File \u001b[1;32mE:\\Machine_Learning_Projects\\madewithml\\venv\\lib\\site-packages\\ray\\data\\dataset.py:2429\u001b[0m, in \u001b[0;36mDataset.take_all\u001b[1;34m(self, limit)\u001b[0m\n\u001b[0;32m   2399\u001b[0m \u001b[38;5;250m\u001b[39m\u001b[38;5;124;03m\"\"\"Return all of the rows in this :class:`Dataset`.\u001b[39;00m\n\u001b[0;32m   2400\u001b[0m \n\u001b[0;32m   2401\u001b[0m \u001b[38;5;124;03mThis method is useful for inspecting small datasets.\u001b[39;00m\n\u001b[1;32m   (...)\u001b[0m\n\u001b[0;32m   2426\u001b[0m \u001b[38;5;124;03m        Call this method to return a specific number of rows.\u001b[39;00m\n\u001b[0;32m   2427\u001b[0m \u001b[38;5;124;03m\"\"\"\u001b[39;00m\n\u001b[0;32m   2428\u001b[0m output \u001b[38;5;241m=\u001b[39m []\n\u001b[1;32m-> 2429\u001b[0m \u001b[38;5;28;01mfor\u001b[39;00m row \u001b[38;5;129;01min\u001b[39;00m \u001b[38;5;28mself\u001b[39m\u001b[38;5;241m.\u001b[39miter_rows():\n\u001b[0;32m   2430\u001b[0m     output\u001b[38;5;241m.\u001b[39mappend(row)\n\u001b[0;32m   2431\u001b[0m     \u001b[38;5;28;01mif\u001b[39;00m limit \u001b[38;5;129;01mis\u001b[39;00m \u001b[38;5;129;01mnot\u001b[39;00m \u001b[38;5;28;01mNone\u001b[39;00m \u001b[38;5;129;01mand\u001b[39;00m \u001b[38;5;28mlen\u001b[39m(output) \u001b[38;5;241m>\u001b[39m limit:\n",
      "File \u001b[1;32mE:\\Machine_Learning_Projects\\madewithml\\venv\\lib\\site-packages\\ray\\data\\iterator.py:271\u001b[0m, in \u001b[0;36mDataIterator.iter_rows.<locals>._wrapped_iterator\u001b[1;34m()\u001b[0m\n\u001b[0;32m    270\u001b[0m \u001b[38;5;28;01mdef\u001b[39;00m \u001b[38;5;21m_wrapped_iterator\u001b[39m():\n\u001b[1;32m--> 271\u001b[0m     \u001b[38;5;28;01mfor\u001b[39;00m batch \u001b[38;5;129;01min\u001b[39;00m batch_iterable:\n\u001b[0;32m    272\u001b[0m         batch \u001b[38;5;241m=\u001b[39m BlockAccessor\u001b[38;5;241m.\u001b[39mfor_block(BlockAccessor\u001b[38;5;241m.\u001b[39mbatch_to_block(batch))\n\u001b[0;32m    273\u001b[0m         \u001b[38;5;28;01mfor\u001b[39;00m row \u001b[38;5;129;01min\u001b[39;00m batch\u001b[38;5;241m.\u001b[39miter_rows(public_row_format\u001b[38;5;241m=\u001b[39m\u001b[38;5;28;01mTrue\u001b[39;00m):\n",
      "File \u001b[1;32mE:\\Machine_Learning_Projects\\madewithml\\venv\\lib\\site-packages\\ray\\data\\iterator.py:229\u001b[0m, in \u001b[0;36mDataIterator.iter_batches.<locals>._create_iterator\u001b[1;34m()\u001b[0m\n\u001b[0;32m    212\u001b[0m \u001b[38;5;28;01melse\u001b[39;00m:\n\u001b[0;32m    213\u001b[0m     iterator \u001b[38;5;241m=\u001b[39m \u001b[38;5;28miter\u001b[39m(\n\u001b[0;32m    214\u001b[0m         iter_batches(\n\u001b[0;32m    215\u001b[0m             block_iterator,\n\u001b[1;32m   (...)\u001b[0m\n\u001b[0;32m    226\u001b[0m         )\n\u001b[0;32m    227\u001b[0m     )\n\u001b[1;32m--> 229\u001b[0m \u001b[38;5;28;01mfor\u001b[39;00m batch \u001b[38;5;129;01min\u001b[39;00m iterator:\n\u001b[0;32m    230\u001b[0m     \u001b[38;5;28;01myield\u001b[39;00m batch\n\u001b[0;32m    232\u001b[0m \u001b[38;5;28;01mif\u001b[39;00m stats:\n",
      "File \u001b[1;32mE:\\Machine_Learning_Projects\\madewithml\\venv\\lib\\site-packages\\ray\\data\\_internal\\block_batching\\iter_batches.py:176\u001b[0m, in \u001b[0;36miter_batches\u001b[1;34m(block_refs, stats, clear_block_after_read, batch_size, batch_format, drop_last, collate_fn, finalize_fn, shuffle_buffer_min_size, shuffle_seed, ensure_copy, prefetch_batches)\u001b[0m\n\u001b[0;32m    174\u001b[0m \u001b[38;5;28;01mwith\u001b[39;00m stats\u001b[38;5;241m.\u001b[39miter_total_blocked_s\u001b[38;5;241m.\u001b[39mtimer() \u001b[38;5;28;01mif\u001b[39;00m stats \u001b[38;5;28;01melse\u001b[39;00m nullcontext():\n\u001b[0;32m    175\u001b[0m     \u001b[38;5;28;01mtry\u001b[39;00m:\n\u001b[1;32m--> 176\u001b[0m         next_batch \u001b[38;5;241m=\u001b[39m \u001b[38;5;28;43mnext\u001b[39;49m\u001b[43m(\u001b[49m\u001b[43masync_batch_iter\u001b[49m\u001b[43m)\u001b[49m\n\u001b[0;32m    177\u001b[0m     \u001b[38;5;28;01mexcept\u001b[39;00m \u001b[38;5;167;01mStopIteration\u001b[39;00m:\n\u001b[0;32m    178\u001b[0m         \u001b[38;5;28;01mbreak\u001b[39;00m\n",
      "File \u001b[1;32mE:\\Machine_Learning_Projects\\madewithml\\venv\\lib\\site-packages\\ray\\data\\_internal\\util.py:767\u001b[0m, in \u001b[0;36mmake_async_gen\u001b[1;34m(base_iterator, fn, num_workers)\u001b[0m\n\u001b[0;32m    765\u001b[0m \u001b[38;5;28;01mtry\u001b[39;00m:\n\u001b[0;32m    766\u001b[0m     \u001b[38;5;28;01mwhile\u001b[39;00m \u001b[38;5;28;01mTrue\u001b[39;00m:\n\u001b[1;32m--> 767\u001b[0m         next_item \u001b[38;5;241m=\u001b[39m \u001b[43moutput_queue\u001b[49m\u001b[38;5;241;43m.\u001b[39;49m\u001b[43mget\u001b[49m\u001b[43m(\u001b[49m\u001b[43m)\u001b[49m\n\u001b[0;32m    768\u001b[0m         \u001b[38;5;28;01mif\u001b[39;00m \u001b[38;5;28misinstance\u001b[39m(next_item, \u001b[38;5;167;01mException\u001b[39;00m):\n\u001b[0;32m    769\u001b[0m             \u001b[38;5;28;01mraise\u001b[39;00m next_item\n",
      "File \u001b[1;32mE:\\Machine_Learning_Projects\\madewithml\\venv\\lib\\site-packages\\ray\\data\\_internal\\util.py:669\u001b[0m, in \u001b[0;36mQueue.get\u001b[1;34m(self)\u001b[0m\n\u001b[0;32m    663\u001b[0m \u001b[38;5;28;01mdef\u001b[39;00m \u001b[38;5;21mget\u001b[39m(\u001b[38;5;28mself\u001b[39m) \u001b[38;5;241m-\u001b[39m\u001b[38;5;241m>\u001b[39m Any:\n\u001b[0;32m    664\u001b[0m \u001b[38;5;250m    \u001b[39m\u001b[38;5;124;03m\"\"\"Remove and return an item from the queue.\u001b[39;00m\n\u001b[0;32m    665\u001b[0m \n\u001b[0;32m    666\u001b[0m \u001b[38;5;124;03m    Block if necessary until an item is available in queue.\u001b[39;00m\n\u001b[0;32m    667\u001b[0m \u001b[38;5;124;03m    This method is called by consumer threads.\u001b[39;00m\n\u001b[0;32m    668\u001b[0m \u001b[38;5;124;03m    \"\"\"\u001b[39;00m\n\u001b[1;32m--> 669\u001b[0m     \u001b[38;5;28;43mself\u001b[39;49m\u001b[38;5;241;43m.\u001b[39;49m\u001b[43m_consumer_semaphore\u001b[49m\u001b[38;5;241;43m.\u001b[39;49m\u001b[43macquire\u001b[49m\u001b[43m(\u001b[49m\u001b[43m)\u001b[49m\n\u001b[0;32m    670\u001b[0m     \u001b[38;5;28;01mwith\u001b[39;00m \u001b[38;5;28mself\u001b[39m\u001b[38;5;241m.\u001b[39m_mutex:\n\u001b[0;32m    671\u001b[0m         next_item \u001b[38;5;241m=\u001b[39m \u001b[38;5;28mself\u001b[39m\u001b[38;5;241m.\u001b[39m_queue\u001b[38;5;241m.\u001b[39mpopleft()\n",
      "File \u001b[1;32m~\\.pyenv\\pyenv-win\\versions\\3.10.11\\lib\\threading.py:467\u001b[0m, in \u001b[0;36mSemaphore.acquire\u001b[1;34m(self, blocking, timeout)\u001b[0m\n\u001b[0;32m    465\u001b[0m             \u001b[38;5;28;01mif\u001b[39;00m timeout \u001b[38;5;241m<\u001b[39m\u001b[38;5;241m=\u001b[39m \u001b[38;5;241m0\u001b[39m:\n\u001b[0;32m    466\u001b[0m                 \u001b[38;5;28;01mbreak\u001b[39;00m\n\u001b[1;32m--> 467\u001b[0m     \u001b[38;5;28;43mself\u001b[39;49m\u001b[38;5;241;43m.\u001b[39;49m\u001b[43m_cond\u001b[49m\u001b[38;5;241;43m.\u001b[39;49m\u001b[43mwait\u001b[49m\u001b[43m(\u001b[49m\u001b[43mtimeout\u001b[49m\u001b[43m)\u001b[49m\n\u001b[0;32m    468\u001b[0m \u001b[38;5;28;01melse\u001b[39;00m:\n\u001b[0;32m    469\u001b[0m     \u001b[38;5;28mself\u001b[39m\u001b[38;5;241m.\u001b[39m_value \u001b[38;5;241m-\u001b[39m\u001b[38;5;241m=\u001b[39m \u001b[38;5;241m1\u001b[39m\n",
      "File \u001b[1;32m~\\.pyenv\\pyenv-win\\versions\\3.10.11\\lib\\threading.py:320\u001b[0m, in \u001b[0;36mCondition.wait\u001b[1;34m(self, timeout)\u001b[0m\n\u001b[0;32m    318\u001b[0m \u001b[38;5;28;01mtry\u001b[39;00m:    \u001b[38;5;66;03m# restore state no matter what (e.g., KeyboardInterrupt)\u001b[39;00m\n\u001b[0;32m    319\u001b[0m     \u001b[38;5;28;01mif\u001b[39;00m timeout \u001b[38;5;129;01mis\u001b[39;00m \u001b[38;5;28;01mNone\u001b[39;00m:\n\u001b[1;32m--> 320\u001b[0m         \u001b[43mwaiter\u001b[49m\u001b[38;5;241;43m.\u001b[39;49m\u001b[43macquire\u001b[49m\u001b[43m(\u001b[49m\u001b[43m)\u001b[49m\n\u001b[0;32m    321\u001b[0m         gotit \u001b[38;5;241m=\u001b[39m \u001b[38;5;28;01mTrue\u001b[39;00m\n\u001b[0;32m    322\u001b[0m     \u001b[38;5;28;01melse\u001b[39;00m:\n",
      "\u001b[1;31mKeyboardInterrupt\u001b[0m: "
     ]
    },
    {
     "name": "stderr",
     "output_type": "stream",
     "text": [
      "\u001b[2m\u001b[36m(_get_num_rows pid=7288)\u001b[0m [*** LOG ERROR #0001 ***] [2024-01-04 17:31:37] [ray_log_sink] {wincolor_sink: write_to_file_ failed. GetLastError(): 6}\n",
      "\u001b[2m\u001b[36m(_get_num_rows pid=7288)\u001b[0m Stack (most recent call first):\n",
      "\u001b[2m\u001b[36m(_get_num_rows pid=7288)\u001b[0m   File \"E:\\Machine_Learning_Projects\\madewithml\\venv\\lib\\site-packages\\ray\\_private\\worker.py\", line 782 in main_loop\n",
      "\u001b[2m\u001b[36m(_get_num_rows pid=7288)\u001b[0m   File \"E:\\Machine_Learning_Projects\\madewithml\\venv\\lib\\site-packages\\ray\\_private\\workers\\default_worker.py\", line 278 in <module>\n"
     ]
    }
   ],
   "source": [
    "# explaning the prediction of below sample data\n",
    "\n",
    "text = \"Using pretrained convolutional neural networks for object detection.\"\n",
    "explainer = LimeTextExplainer(class_names=list(class_to_index.keys()))\n",
    "explainer.explain_instance(text, classifier_fn=classifier_fx, top_labels=1).show_in_notebook(text=True)"
   ]
  },
  {
   "cell_type": "markdown",
   "id": "5cc2278e-4291-4d2e-acf6-78af0681b8c8",
   "metadata": {},
   "source": [
    "## Behavourial testing \n",
    "\n",
    "Besides just looking at metrics, we also want to conduct some behavioral sanity tests. Behavioral testing is the process of testing input data and expected outputs while treating the model as a black box. They don't necessarily have to be adversarial in nature but more along the types of perturbations we'll see in the real world once our model is deployed.\n",
    "\n",
    "There is a landmark paper on these where they have classified this testing into three types. We will separately add test scripts to test our model later"
   ]
  },
  {
   "cell_type": "code",
   "execution_count": 179,
   "id": "ab2ea8f7-68f4-42e5-a68e-b2b3edf81219",
   "metadata": {
    "tags": []
   },
   "outputs": [
    {
     "name": "stderr",
     "output_type": "stream",
     "text": [
      "2024-01-04 18:55:45,582\tINFO streaming_executor.py:93 -- Executing DAG InputDataBuffer[Input] -> TaskPoolMapOperator[MapBatches(preprocess)->MapBatches(TorchPredictor.predict_proba)]\n",
      "2024-01-04 18:55:45,583\tINFO streaming_executor.py:94 -- Execution config: ExecutionOptions(resource_limits=ExecutionResources(cpu=None, gpu=None, object_store_memory=None), locality_with_output=False, preserve_order=True, actor_locality_enabled=True, verbose_progress=False)\n",
      "2024-01-04 18:55:45,584\tINFO streaming_executor.py:96 -- Tip: For detailed progress reporting, run `ray.data.DataContext.get_current().execution_options.verbose_progress = True`\n"
     ]
    },
    {
     "data": {
      "application/vnd.jupyter.widget-view+json": {
       "model_id": "",
       "version_major": 2,
       "version_minor": 0
      },
      "text/plain": [
       "Running 0:   0%|          | 0/2 [00:00<?, ?it/s]"
      ]
     },
     "metadata": {},
     "output_type": "display_data"
    },
    {
     "data": {
      "text/plain": [
       "['natural-language-processing', 'natural-language-processing']"
      ]
     },
     "execution_count": 179,
     "metadata": {},
     "output_type": "execute_result"
    }
   ],
   "source": [
    "# 1) Invariance - Changes should not affect outputs. \n",
    "\n",
    "tokens = [\"revolutionized\", \"disrupted\"]\n",
    "texts = [f\"Transformers applied to NLP have {token} the ML field.\" for token in tokens]\n",
    "[preprocessor.index_to_class[y_prob.argmax()] for y_prob in classifier_fn(texts=texts)]"
   ]
  },
  {
   "cell_type": "code",
   "execution_count": 180,
   "id": "47dc6cf3-367c-4407-baf3-5738e11f7d59",
   "metadata": {
    "tags": []
   },
   "outputs": [
    {
     "name": "stderr",
     "output_type": "stream",
     "text": [
      "2024-01-04 18:57:12,142\tINFO streaming_executor.py:93 -- Executing DAG InputDataBuffer[Input] -> TaskPoolMapOperator[MapBatches(preprocess)->MapBatches(TorchPredictor.predict_proba)]\n",
      "2024-01-04 18:57:12,145\tINFO streaming_executor.py:94 -- Execution config: ExecutionOptions(resource_limits=ExecutionResources(cpu=None, gpu=None, object_store_memory=None), locality_with_output=False, preserve_order=True, actor_locality_enabled=True, verbose_progress=False)\n",
      "2024-01-04 18:57:12,146\tINFO streaming_executor.py:96 -- Tip: For detailed progress reporting, run `ray.data.DataContext.get_current().execution_options.verbose_progress = True`\n"
     ]
    },
    {
     "data": {
      "application/vnd.jupyter.widget-view+json": {
       "model_id": "",
       "version_major": 2,
       "version_minor": 0
      },
      "text/plain": [
       "Running 0:   0%|          | 0/2 [00:00<?, ?it/s]"
      ]
     },
     "metadata": {},
     "output_type": "display_data"
    },
    {
     "data": {
      "text/plain": [
       "['natural-language-processing', 'computer-vision']"
      ]
     },
     "execution_count": 180,
     "metadata": {},
     "output_type": "execute_result"
    }
   ],
   "source": [
    "# 2) directional: Change should affect outputs. (changes with known outputs) \n",
    "\n",
    "tokens = [\"text classification\", \"image classification\"]\n",
    "texts = [f\"ML applied to {token}.\" for token in tokens]\n",
    "[preprocessor.index_to_class[y_prob.argmax()] for y_prob in classifier_fn(texts=texts)]"
   ]
  },
  {
   "cell_type": "code",
   "execution_count": 181,
   "id": "3e30d350-63e4-47d7-9853-a2391201dfb2",
   "metadata": {
    "tags": []
   },
   "outputs": [
    {
     "name": "stderr",
     "output_type": "stream",
     "text": [
      "2024-01-04 18:57:35,860\tINFO streaming_executor.py:93 -- Executing DAG InputDataBuffer[Input] -> TaskPoolMapOperator[MapBatches(preprocess)->MapBatches(TorchPredictor.predict_proba)]\n",
      "2024-01-04 18:57:35,861\tINFO streaming_executor.py:94 -- Execution config: ExecutionOptions(resource_limits=ExecutionResources(cpu=None, gpu=None, object_store_memory=None), locality_with_output=False, preserve_order=True, actor_locality_enabled=True, verbose_progress=False)\n",
      "2024-01-04 18:57:35,862\tINFO streaming_executor.py:96 -- Tip: For detailed progress reporting, run `ray.data.DataContext.get_current().execution_options.verbose_progress = True`\n"
     ]
    },
    {
     "data": {
      "application/vnd.jupyter.widget-view+json": {
       "model_id": "",
       "version_major": 2,
       "version_minor": 0
      },
      "text/plain": [
       "Running 0:   0%|          | 0/2 [00:00<?, ?it/s]"
      ]
     },
     "metadata": {},
     "output_type": "display_data"
    },
    {
     "data": {
      "text/plain": [
       "['natural-language-processing', 'mlops']"
      ]
     },
     "execution_count": 181,
     "metadata": {},
     "output_type": "execute_result"
    }
   ],
   "source": [
    "# 3) minimum functionality: Simple combination of inputs and expected outputs.\n",
    "\n",
    "tokens = [\"natural language processing\", \"mlops\"]\n",
    "texts = [f\"{token} is the next big wave in machine learning.\" for token in tokens]\n",
    "[preprocessor.index_to_class[y_prob.argmax()] for y_prob in classifier_fn(texts=texts)] "
   ]
  },
  {
   "cell_type": "markdown",
   "id": "0f231f38-cb66-4c23-9eed-9c4b716890d6",
   "metadata": {},
   "source": [
    "All the above evaluation can be treated as offline evaluation on a static dataset. But for a more reliable system before it goes into production, `Online Evaluation` is also a way forward to do.\n",
    "\n",
    "Once we've evaluated our model's ability to perform on a static dataset we can run several types of online evaluation techniques to determine performance on actual production data. It can be performed using labels or, in the event we don't readily have labels, proxy signals.\n",
    "\n",
    "* manually label a subset of incoming data to evaluate periodically.\n",
    "* asking the initial set of users viewing a newly categorized content if it's correctly classified.\n",
    "* allow users to report misclassified content by our model.\n",
    "\n",
    "A/B testing, Shadow test and canary test are one of the examples in Online Evaluation"
   ]
  },
  {
   "cell_type": "markdown",
   "id": "cf620a58-6114-4b35-aae0-33b4bc142ce0",
   "metadata": {},
   "source": [
    "## Model Serving \n",
    "\n",
    "In this lesson, we're going to serve the machine learning models that we have developed so that we can use them to make predictions on unseen data. And we want to be able to serve our models in a scalable and robust manner so it can deliver high throughput (handle many requests) and low latency (quickly respond to each request). In an effort to be comprehensive, we will implement both batch inference (offline) and online inference (real-time), though we will focus on the latter in the remaining lessons as it's more appropriate for our application."
   ]
  },
  {
   "cell_type": "markdown",
   "id": "de7905ac-e937-4752-96e1-9125956d0643",
   "metadata": {},
   "source": [
    "There are many frameworks to choose from when it comes to model serving, such as `Ray Serve, Nvidia Triton, HuggingFace, Bento ML`, etc. When choosing between these frameworks, we want to choose the option that will allow us to:\n",
    "\n",
    "* Pythonic: we don't want to learn a new framework to be able to serve our models.\n",
    "framework agnostic: we want to be able to serve models from all frameworks (PyTorch, TensorFlow, etc.)\n",
    "* scale: (auto)scaling our service should be as easy as changing a configuration.\n",
    "* composition: combine multiple models and business logic into our service.\n",
    "* integrations: integrate with popular API frameworks like FastAPI.\n",
    "\n",
    "To address all of these requirements (and more), we will be using `Ray Serve` to create our service. While we'll be specifically using it's integration with `FastAPI`, there are many other integrations you might want to explore based on your stack (LangChain, Kubernetes, etc.)."
   ]
  },
  {
   "cell_type": "markdown",
   "id": "f55b7bfe-91c7-4c5b-9056-ed700789f3b0",
   "metadata": {},
   "source": [
    "#### Batch Inference \n",
    "\n",
    "We will first implement batch inference (or offline inference), which is when we make predictions on a large batch of data. This is useful when we don't need to serve a model's prediction on input data as soon as the input data is received. For example, our service can be used to make predictions once at the end of every day on the batches of content collected throughout the day. This can be more efficient than making predictions on each content individually if we don't need that kind of low latency.\n",
    "\n",
    "Let's take a look at our how we can easily implement batch inference with Ray Serve. We'll start with some setup and load the best checkpoint from our training run."
   ]
  },
  {
   "cell_type": "code",
   "execution_count": 134,
   "id": "7a963522-f129-4cbf-8fa4-fa771eba5821",
   "metadata": {
    "tags": []
   },
   "outputs": [],
   "source": [
    "import ray.data \n",
    "from ray.data import ActorPoolStrategy # setting a compute strategy for dataset transform"
   ]
  },
  {
   "cell_type": "code",
   "execution_count": 137,
   "id": "d966d569-1af6-48d8-87ca-42e4c868efe4",
   "metadata": {
    "tags": []
   },
   "outputs": [
    {
     "name": "stderr",
     "output_type": "stream",
     "text": [
      "Some weights of the model checkpoint at allenai/scibert_scivocab_uncased were not used when initializing BertModel: ['cls.predictions.bias', 'cls.predictions.transform.LayerNorm.bias', 'cls.predictions.decoder.weight', 'cls.predictions.transform.dense.weight', 'cls.seq_relationship.bias', 'cls.seq_relationship.weight', 'cls.predictions.transform.LayerNorm.weight', 'cls.predictions.transform.dense.bias', 'cls.predictions.decoder.bias']\n",
      "- This IS expected if you are initializing BertModel from the checkpoint of a model trained on another task or with another architecture (e.g. initializing a BertForSequenceClassification model from a BertForPreTraining model).\n",
      "- This IS NOT expected if you are initializing BertModel from the checkpoint of a model that you expect to be exactly identical (initializing a BertForSequenceClassification model from a BertForSequenceClassification model).\n"
     ]
    }
   ],
   "source": [
    "# Loading best predictor \n",
    "\n",
    "run_id = sorted_runs.iloc[0].run_id\n",
    "best_checkpoint = get_best_checkpoint(run_id=run_id)\n",
    "predictor = TorchPredictor.from_checkpoint(best_checkpoint)\n",
    "preprocessor = predictor.get_preprocessor()"
   ]
  },
  {
   "cell_type": "code",
   "execution_count": 138,
   "id": "eacd7745-a41a-4a8d-9b44-d33b56d1f433",
   "metadata": {
    "tags": []
   },
   "outputs": [
    {
     "name": "stderr",
     "output_type": "stream",
     "text": [
      "2024-01-05 10:11:44,363\tINFO streaming_executor.py:93 -- Executing DAG InputDataBuffer[Input] -> TaskPoolMapOperator[ReadCSV->SplitBlocks(32)] -> ActorPoolMapOperator[MapBatches(preprocess)->MapBatches(TorchPredictor)]\n",
      "2024-01-05 10:11:44,365\tINFO streaming_executor.py:94 -- Execution config: ExecutionOptions(resource_limits=ExecutionResources(cpu=None, gpu=None, object_store_memory=None), locality_with_output=False, preserve_order=True, actor_locality_enabled=True, verbose_progress=False)\n",
      "2024-01-05 10:11:44,365\tINFO streaming_executor.py:96 -- Tip: For detailed progress reporting, run `ray.data.DataContext.get_current().execution_options.verbose_progress = True`\n",
      "2024-01-05 10:11:47,483\tINFO actor_pool_map_operator.py:106 -- MapBatches(preprocess)->MapBatches(TorchPredictor): Waiting for 1 pool actors to start...\n"
     ]
    },
    {
     "data": {
      "application/vnd.jupyter.widget-view+json": {
       "model_id": "",
       "version_major": 2,
       "version_minor": 0
      },
      "text/plain": [
       "Running 0:   0%|          | 0/1024 [00:00<?, ?it/s]"
      ]
     },
     "metadata": {},
     "output_type": "display_data"
    },
    {
     "name": "stderr",
     "output_type": "stream",
     "text": [
      "\u001b[2m\u001b[36m(MapWorker(MapBatches(preprocess)->MapBatches(TorchPredictor)) pid=26200)\u001b[0m C:\\Users\\Lenovo\\AppData\\Local\\Temp\\ipykernel_2252\\1097317791.py:9: UserWarning: The given NumPy array is not writable, and PyTorch does not support non-writable tensors. This means writing to this tensor will result in undefined behavior. You may want to copy the array to protect its data or make it writable before converting it to a tensor. This type of warning will be suppressed for the rest of this program. (Triggered internally at ..\\torch\\csrc\\utils\\tensor_numpy.cpp:212.)\n"
     ]
    },
    {
     "data": {
      "text/plain": [
       "array([3, 3, 3, 0, 2, 0, 0, 0, 0, 2, 0, 0, 2, 3, 0, 0, 2, 2, 3, 2, 3, 0,\n",
       "       3, 2, 0, 2, 2, 1, 1, 2, 2, 2, 2, 2, 2, 0, 0, 0, 0, 0, 0, 2, 2, 0,\n",
       "       2, 3, 1, 2, 0, 2, 2, 3, 3, 0, 2, 2, 2, 3, 3, 3, 3, 2, 0, 0, 0, 2,\n",
       "       2, 0, 2, 1, 0, 2, 3, 2, 0, 2, 0, 2, 2, 2, 0, 0, 2, 0, 1, 0, 0, 0,\n",
       "       0, 3, 0, 0, 2, 0, 2, 2, 3, 2, 0, 2, 0, 2, 2, 0, 2, 0, 0, 0, 0, 2,\n",
       "       0, 0, 1, 2, 2, 2, 3, 0, 2, 0, 2, 0, 2, 3, 3, 3, 2, 0, 2, 2, 2, 2,\n",
       "       0, 2, 2, 2, 0, 1, 2, 2, 2, 2, 2, 1, 2, 0, 3, 0, 2, 2, 1, 1, 2, 0,\n",
       "       0, 0, 0, 0, 0, 2, 2, 2, 0, 2, 1, 2, 2, 0, 0, 1, 2, 3, 2, 2, 2, 0,\n",
       "       0, 2, 0, 2, 0, 3, 0, 2, 2, 0, 1, 2, 1, 2, 2])"
      ]
     },
     "execution_count": 138,
     "metadata": {},
     "output_type": "execute_result"
    }
   ],
   "source": [
    "# Batch Inference \n",
    "\n",
    "preprocessed_ds = preprocessor.transform(test_ds)\n",
    "compute = ActorPoolStrategy(min_size=1, max_size=2)\n",
    "outputs = preprocessed_ds.map_batches(predictor, batch_size=128, compute=compute)\n",
    "np.array([d[\"output\"] for d in outputs.take_all()])"
   ]
  },
  {
   "cell_type": "markdown",
   "id": "c21b670e-0f31-4188-ab4e-f030dbf0e3e3",
   "metadata": {},
   "source": [
    "#### Online Inference (Real time)\n",
    "\n",
    "While we can achieve batch inference at scale, many models will need to be served in an real-time manner where we may need to deliver predictions for many incoming requests (high throughput) with low latency. We want to use online inference for our application over batch inference because we want to quickly categorize content as they are received/submitted to our platform so that the community can discover them quickly."
   ]
  },
  {
   "cell_type": "code",
   "execution_count": 143,
   "id": "e7c4c1b9-147e-45dc-9ff2-918fd232d839",
   "metadata": {
    "tags": []
   },
   "outputs": [],
   "source": [
    "from fastapi import FastAPI\n",
    "from ray import serve\n",
    "import requests\n",
    "from starlette.requests import Request # to use as liniting in predict function"
   ]
  },
  {
   "cell_type": "code",
   "execution_count": 142,
   "id": "47ef6f3d-12db-42b1-9354-f7f53a71da2e",
   "metadata": {
    "tags": []
   },
   "outputs": [],
   "source": [
    "# Defining Fast API application \n",
    "\n",
    "app = FastAPI(\n",
    "    title= \"End to End LLM Application\",\n",
    "    description= \"Classify Label of an incoming content related to ML \",\n",
    "    version= \"0.1\"\n",
    "    )"
   ]
  },
  {
   "cell_type": "markdown",
   "id": "bb8b9525-d7de-4de9-8996-ffc128fe3499",
   "metadata": {},
   "source": [
    "> We'll start by defining our FastAPI application which involves initializing a predictor (and preprocessor) from the best checkpoint for a particular run (specified by run_id). We'll also define a predict function that will be used to make predictions on our input data."
   ]
  },
  {
   "cell_type": "markdown",
   "id": "65b609f7-a3d0-4a06-814f-e346a12faac2",
   "metadata": {},
   "source": [
    "> Ray Serve ingress along with deployment can be just used as a wrapper decorator function which will take care of serving in distributed environment "
   ]
  },
  {
   "cell_type": "code",
   "execution_count": 144,
   "id": "dae42bd4-fbe5-4727-9b9b-2b38978a20dd",
   "metadata": {
    "tags": []
   },
   "outputs": [],
   "source": [
    "# defining API call with ray Serve\n",
    "\n",
    "@serve.deployment(num_replicas=\"1\", ray_actor_options={\"num_cpus\":8, \"num_gpus\": 0})\n",
    "@serve.ingress(app) # this will include the fast api application\n",
    "class ModelDeployment:\n",
    "    def __init__(self, run_id):\n",
    "        \"\"\" Initialize the model \"\"\"\n",
    "        self.run_id = run_id\n",
    "        mlflow.set_tracking_uri(MLFLOW_TRACKING_URI) # so workers have access to model registry (all the replicas)\n",
    "        best_checkpoint = get_best_checkpoint(run_id=run_id)\n",
    "        self.predictor = TorchPredictor.from_checkpoint(best_checkpoint)\n",
    "        \n",
    "    @app.post(\"/predict/\")\n",
    "    async def _predict(self, request: Request):\n",
    "        data = await request.json()\n",
    "        sample_ds = ray.data.from_items([{\"title\": data.get(\"title\", \"\"), \"description\": data.get(\"description\", \"\"), \"tag\": \"\"}])\n",
    "        results = predict_proba(ds=sample_ds, predictor=self.predictor) # calling individual defined func which preprocess and returns predictions\n",
    "        return {\"results\": results}\n",
    "        \n",
    "    "
   ]
  },
  {
   "cell_type": "markdown",
   "id": "7fd14a34-7295-4e92-9e79-566449e7e295",
   "metadata": {},
   "source": [
    "`async def` refers to an asynchronous function (when we call the function we don't have to wait for the function to complete executing). The `await` keyword is used inside an asynchronous function to wait for the completion of the request.json() operation."
   ]
  },
  {
   "cell_type": "code",
   "execution_count": 145,
   "id": "9cc2a0fe-e4a1-4179-8a59-abe1766933c5",
   "metadata": {
    "tags": []
   },
   "outputs": [
    {
     "name": "stdout",
     "output_type": "stream",
     "text": [
      "Started detached Serve instance in namespace \"serve\".\n"
     ]
    },
    {
     "name": "stderr",
     "output_type": "stream",
     "text": [
      "\u001b[2m\u001b[36m(HTTPProxyActor pid=27216)\u001b[0m INFO 2024-01-05 11:08:36,553 http_proxy 127.0.0.1 http_proxy.py:1428 - Proxy actor be8958df3b86cabe7152d9b601000000 starting on node bd000976a47361dad3a9e25c835e5b2f07caf65050377422382204e8.\n",
      "\u001b[2m\u001b[36m(HTTPProxyActor pid=27216)\u001b[0m INFO 2024-01-05 11:08:36,567 http_proxy 127.0.0.1 http_proxy.py:1612 - Starting HTTP server on node: bd000976a47361dad3a9e25c835e5b2f07caf65050377422382204e8 listening on port 8000\n",
      "\u001b[2m\u001b[36m(HTTPProxyActor pid=27216)\u001b[0m INFO:     Started server process [27216]\n",
      "\u001b[2m\u001b[36m(ServeController pid=21440)\u001b[0m INFO 2024-01-05 11:08:36,826 controller 21440 deployment_state.py:1390 - Deploying new version of deployment ModelDeployment in application 'default'.\n",
      "\u001b[2m\u001b[36m(ServeController pid=21440)\u001b[0m INFO 2024-01-05 11:08:36,934 controller 21440 deployment_state.py:1679 - Adding 1 replica to deployment ModelDeployment in application 'default'.\n",
      "\u001b[2m\u001b[36m(ServeReplica:default:ModelDeployment pid=18588)\u001b[0m Some weights of the model checkpoint at allenai/scibert_scivocab_uncased were not used when initializing BertModel: ['cls.predictions.transform.dense.bias', 'cls.predictions.bias', 'cls.predictions.decoder.weight', 'cls.predictions.transform.LayerNorm.bias', 'cls.predictions.transform.LayerNorm.weight', 'cls.seq_relationship.weight', 'cls.predictions.transform.dense.weight', 'cls.predictions.decoder.bias', 'cls.seq_relationship.bias']\n",
      "\u001b[2m\u001b[36m(ServeReplica:default:ModelDeployment pid=18588)\u001b[0m - This IS expected if you are initializing BertModel from the checkpoint of a model trained on another task or with another architecture (e.g. initializing a BertForSequenceClassification model from a BertForPreTraining model).\n",
      "\u001b[2m\u001b[36m(ServeReplica:default:ModelDeployment pid=18588)\u001b[0m - This IS NOT expected if you are initializing BertModel from the checkpoint of a model that you expect to be exactly identical (initializing a BertForSequenceClassification model from a BertForSequenceClassification model).\n"
     ]
    },
    {
     "name": "stdout",
     "output_type": "stream",
     "text": [
      "Deployment 'ModelDeployment:QaPKri' is ready at `http://127.0.0.1:8000/`. component=serve deployment=ModelDeployment\n"
     ]
    },
    {
     "name": "stderr",
     "output_type": "stream",
     "text": [
      "2024-01-05 11:08:50,909\tINFO router.py:1132 -- Using router <class 'ray.serve._private.router.PowerOfTwoChoicesReplicaScheduler'>.\n",
      "2024-01-05 11:08:50,929\tINFO router.py:473 -- Got updated replicas for deployment 'ModelDeployment' in application 'default': {'default#ModelDeployment#RghQwX'}.\n"
     ]
    },
    {
     "data": {
      "text/plain": [
       "RayServeSyncHandle(deployment='ModelDeployment')"
      ]
     },
     "execution_count": 145,
     "metadata": {},
     "output_type": "execute_result"
    },
    {
     "name": "stderr",
     "output_type": "stream",
     "text": [
      "\u001b[2m\u001b[36m(ServeReplica:default:ModelDeployment pid=18588)\u001b[0m INFO 2024-01-05 11:09:01,188 ModelDeployment default#ModelDeployment#RghQwX 0f77b62e-d51c-40a9-986b-f48221e31531 /` default replica.py:749 - __CALL__ OK 0.0ms\n",
      "\u001b[2m\u001b[36m(ServeReplica:default:ModelDeployment pid=18588)\u001b[0m INFO 2024-01-05 11:09:01,331 ModelDeployment default#ModelDeployment#RghQwX a1717fa6-18b7-4cb6-b630-557c1eb363ea /favicon.ico default replica.py:749 - __CALL__ OK 0.0ms\n",
      "\u001b[2m\u001b[36m(ServeReplica:default:ModelDeployment pid=18588)\u001b[0m INFO 2024-01-05 11:09:05,469 ModelDeployment default#ModelDeployment#RghQwX 2890f28d-6665-43c0-8efa-88a6d6e0c6f9 /` default replica.py:749 - __CALL__ OK 1.1ms\n",
      "\u001b[2m\u001b[36m(ServeReplica:default:ModelDeployment pid=18588)\u001b[0m INFO 2024-01-05 11:09:28,405 ModelDeployment default#ModelDeployment#RghQwX 8dd54aa7-5380-4765-8115-4425e5c5a49f /` default replica.py:749 - __CALL__ OK 0.0ms\n"
     ]
    }
   ],
   "source": [
    "# running the defined service \n",
    "\n",
    "sorted_runs = mlflow.search_runs(experiment_names=[experiment_name], order_by=[\"metrics.val_loss ASC\"])\n",
    "run_id = sorted_runs.iloc[0].run_id\n",
    "serve.run(ModelDeployment.bind(run_id=run_id), route_prefix=\"/\")"
   ]
  },
  {
   "cell_type": "markdown",
   "id": "ba0f988e-7c33-485b-a915-94e814588004",
   "metadata": {},
   "source": [
    "> Now our the model is ready to serve at the endpoint `http://127.0.0.1:8000/`, we need to send an input query to get predictions. Server is up and running"
   ]
  },
  {
   "cell_type": "code",
   "execution_count": 146,
   "id": "a60df1da-7cef-4efa-9676-4333914063ad",
   "metadata": {
    "tags": []
   },
   "outputs": [
    {
     "name": "stderr",
     "output_type": "stream",
     "text": [
      "\u001b[2m\u001b[36m(ServeReplica:default:ModelDeployment pid=18588)\u001b[0m Executing DAG InputDataBuffer[Input] -> TaskPoolMapOperator[MapBatches(preprocess)->MapBatches(TorchPredictor.predict_proba)]\n",
      "\u001b[2m\u001b[36m(ServeReplica:default:ModelDeployment pid=18588)\u001b[0m Execution config: ExecutionOptions(resource_limits=ExecutionResources(cpu=None, gpu=None, object_store_memory=None), locality_with_output=False, preserve_order=False, actor_locality_enabled=True, verbose_progress=False)\n",
      "\u001b[2m\u001b[36m(ServeReplica:default:ModelDeployment pid=18588)\u001b[0m Tip: For detailed progress reporting, run `ray.data.DataContext.get_current().execution_options.verbose_progress = True`\n"
     ]
    },
    {
     "data": {
      "application/vnd.jupyter.widget-view+json": {
       "model_id": "",
       "version_major": 2,
       "version_minor": 0
      },
      "text/plain": [
       "(pid=18588) Running 0:   0%|          | 0/1 [00:00<?, ?it/s]"
      ]
     },
     "metadata": {},
     "output_type": "display_data"
    },
    {
     "data": {
      "text/plain": [
       "{'results': [{'prediction': 'natural-language-processing',\n",
       "   'probabilities': {'computer-vision': 0.00016488965775351971,\n",
       "    'mlops': 0.00033452294883318245,\n",
       "    'natural-language-processing': 0.9991569519042969,\n",
       "    'other': 0.00034365596366114914}}]}"
      ]
     },
     "execution_count": 146,
     "metadata": {},
     "output_type": "execute_result"
    },
    {
     "name": "stderr",
     "output_type": "stream",
     "text": [
      "\u001b[2m\u001b[36m(ServeReplica:default:ModelDeployment pid=18588)\u001b[0m INFO 2024-01-05 11:11:16,948 ModelDeployment default#ModelDeployment#RghQwX 8431be6a-077a-49c2-9db3-78a31b84f27c /predict/ default replica.py:749 - __CALL__ OK 2880.8ms\n"
     ]
    }
   ],
   "source": [
    "# Query\n",
    "title = \"Transfer learning with transformers\"\n",
    "description = \"Using transformers for transfer learning on text classification tasks.\"\n",
    "json_data = json.dumps({\"title\": title, \"description\": description})\n",
    "requests.post(\"http://127.0.0.1:8000/predict/\", data=json_data).json()"
   ]
  },
  {
   "cell_type": "markdown",
   "id": "8df8b5a4-ccb1-4bad-bf70-cb607f56126b",
   "metadata": {},
   "source": [
    "The issue with neural networks (and especially LLMs) is that they are notoriously overconfident. For every input, they will always make some prediction. And to account for this, we have an other class but that class only has projects that are not in our accepted tags but are still machine learning related nonetheless. Here's what happens when we input complete noise as our input:"
   ]
  },
  {
   "cell_type": "markdown",
   "id": "96141e94-7456-462b-941e-693b45ce2bed",
   "metadata": {},
   "source": [
    "Since model is trained for other class tags on some inputs which it learned but in real time, when there is a noisy input model can confuse and give us unwanted labels for the input, to avoid that we will add a threshold value and categorize those `noisy input data` into `Other category`."
   ]
  },
  {
   "cell_type": "code",
   "execution_count": 148,
   "id": "c60ad78d-2e7a-44c3-a9a7-dadff36e262b",
   "metadata": {
    "tags": []
   },
   "outputs": [
    {
     "name": "stderr",
     "output_type": "stream",
     "text": [
      "\u001b[2m\u001b[36m(ServeReplica:default:ModelDeployment pid=18588)\u001b[0m Executing DAG InputDataBuffer[Input] -> TaskPoolMapOperator[MapBatches(preprocess)->MapBatches(TorchPredictor.predict_proba)]\n",
      "\u001b[2m\u001b[36m(ServeReplica:default:ModelDeployment pid=18588)\u001b[0m Execution config: ExecutionOptions(resource_limits=ExecutionResources(cpu=None, gpu=None, object_store_memory=None), locality_with_output=False, preserve_order=False, actor_locality_enabled=True, verbose_progress=False)\n",
      "\u001b[2m\u001b[36m(ServeReplica:default:ModelDeployment pid=18588)\u001b[0m Tip: For detailed progress reporting, run `ray.data.DataContext.get_current().execution_options.verbose_progress = True`\n"
     ]
    },
    {
     "data": {
      "application/vnd.jupyter.widget-view+json": {
       "model_id": "",
       "version_major": 2,
       "version_minor": 0
      },
      "text/plain": [
       "(pid=18588) Running 0:   0%|          | 0/1 [00:00<?, ?it/s]"
      ]
     },
     "metadata": {},
     "output_type": "display_data"
    },
    {
     "data": {
      "text/plain": [
       "{'results': [{'prediction': 'natural-language-processing',\n",
       "   'probabilities': {'computer-vision': 0.00294324429705739,\n",
       "    'mlops': 0.0007734717801213264,\n",
       "    'natural-language-processing': 0.9958149790763855,\n",
       "    'other': 0.000468337326310575}}]}"
      ]
     },
     "execution_count": 148,
     "metadata": {},
     "output_type": "execute_result"
    },
    {
     "name": "stderr",
     "output_type": "stream",
     "text": [
      "\u001b[2m\u001b[36m(ServeReplica:default:ModelDeployment pid=18588)\u001b[0m INFO 2024-01-05 11:14:57,941 ModelDeployment default#ModelDeployment#RghQwX 081d2cc2-3781-414c-804a-00de19b27f56 /predict/ default replica.py:749 - __CALL__ OK 2226.7ms\n"
     ]
    }
   ],
   "source": [
    "# example Query (noise)\n",
    "title = \"this is gibberish noise\"  # random noise\n",
    "json_data = json.dumps({\"title\": title, \"description\": \"\"})\n",
    "requests.post(\"http://127.0.0.1:8000/predict/\", data=json_data).json()"
   ]
  },
  {
   "cell_type": "markdown",
   "id": "a7bd691f-5416-442d-89c0-a4d5f9d7e632",
   "metadata": {},
   "source": [
    "> SO the model is consufed and returned as NLP tag which is wrong"
   ]
  },
  {
   "cell_type": "code",
   "execution_count": 149,
   "id": "56f81102-366c-406e-8662-a61bd5708aac",
   "metadata": {
    "tags": []
   },
   "outputs": [
    {
     "name": "stderr",
     "output_type": "stream",
     "text": [
      "2024-01-05 11:15:29,846\tINFO router.py:473 -- Got updated replicas for deployment 'ModelDeployment' in application 'default': set().\n",
      "\u001b[2m\u001b[36m(ServeController pid=21440)\u001b[0m INFO 2024-01-05 11:15:29,839 controller 21440 deployment_state.py:1707 - Removing 1 replica from deployment 'ModelDeployment' in application 'default'.\n",
      "\u001b[2m\u001b[36m(ServeController pid=21440)\u001b[0m INFO 2024-01-05 11:15:32,845 controller 21440 deployment_state.py:2027 - Replica default#ModelDeployment#RghQwX is stopped.\n"
     ]
    }
   ],
   "source": [
    "# Shutdown the server \n",
    "serve.shutdown()"
   ]
  },
  {
   "cell_type": "markdown",
   "id": "53ed3707-02d6-4f0d-a50c-92c60c190533",
   "metadata": {},
   "source": [
    "#### Custom logic\n",
    "\n",
    "To make our service a bit more robust, let's add some custom logic to predict the other class if the probability of the predicted class is below a certain threshold probability."
   ]
  },
  {
   "cell_type": "code",
   "execution_count": 150,
   "id": "758174f2-ad34-4a56-b054-c5062824cd5c",
   "metadata": {
    "tags": []
   },
   "outputs": [],
   "source": [
    "@serve.deployment(num_replicas=\"1\", ray_actor_options={\"num_cpus\": 8, \"num_gpus\": 0})\n",
    "@serve.ingress(app)\n",
    "class ModelDeploymentRobust:\n",
    "    def __init__(self, run_id, threshold=0.9):\n",
    "        \"\"\"Initialize the model.\"\"\"\n",
    "        self.run_id = run_id\n",
    "        self.threshold = threshold\n",
    "        mlflow.set_tracking_uri(MLFLOW_TRACKING_URI)  # so workers have access to model registry\n",
    "        best_checkpoint = get_best_checkpoint(run_id=run_id)\n",
    "        self.predictor = TorchPredictor.from_checkpoint(best_checkpoint)\n",
    "\n",
    "    @app.post(\"/predict/\")\n",
    "    async def _predict(self, request: Request):\n",
    "        data = await request.json()\n",
    "        sample_ds = ray.data.from_items([{\"title\": data.get(\"title\", \"\"), \"description\": data.get(\"description\", \"\"), \"tag\": \"\"}])\n",
    "        results = predict_proba(ds=sample_ds, predictor=self.predictor)\n",
    "        \n",
    "        # Apply custom logic\n",
    "        for i, result in enumerate(results):\n",
    "            pred = result[\"prediction\"]\n",
    "            prob = result[\"probabilities\"]\n",
    "            if prob[pred] < self.threshold:\n",
    "                results[i][\"prediction\"] = \"other\"\n",
    "\n",
    "        return {\"results\": results}"
   ]
  },
  {
   "cell_type": "code",
   "execution_count": 151,
   "id": "e2c51552-c1e7-4e51-b760-051ce83eada7",
   "metadata": {
    "tags": []
   },
   "outputs": [
    {
     "name": "stderr",
     "output_type": "stream",
     "text": [
      "\u001b[2m\u001b[36m(ServeController pid=24964)\u001b[0m INFO 2024-01-05 11:16:55,239 controller 24964 application_state.py:183 - Recovering target state for application 'default' from checkpoint.\n"
     ]
    },
    {
     "name": "stdout",
     "output_type": "stream",
     "text": [
      "Started detached Serve instance in namespace \"serve\".\n"
     ]
    },
    {
     "name": "stderr",
     "output_type": "stream",
     "text": [
      "\u001b[2m\u001b[36m(HTTPProxyActor pid=16936)\u001b[0m INFO 2024-01-05 11:16:58,670 http_proxy 127.0.0.1 http_proxy.py:1428 - Proxy actor 329b1590115e73b92ae3886c01000000 starting on node bd000976a47361dad3a9e25c835e5b2f07caf65050377422382204e8.\n",
      "\u001b[2m\u001b[36m(HTTPProxyActor pid=16936)\u001b[0m INFO 2024-01-05 11:16:58,679 http_proxy 127.0.0.1 http_proxy.py:1612 - Starting HTTP server on node: bd000976a47361dad3a9e25c835e5b2f07caf65050377422382204e8 listening on port 8000\n",
      "\u001b[2m\u001b[36m(HTTPProxyActor pid=16936)\u001b[0m INFO:     Started server process [16936]\n",
      "\u001b[2m\u001b[36m(ServeController pid=24964)\u001b[0m INFO 2024-01-05 11:16:58,891 controller 24964 deployment_state.py:1390 - Deploying new version of deployment ModelDeploymentRobust in application 'default'.\n",
      "\u001b[2m\u001b[36m(ServeController pid=24964)\u001b[0m INFO 2024-01-05 11:16:58,998 controller 24964 deployment_state.py:1679 - Adding 1 replica to deployment ModelDeploymentRobust in application 'default'.\n",
      "\u001b[2m\u001b[36m(ServeReplica:default:ModelDeploymentRobust pid=2172)\u001b[0m Some weights of the model checkpoint at allenai/scibert_scivocab_uncased were not used when initializing BertModel: ['cls.predictions.transform.LayerNorm.bias', 'cls.predictions.bias', 'cls.predictions.transform.dense.weight', 'cls.predictions.transform.dense.bias', 'cls.predictions.decoder.bias', 'cls.seq_relationship.bias', 'cls.seq_relationship.weight', 'cls.predictions.transform.LayerNorm.weight', 'cls.predictions.decoder.weight']\n",
      "\u001b[2m\u001b[36m(ServeReplica:default:ModelDeploymentRobust pid=2172)\u001b[0m - This IS expected if you are initializing BertModel from the checkpoint of a model trained on another task or with another architecture (e.g. initializing a BertForSequenceClassification model from a BertForPreTraining model).\n",
      "\u001b[2m\u001b[36m(ServeReplica:default:ModelDeploymentRobust pid=2172)\u001b[0m - This IS NOT expected if you are initializing BertModel from the checkpoint of a model that you expect to be exactly identical (initializing a BertForSequenceClassification model from a BertForSequenceClassification model).\n"
     ]
    },
    {
     "name": "stdout",
     "output_type": "stream",
     "text": [
      "Deployment 'ModelDeploymentRobust:VTpHFh' is ready at `http://127.0.0.1:8000/`. component=serve deployment=ModelDeploymentRobust\n"
     ]
    },
    {
     "name": "stderr",
     "output_type": "stream",
     "text": [
      "2024-01-05 11:17:09,961\tINFO router.py:1132 -- Using router <class 'ray.serve._private.router.PowerOfTwoChoicesReplicaScheduler'>.\n",
      "2024-01-05 11:17:09,974\tINFO router.py:473 -- Got updated replicas for deployment 'ModelDeploymentRobust' in application 'default': {'default#ModelDeploymentRobust#JTVsgz'}.\n"
     ]
    },
    {
     "data": {
      "text/plain": [
       "RayServeSyncHandle(deployment='ModelDeploymentRobust')"
      ]
     },
     "execution_count": 151,
     "metadata": {},
     "output_type": "execute_result"
    }
   ],
   "source": [
    "# Running the service again\n",
    "\n",
    "serve.run(ModelDeploymentRobust.bind(run_id=run_id, threshold=0.9), route_prefix=\"/\")"
   ]
  },
  {
   "cell_type": "code",
   "execution_count": 152,
   "id": "5761ec4a-a74f-4d44-b45f-c49fcde0af01",
   "metadata": {
    "tags": []
   },
   "outputs": [
    {
     "name": "stderr",
     "output_type": "stream",
     "text": [
      "\u001b[2m\u001b[36m(ServeReplica:default:ModelDeploymentRobust pid=2172)\u001b[0m Executing DAG InputDataBuffer[Input] -> TaskPoolMapOperator[MapBatches(preprocess)->MapBatches(TorchPredictor.predict_proba)]\n",
      "\u001b[2m\u001b[36m(ServeReplica:default:ModelDeploymentRobust pid=2172)\u001b[0m Execution config: ExecutionOptions(resource_limits=ExecutionResources(cpu=None, gpu=None, object_store_memory=None), locality_with_output=False, preserve_order=False, actor_locality_enabled=True, verbose_progress=False)\n",
      "\u001b[2m\u001b[36m(ServeReplica:default:ModelDeploymentRobust pid=2172)\u001b[0m Tip: For detailed progress reporting, run `ray.data.DataContext.get_current().execution_options.verbose_progress = True`\n"
     ]
    },
    {
     "data": {
      "application/vnd.jupyter.widget-view+json": {
       "model_id": "",
       "version_major": 2,
       "version_minor": 0
      },
      "text/plain": [
       "(pid=2172) Running 0:   0%|          | 0/1 [00:00<?, ?it/s]"
      ]
     },
     "metadata": {},
     "output_type": "display_data"
    },
    {
     "data": {
      "text/plain": [
       "{'results': [{'prediction': 'natural-language-processing',\n",
       "   'probabilities': {'computer-vision': 0.00294324429705739,\n",
       "    'mlops': 0.0007734717801213264,\n",
       "    'natural-language-processing': 0.9958149790763855,\n",
       "    'other': 0.000468337326310575}}]}"
      ]
     },
     "execution_count": 152,
     "metadata": {},
     "output_type": "execute_result"
    },
    {
     "name": "stderr",
     "output_type": "stream",
     "text": [
      "\u001b[2m\u001b[36m(ServeReplica:default:ModelDeploymentRobust pid=2172)\u001b[0m INFO 2024-01-05 11:17:37,816 ModelDeploymentRobust default#ModelDeploymentRobust#JTVsgz 0a2e87ba-9d0a-4ca6-8c2c-029254493888 /predict/ default replica.py:749 - __CALL__ OK 1879.6ms\n"
     ]
    }
   ],
   "source": [
    "# example Query (noise)\n",
    "title = \"this is gibberish noise\"  # random noise\n",
    "json_data = json.dumps({\"title\": title, \"description\": \"\"})\n",
    "requests.post(\"http://127.0.0.1:8000/predict/\", data=json_data).json()"
   ]
  },
  {
   "cell_type": "markdown",
   "id": "4f788c31-dc97-4e45-91ee-3291c4efa4cb",
   "metadata": {},
   "source": [
    "Increading the threshold will help to reduce these kind of errors "
   ]
  },
  {
   "cell_type": "markdown",
   "id": "29fbf9db-488c-4163-aa40-654d7f6922a8",
   "metadata": {},
   "source": [
    "**Tips**\n",
    "\n",
    "> It's easier to incorporate custom logic instead of altering the model itself. This way, we won't have to collect new data. change the model's architecture or retrain it. This also makes it really easy to change the custom logic as our product specifications may change (clean separation of product and machine learning)."
   ]
  },
  {
   "cell_type": "code",
   "execution_count": 153,
   "id": "b933d915-5de3-4e7e-a1b9-903906427d60",
   "metadata": {
    "tags": []
   },
   "outputs": [
    {
     "name": "stderr",
     "output_type": "stream",
     "text": [
      "2024-01-05 11:19:17,392\tINFO router.py:473 -- Got updated replicas for deployment 'ModelDeploymentRobust' in application 'default': set().\n",
      "\u001b[2m\u001b[36m(ServeController pid=24964)\u001b[0m INFO 2024-01-05 11:19:17,387 controller 24964 deployment_state.py:1707 - Removing 1 replica from deployment 'ModelDeploymentRobust' in application 'default'.\n",
      "\u001b[2m\u001b[36m(ServeController pid=24964)\u001b[0m INFO 2024-01-05 11:19:19,635 controller 24964 deployment_state.py:2027 - Replica default#ModelDeploymentRobust#JTVsgz is stopped.\n"
     ]
    }
   ],
   "source": [
    "# Shutdown\n",
    "serve.shutdown()"
   ]
  },
  {
   "cell_type": "code",
   "execution_count": null,
   "id": "4b19841a-13f6-47be-bd46-0f00f3997821",
   "metadata": {},
   "outputs": [],
   "source": []
  }
 ],
 "metadata": {
  "kernelspec": {
   "display_name": "Python 3 (ipykernel)",
   "language": "python",
   "name": "python3"
  },
  "language_info": {
   "codemirror_mode": {
    "name": "ipython",
    "version": 3
   },
   "file_extension": ".py",
   "mimetype": "text/x-python",
   "name": "python",
   "nbconvert_exporter": "python",
   "pygments_lexer": "ipython3",
   "version": "3.10.11"
  }
 },
 "nbformat": 4,
 "nbformat_minor": 5
}
